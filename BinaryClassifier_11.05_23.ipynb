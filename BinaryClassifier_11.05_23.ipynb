{
 "cells": [
  {
   "cell_type": "code",
   "execution_count": 6,
   "metadata": {},
   "outputs": [],
   "source": [
    "import numpy as np\n",
    "import pandas as pd\n",
    "import seaborn as sns\n",
    "from tqdm.notebook import tqdm\n",
    "\n",
    "import random\n",
    "import torch\n",
    "import torch.nn as nn\n",
    "import torch.optim as optim\n",
    "from torch.utils.data import Dataset, DataLoader, WeightedRandomSampler\n",
    "\n",
    "from sklearn.preprocessing import MinMaxScaler    \n",
    "from sklearn.model_selection import train_test_split\n",
    "from sklearn.metrics import confusion_matrix, classification_report"
   ]
  },
  {
   "cell_type": "code",
   "execution_count": 7,
   "metadata": {},
   "outputs": [],
   "source": [
    "#make a random array, x[0] = 1, x[i] = x[i-1] + random.uniform(-1, 1)\n",
    "def random_array(M):\n",
    "    random.seed(42)\n",
    "    N=1024\n",
    "    x = range(N)\n",
    "    y = np.zeros(N*M)\n",
    "    y[0] = 1\n",
    "    for i in range(1, N*M):\n",
    "        y[i] = y[i-1] + random.uniform(-1, 1)\n",
    "    \n",
    "    return y"
   ]
  },
  {
   "cell_type": "code",
   "execution_count": 55,
   "metadata": {},
   "outputs": [],
   "source": [
    "#local maxima/minima of random_array M*1024 \n",
    "#with distance between extrema > 3\n",
    "#changing MAXs and MINs\n",
    "#with T*std so that there are approx. 10 extrema in N=1024\n",
    "\n",
    "def extrema(arr, M=3000):\n",
    "    #arr = random_array(M)\n",
    "    #flag variable\n",
    "    found_min = False\n",
    "    found = False\n",
    "    #1/4 of std \n",
    "    x = 3\n",
    "    T = 0.6\n",
    "    Y_last = 0\n",
    "    #distance between extrema >3\n",
    "    dist = x+1\n",
    "    Ymax = np.zeros(len(arr))\n",
    "    Ymin = np.zeros(len(arr))\n",
    "    #T*std\n",
    "    D = T*np.std(arr[:-(len(arr)-1)] - arr[0:])\n",
    "    for i in range(1, len(arr)-1):\n",
    "        #print(D)\n",
    "        #dist > 3 \n",
    "        if dist > x:\n",
    "            #decides to start with MAX or MIN at the beginning of the search\n",
    "            if found_min or not found:\n",
    "                if arr[i] > arr[i-1] and arr[i] > arr[i+1]:\n",
    "                    #whether or not the difference between the last extremum and a new one is more than T.std\n",
    "                    if np.abs(arr[i] - Y_last) >=D:\n",
    "                        dist = 1\n",
    "                        Ymax[i] = 1\n",
    "                        found = True\n",
    "                        found_min = False\n",
    "                        Y_last = arr[i]\n",
    "                    else:\n",
    "                        i+=1\n",
    "                    \n",
    "            if not found_min or not found:\n",
    "                if arr[i] < arr[i-1] and arr[i] < arr[i+1]:\n",
    "                    if np.abs(arr[i] - Y_last) >= D:\n",
    "                        dist = 1\n",
    "                        Ymin[i] = 1\n",
    "                        found = True\n",
    "                        found_min = True\n",
    "                        Y_last = arr[i]\n",
    "                    else:\n",
    "                        i+=1\n",
    "        else:\n",
    "            dist+=1\n",
    "    #Y_mean = the number of extrema in N=1024       \n",
    "    Y_mean = np.sum(np.r_[Ymax, Ymin])/M\n",
    "    return Ymax, Ymin, Y_mean"
   ]
  },
  {
   "cell_type": "code",
   "execution_count": 56,
   "metadata": {},
   "outputs": [],
   "source": [
    "x = random_array(1)\n",
    "X = x.reshape(-1, 1)\n",
    "y, ymin, ymean = extrema(x, 1)"
   ]
  },
  {
   "cell_type": "code",
   "execution_count": 64,
   "metadata": {},
   "outputs": [
    {
     "data": {
      "text/plain": [
       "5.0"
      ]
     },
     "execution_count": 64,
     "metadata": {},
     "output_type": "execute_result"
    }
   ],
   "source": [
    "np.sum(y)"
   ]
  },
  {
   "cell_type": "code",
   "execution_count": 59,
   "metadata": {},
   "outputs": [],
   "source": [
    "\n",
    "# Train - Test\n",
    "X_trainval, X_test, y_trainval, y_test = train_test_split(X, y, test_size=0.2, stratify=y, random_state=69)\n",
    "\n",
    "# Split train into train-val\n",
    "X_train, X_val, y_train, y_val = train_test_split(X_trainval, y_trainval, test_size=0.1, stratify=y_trainval, random_state=21)"
   ]
  },
  {
   "cell_type": "code",
   "execution_count": 60,
   "metadata": {},
   "outputs": [],
   "source": [
    "class ClassifierDataset(Dataset):\n",
    "    \n",
    "    def __init__(self, X_data, y_data):\n",
    "        self.X_data = X_data\n",
    "        self.y_data = y_data\n",
    "        \n",
    "    def __getitem__(self, index):\n",
    "        return self.X_data[index], self.y_data[index]\n",
    "        \n",
    "    def __len__ (self):\n",
    "        return len(self.X_data)\n",
    "\n",
    "\n",
    "train_dataset = ClassifierDataset(torch.from_numpy(X_train).float(), torch.from_numpy(y_train).long())\n",
    "val_dataset = ClassifierDataset(torch.from_numpy(X_val).float(), torch.from_numpy(y_val).long())\n",
    "test_dataset = ClassifierDataset(torch.from_numpy(X_test).float(), torch.from_numpy(y_test).long())"
   ]
  },
  {
   "cell_type": "code",
   "execution_count": 61,
   "metadata": {},
   "outputs": [],
   "source": [
    "def get_class_distribution(obj):\n",
    "    count_dict = {\n",
    "        0: 0,\n",
    "        1: 0\n",
    "    }\n",
    "    \n",
    "    for i in obj:\n",
    "        if i == 0: \n",
    "            count_dict[0] += 1\n",
    "        elif i == 1: \n",
    "            count_dict[1] += 1\n",
    "        else:\n",
    "            print(\"Check classes.\")\n",
    "            \n",
    "    return count_dict"
   ]
  },
  {
   "cell_type": "code",
   "execution_count": 62,
   "metadata": {},
   "outputs": [
    {
     "name": "stdout",
     "output_type": "stream",
     "text": [
      "Train: {0: 733, 1: 4}\n",
      "Test : {0: 204, 1: 1}\n",
      "Val  : {0: 82, 1: 0}\n"
     ]
    }
   ],
   "source": [
    "print(\"Train:\", get_class_distribution(y_train))\n",
    "print(\"Test :\", get_class_distribution(y_test))\n",
    "print(\"Val  :\", get_class_distribution(y_val))"
   ]
  },
  {
   "cell_type": "code",
   "execution_count": 65,
   "metadata": {},
   "outputs": [],
   "source": [
    "target_list = []\n",
    "\n",
    "for _, t in train_dataset:\n",
    "    target_list.append(t)\n",
    "    \n",
    "target_list = torch.tensor(target_list)\n",
    "target_list = target_list[torch.randperm(len(target_list))]"
   ]
  },
  {
   "cell_type": "code",
   "execution_count": 66,
   "metadata": {},
   "outputs": [
    {
     "data": {
      "text/plain": [
       "tensor([0.0014, 0.2500])"
      ]
     },
     "execution_count": 66,
     "metadata": {},
     "output_type": "execute_result"
    }
   ],
   "source": [
    "class_count = [i for i in get_class_distribution(y_train).values()]\n",
    "class_weights = 1./torch.tensor(class_count, dtype=torch.float) \n",
    "class_weights"
   ]
  },
  {
   "cell_type": "code",
   "execution_count": 67,
   "metadata": {},
   "outputs": [],
   "source": [
    "class_weights_all = class_weights[target_list]\n"
   ]
  },
  {
   "cell_type": "code",
   "execution_count": 68,
   "metadata": {},
   "outputs": [],
   "source": [
    "weighted_sampler = WeightedRandomSampler(\n",
    "    weights=class_weights_all,\n",
    "    num_samples=len(class_weights_all),\n",
    "    replacement=True\n",
    ")"
   ]
  },
  {
   "cell_type": "code",
   "execution_count": 102,
   "metadata": {},
   "outputs": [],
   "source": [
    "EPOCHS = 300\n",
    "BATCH_SIZE = 64\n",
    "LEARNING_RATE = 0.001"
   ]
  },
  {
   "cell_type": "code",
   "execution_count": 103,
   "metadata": {},
   "outputs": [],
   "source": [
    "train_loader = DataLoader(dataset=train_dataset, batch_size=BATCH_SIZE, sampler=weighted_sampler)\n",
    "val_loader = DataLoader(dataset=val_dataset, batch_size=1)\n",
    "test_loader = DataLoader(dataset=test_dataset, batch_size=1)"
   ]
  },
  {
   "cell_type": "code",
   "execution_count": 104,
   "metadata": {},
   "outputs": [],
   "source": [
    "class BinaryClassification(nn.Module):\n",
    "    def __init__(self):\n",
    "        super(BinaryClassification, self).__init__()\n",
    "        \n",
    "        self.layer_1 = nn.Linear(1, 32) # Number of input features is 12.\n",
    "        self.layer_out = nn.Linear(32, 2) \n",
    "        \n",
    "        self.lrelu = nn.LeakyReLU()\n",
    "        self.dropout = nn.Dropout(p=0.1)\n",
    "        self.batchnorm = nn.BatchNorm1d(32)\n",
    "        \n",
    "    def forward(self, x):\n",
    "        x = self.layer_1(x)\n",
    "        x = self.batchnorm(x)\n",
    "        x = self.lrelu(x)\n",
    "        x = self.layer_out(x)\n",
    "        \n",
    "        return x"
   ]
  },
  {
   "cell_type": "code",
   "execution_count": 105,
   "metadata": {},
   "outputs": [
    {
     "name": "stdout",
     "output_type": "stream",
     "text": [
      "cpu\n"
     ]
    }
   ],
   "source": [
    "device = torch.device(\"cuda:0\" if torch.cuda.is_available() else \"cpu\")\n",
    "print(device)"
   ]
  },
  {
   "cell_type": "code",
   "execution_count": 106,
   "metadata": {},
   "outputs": [
    {
     "name": "stdout",
     "output_type": "stream",
     "text": [
      "BinaryClassification(\n",
      "  (layer_1): Linear(in_features=1, out_features=32, bias=True)\n",
      "  (layer_out): Linear(in_features=32, out_features=2, bias=True)\n",
      "  (lrelu): LeakyReLU(negative_slope=0.01)\n",
      "  (dropout): Dropout(p=0.1, inplace=False)\n",
      "  (batchnorm): BatchNorm1d(32, eps=1e-05, momentum=0.1, affine=True, track_running_stats=True)\n",
      ")\n"
     ]
    }
   ],
   "source": [
    "model = BinaryClassification()\n",
    "model.to(device)\n",
    "\n",
    "print(model)\n",
    "\n",
    "criterion = nn.CrossEntropyLoss()\n",
    "optimizer = optim.Adam(model.parameters(), lr=LEARNING_RATE)"
   ]
  },
  {
   "cell_type": "code",
   "execution_count": 107,
   "metadata": {},
   "outputs": [],
   "source": [
    "def binary_acc(y_pred, y_test):\n",
    "    y_pred_tag = torch.log_softmax(y_pred, dim = 1)\n",
    "    _, y_pred_tags = torch.max(y_pred_tag, dim = 1)\n",
    "    \n",
    "    correct_results_sum = (y_pred_tags == y_test).sum().float()\n",
    "    \n",
    "    acc = correct_results_sum/y_test.shape[0]\n",
    "    acc = torch.round(acc * 100)\n",
    "    \n",
    "    return acc"
   ]
  },
  {
   "cell_type": "code",
   "execution_count": 108,
   "metadata": {},
   "outputs": [],
   "source": [
    "accuracy_stats = {\n",
    "    'train': [],\n",
    "    \"val\": []\n",
    "}\n",
    "\n",
    "loss_stats = {\n",
    "    'train': [],\n",
    "    \"val\": []\n",
    "}"
   ]
  },
  {
   "cell_type": "code",
   "execution_count": 109,
   "metadata": {},
   "outputs": [
    {
     "name": "stdout",
     "output_type": "stream",
     "text": [
      "Begin training.\n"
     ]
    },
    {
     "data": {
      "application/vnd.jupyter.widget-view+json": {
       "model_id": "f9785efc267447ae84c9a8b9573004bc",
       "version_major": 2,
       "version_minor": 0
      },
      "text/plain": [
       "HBox(children=(FloatProgress(value=0.0, max=300.0), HTML(value='')))"
      ]
     },
     "metadata": {},
     "output_type": "display_data"
    },
    {
     "name": "stdout",
     "output_type": "stream",
     "text": [
      "Epoch 001: | Train Loss: 0.59836 | Val Loss: 0.47446 | Train Acc: 70.833| Val Acc: 100.000\n",
      "Epoch 002: | Train Loss: 0.44363 | Val Loss: 0.35281 | Train Acc: 99.667| Val Acc: 100.000\n",
      "Epoch 003: | Train Loss: 0.33462 | Val Loss: 0.25644 | Train Acc: 99.500| Val Acc: 100.000\n",
      "Epoch 004: | Train Loss: 0.26990 | Val Loss: 0.20347 | Train Acc: 99.500| Val Acc: 100.000\n",
      "Epoch 005: | Train Loss: 0.22137 | Val Loss: 0.17209 | Train Acc: 99.667| Val Acc: 100.000\n",
      "Epoch 006: | Train Loss: 0.20023 | Val Loss: 0.13987 | Train Acc: 99.417| Val Acc: 100.000\n",
      "Epoch 007: | Train Loss: 0.17177 | Val Loss: 0.12008 | Train Acc: 99.333| Val Acc: 100.000\n",
      "Epoch 008: | Train Loss: 0.14887 | Val Loss: 0.11855 | Train Acc: 100.000| Val Acc: 100.000\n",
      "Epoch 009: | Train Loss: 0.14869 | Val Loss: 0.11078 | Train Acc: 99.500| Val Acc: 100.000\n",
      "Epoch 010: | Train Loss: 0.13477 | Val Loss: 0.09551 | Train Acc: 99.500| Val Acc: 100.000\n",
      "Epoch 011: | Train Loss: 0.11255 | Val Loss: 0.08123 | Train Acc: 99.833| Val Acc: 100.000\n",
      "Epoch 012: | Train Loss: 0.10718 | Val Loss: 0.07479 | Train Acc: 99.500| Val Acc: 100.000\n",
      "Epoch 013: | Train Loss: 0.09175 | Val Loss: 0.06627 | Train Acc: 99.833| Val Acc: 100.000\n",
      "Epoch 014: | Train Loss: 0.09213 | Val Loss: 0.06226 | Train Acc: 99.667| Val Acc: 100.000\n",
      "Epoch 015: | Train Loss: 0.09043 | Val Loss: 0.05732 | Train Acc: 99.667| Val Acc: 100.000\n",
      "Epoch 016: | Train Loss: 0.08104 | Val Loss: 0.05380 | Train Acc: 99.667| Val Acc: 100.000\n",
      "Epoch 017: | Train Loss: 0.08227 | Val Loss: 0.04924 | Train Acc: 99.417| Val Acc: 100.000\n",
      "Epoch 018: | Train Loss: 0.06070 | Val Loss: 0.04291 | Train Acc: 99.833| Val Acc: 100.000\n",
      "Epoch 019: | Train Loss: 0.07015 | Val Loss: 0.04090 | Train Acc: 99.667| Val Acc: 100.000\n",
      "Epoch 020: | Train Loss: 0.06859 | Val Loss: 0.03777 | Train Acc: 99.667| Val Acc: 100.000\n",
      "Epoch 021: | Train Loss: 0.07165 | Val Loss: 0.03269 | Train Acc: 99.417| Val Acc: 100.000\n",
      "Epoch 022: | Train Loss: 0.05635 | Val Loss: 0.03272 | Train Acc: 99.667| Val Acc: 100.000\n",
      "Epoch 023: | Train Loss: 0.05343 | Val Loss: 0.03008 | Train Acc: 99.667| Val Acc: 100.000\n",
      "Epoch 024: | Train Loss: 0.05931 | Val Loss: 0.02814 | Train Acc: 99.417| Val Acc: 100.000\n",
      "Epoch 025: | Train Loss: 0.06883 | Val Loss: 0.02623 | Train Acc: 99.417| Val Acc: 100.000\n",
      "Epoch 026: | Train Loss: 0.04869 | Val Loss: 0.02561 | Train Acc: 99.667| Val Acc: 100.000\n",
      "Epoch 027: | Train Loss: 0.04198 | Val Loss: 0.02410 | Train Acc: 99.833| Val Acc: 100.000\n",
      "Epoch 028: | Train Loss: 0.02975 | Val Loss: 0.02026 | Train Acc: 100.000| Val Acc: 100.000\n",
      "Epoch 029: | Train Loss: 0.04180 | Val Loss: 0.01876 | Train Acc: 99.667| Val Acc: 100.000\n",
      "Epoch 030: | Train Loss: 0.04291 | Val Loss: 0.01798 | Train Acc: 99.667| Val Acc: 100.000\n",
      "Epoch 031: | Train Loss: 0.03005 | Val Loss: 0.01685 | Train Acc: 99.833| Val Acc: 100.000\n",
      "Epoch 032: | Train Loss: 0.04329 | Val Loss: 0.01652 | Train Acc: 99.500| Val Acc: 100.000\n",
      "Epoch 033: | Train Loss: 0.02950 | Val Loss: 0.01552 | Train Acc: 99.833| Val Acc: 100.000\n",
      "Epoch 034: | Train Loss: 0.03729 | Val Loss: 0.01467 | Train Acc: 99.667| Val Acc: 100.000\n",
      "Epoch 035: | Train Loss: 0.03596 | Val Loss: 0.01465 | Train Acc: 99.667| Val Acc: 100.000\n",
      "Epoch 036: | Train Loss: 0.05397 | Val Loss: 0.01322 | Train Acc: 99.333| Val Acc: 100.000\n",
      "Epoch 037: | Train Loss: 0.03344 | Val Loss: 0.01245 | Train Acc: 99.667| Val Acc: 100.000\n",
      "Epoch 038: | Train Loss: 0.06534 | Val Loss: 0.01240 | Train Acc: 99.250| Val Acc: 100.000\n",
      "Epoch 039: | Train Loss: 0.03209 | Val Loss: 0.01234 | Train Acc: 99.667| Val Acc: 100.000\n",
      "Epoch 040: | Train Loss: 0.02317 | Val Loss: 0.01130 | Train Acc: 99.833| Val Acc: 100.000\n",
      "Epoch 041: | Train Loss: 0.02889 | Val Loss: 0.01057 | Train Acc: 99.667| Val Acc: 100.000\n",
      "Epoch 042: | Train Loss: 0.02993 | Val Loss: 0.01015 | Train Acc: 99.667| Val Acc: 100.000\n",
      "Epoch 043: | Train Loss: 0.01219 | Val Loss: 0.00983 | Train Acc: 100.000| Val Acc: 100.000\n",
      "Epoch 044: | Train Loss: 0.02860 | Val Loss: 0.00906 | Train Acc: 99.667| Val Acc: 100.000\n",
      "Epoch 045: | Train Loss: 0.04007 | Val Loss: 0.00875 | Train Acc: 99.417| Val Acc: 100.000\n",
      "Epoch 046: | Train Loss: 0.01981 | Val Loss: 0.00871 | Train Acc: 99.833| Val Acc: 100.000\n",
      "Epoch 047: | Train Loss: 0.02392 | Val Loss: 0.00841 | Train Acc: 99.667| Val Acc: 100.000\n",
      "Epoch 048: | Train Loss: 0.04286 | Val Loss: 0.00809 | Train Acc: 99.333| Val Acc: 100.000\n",
      "Epoch 049: | Train Loss: 0.04819 | Val Loss: 0.00771 | Train Acc: 99.417| Val Acc: 100.000\n",
      "Epoch 050: | Train Loss: 0.02212 | Val Loss: 0.00735 | Train Acc: 99.833| Val Acc: 100.000\n",
      "Epoch 051: | Train Loss: 0.04772 | Val Loss: 0.00720 | Train Acc: 99.333| Val Acc: 100.000\n",
      "Epoch 052: | Train Loss: 0.02069 | Val Loss: 0.00695 | Train Acc: 99.833| Val Acc: 100.000\n",
      "Epoch 053: | Train Loss: 0.03137 | Val Loss: 0.00652 | Train Acc: 99.667| Val Acc: 100.000\n",
      "Epoch 054: | Train Loss: 0.01627 | Val Loss: 0.00642 | Train Acc: 99.833| Val Acc: 100.000\n",
      "Epoch 055: | Train Loss: 0.00850 | Val Loss: 0.00651 | Train Acc: 100.000| Val Acc: 100.000\n",
      "Epoch 056: | Train Loss: 0.03042 | Val Loss: 0.00652 | Train Acc: 99.583| Val Acc: 100.000\n",
      "Epoch 057: | Train Loss: 0.04278 | Val Loss: 0.00622 | Train Acc: 99.417| Val Acc: 100.000\n",
      "Epoch 058: | Train Loss: 0.03451 | Val Loss: 0.00600 | Train Acc: 99.500| Val Acc: 100.000\n",
      "Epoch 059: | Train Loss: 0.00786 | Val Loss: 0.00565 | Train Acc: 100.000| Val Acc: 100.000\n",
      "Epoch 060: | Train Loss: 0.01496 | Val Loss: 0.00545 | Train Acc: 99.833| Val Acc: 100.000\n",
      "Epoch 061: | Train Loss: 0.02625 | Val Loss: 0.00512 | Train Acc: 99.750| Val Acc: 100.000\n",
      "Epoch 062: | Train Loss: 0.03820 | Val Loss: 0.00514 | Train Acc: 99.583| Val Acc: 100.000\n",
      "Epoch 063: | Train Loss: 0.03685 | Val Loss: 0.00519 | Train Acc: 99.333| Val Acc: 100.000\n",
      "Epoch 064: | Train Loss: 0.02503 | Val Loss: 0.00480 | Train Acc: 99.667| Val Acc: 100.000\n",
      "Epoch 065: | Train Loss: 0.02084 | Val Loss: 0.00508 | Train Acc: 99.667| Val Acc: 100.000\n",
      "Epoch 066: | Train Loss: 0.02452 | Val Loss: 0.00503 | Train Acc: 99.667| Val Acc: 100.000\n",
      "Epoch 067: | Train Loss: 0.04273 | Val Loss: 0.00478 | Train Acc: 99.417| Val Acc: 100.000\n",
      "Epoch 068: | Train Loss: 0.01872 | Val Loss: 0.00513 | Train Acc: 99.833| Val Acc: 100.000\n",
      "Epoch 069: | Train Loss: 0.01310 | Val Loss: 0.00479 | Train Acc: 99.833| Val Acc: 100.000\n",
      "Epoch 070: | Train Loss: 0.01449 | Val Loss: 0.00457 | Train Acc: 99.833| Val Acc: 100.000\n",
      "Epoch 071: | Train Loss: 0.01380 | Val Loss: 0.00453 | Train Acc: 99.833| Val Acc: 100.000\n",
      "Epoch 072: | Train Loss: 0.02842 | Val Loss: 0.00401 | Train Acc: 99.667| Val Acc: 100.000\n",
      "Epoch 073: | Train Loss: 0.03563 | Val Loss: 0.00418 | Train Acc: 99.583| Val Acc: 100.000\n",
      "Epoch 074: | Train Loss: 0.02070 | Val Loss: 0.00430 | Train Acc: 99.750| Val Acc: 100.000\n",
      "Epoch 075: | Train Loss: 0.02684 | Val Loss: 0.00383 | Train Acc: 99.750| Val Acc: 100.000\n",
      "Epoch 076: | Train Loss: 0.02598 | Val Loss: 0.00414 | Train Acc: 99.667| Val Acc: 100.000\n",
      "Epoch 077: | Train Loss: 0.02486 | Val Loss: 0.00392 | Train Acc: 99.667| Val Acc: 100.000\n",
      "Epoch 078: | Train Loss: 0.01320 | Val Loss: 0.00391 | Train Acc: 99.833| Val Acc: 100.000\n",
      "Epoch 079: | Train Loss: 0.00454 | Val Loss: 0.00356 | Train Acc: 100.000| Val Acc: 100.000\n",
      "Epoch 080: | Train Loss: 0.02580 | Val Loss: 0.00345 | Train Acc: 99.667| Val Acc: 100.000\n",
      "Epoch 081: | Train Loss: 0.01353 | Val Loss: 0.00341 | Train Acc: 99.833| Val Acc: 100.000\n",
      "Epoch 082: | Train Loss: 0.02417 | Val Loss: 0.00351 | Train Acc: 99.667| Val Acc: 100.000\n",
      "Epoch 083: | Train Loss: 0.02876 | Val Loss: 0.00351 | Train Acc: 99.500| Val Acc: 100.000\n",
      "Epoch 084: | Train Loss: 0.02320 | Val Loss: 0.00341 | Train Acc: 99.667| Val Acc: 100.000\n",
      "Epoch 085: | Train Loss: 0.02209 | Val Loss: 0.00345 | Train Acc: 99.667| Val Acc: 100.000\n",
      "Epoch 086: | Train Loss: 0.03057 | Val Loss: 0.00367 | Train Acc: 99.500| Val Acc: 100.000\n",
      "Epoch 087: | Train Loss: 0.04140 | Val Loss: 0.00404 | Train Acc: 99.417| Val Acc: 100.000\n",
      "Epoch 088: | Train Loss: 0.05577 | Val Loss: 0.00373 | Train Acc: 99.250| Val Acc: 100.000\n",
      "Epoch 089: | Train Loss: 0.01212 | Val Loss: 0.00337 | Train Acc: 99.833| Val Acc: 100.000\n",
      "Epoch 090: | Train Loss: 0.01213 | Val Loss: 0.00330 | Train Acc: 99.833| Val Acc: 100.000\n"
     ]
    },
    {
     "name": "stdout",
     "output_type": "stream",
     "text": [
      "Epoch 091: | Train Loss: 0.01369 | Val Loss: 0.00353 | Train Acc: 99.833| Val Acc: 100.000\n",
      "Epoch 092: | Train Loss: 0.03160 | Val Loss: 0.00338 | Train Acc: 99.500| Val Acc: 100.000\n",
      "Epoch 093: | Train Loss: 0.03445 | Val Loss: 0.00354 | Train Acc: 99.500| Val Acc: 100.000\n",
      "Epoch 094: | Train Loss: 0.03905 | Val Loss: 0.00341 | Train Acc: 99.417| Val Acc: 100.000\n",
      "Epoch 095: | Train Loss: 0.00394 | Val Loss: 0.00350 | Train Acc: 100.000| Val Acc: 100.000\n",
      "Epoch 096: | Train Loss: 0.03823 | Val Loss: 0.00347 | Train Acc: 99.417| Val Acc: 100.000\n",
      "Epoch 097: | Train Loss: 0.03061 | Val Loss: 0.00347 | Train Acc: 99.500| Val Acc: 100.000\n",
      "Epoch 098: | Train Loss: 0.02722 | Val Loss: 0.00349 | Train Acc: 99.500| Val Acc: 100.000\n",
      "Epoch 099: | Train Loss: 0.02925 | Val Loss: 0.00334 | Train Acc: 99.500| Val Acc: 100.000\n",
      "Epoch 100: | Train Loss: 0.04714 | Val Loss: 0.00393 | Train Acc: 99.250| Val Acc: 100.000\n",
      "Epoch 101: | Train Loss: 0.00442 | Val Loss: 0.00389 | Train Acc: 100.000| Val Acc: 100.000\n",
      "Epoch 102: | Train Loss: 0.01883 | Val Loss: 0.00415 | Train Acc: 99.750| Val Acc: 100.000\n",
      "Epoch 103: | Train Loss: 0.01535 | Val Loss: 0.00337 | Train Acc: 99.833| Val Acc: 100.000\n",
      "Epoch 104: | Train Loss: 0.02455 | Val Loss: 0.00297 | Train Acc: 99.750| Val Acc: 100.000\n",
      "Epoch 105: | Train Loss: 0.03009 | Val Loss: 0.00302 | Train Acc: 99.500| Val Acc: 100.000\n",
      "Epoch 106: | Train Loss: 0.00357 | Val Loss: 0.00297 | Train Acc: 100.000| Val Acc: 100.000\n",
      "Epoch 107: | Train Loss: 0.00337 | Val Loss: 0.00289 | Train Acc: 100.000| Val Acc: 100.000\n",
      "Epoch 108: | Train Loss: 0.04749 | Val Loss: 0.00287 | Train Acc: 99.167| Val Acc: 100.000\n",
      "Epoch 109: | Train Loss: 0.04387 | Val Loss: 0.00311 | Train Acc: 99.417| Val Acc: 100.000\n",
      "Epoch 110: | Train Loss: 0.01164 | Val Loss: 0.00291 | Train Acc: 99.833| Val Acc: 100.000\n",
      "Epoch 111: | Train Loss: 0.00334 | Val Loss: 0.00292 | Train Acc: 100.000| Val Acc: 100.000\n",
      "Epoch 112: | Train Loss: 0.02660 | Val Loss: 0.00268 | Train Acc: 99.500| Val Acc: 100.000\n",
      "Epoch 113: | Train Loss: 0.03251 | Val Loss: 0.00287 | Train Acc: 99.500| Val Acc: 100.000\n",
      "Epoch 114: | Train Loss: 0.00330 | Val Loss: 0.00289 | Train Acc: 100.000| Val Acc: 100.000\n",
      "Epoch 115: | Train Loss: 0.04146 | Val Loss: 0.00285 | Train Acc: 99.333| Val Acc: 100.000\n",
      "Epoch 116: | Train Loss: 0.03557 | Val Loss: 0.00319 | Train Acc: 99.333| Val Acc: 100.000\n",
      "Epoch 117: | Train Loss: 0.03071 | Val Loss: 0.00310 | Train Acc: 99.500| Val Acc: 100.000\n",
      "Epoch 118: | Train Loss: 0.01684 | Val Loss: 0.00322 | Train Acc: 99.750| Val Acc: 100.000\n",
      "Epoch 119: | Train Loss: 0.01612 | Val Loss: 0.00310 | Train Acc: 99.833| Val Acc: 100.000\n",
      "Epoch 120: | Train Loss: 0.01072 | Val Loss: 0.00307 | Train Acc: 99.833| Val Acc: 100.000\n",
      "Epoch 121: | Train Loss: 0.03318 | Val Loss: 0.00301 | Train Acc: 99.583| Val Acc: 100.000\n",
      "Epoch 122: | Train Loss: 0.01218 | Val Loss: 0.00303 | Train Acc: 99.833| Val Acc: 100.000\n",
      "Epoch 123: | Train Loss: 0.02188 | Val Loss: 0.00307 | Train Acc: 99.667| Val Acc: 100.000\n",
      "Epoch 124: | Train Loss: 0.07113 | Val Loss: 0.00341 | Train Acc: 98.833| Val Acc: 100.000\n",
      "Epoch 125: | Train Loss: 0.01238 | Val Loss: 0.00329 | Train Acc: 99.833| Val Acc: 100.000\n",
      "Epoch 126: | Train Loss: 0.00382 | Val Loss: 0.00313 | Train Acc: 100.000| Val Acc: 100.000\n",
      "Epoch 127: | Train Loss: 0.07177 | Val Loss: 0.00344 | Train Acc: 99.000| Val Acc: 100.000\n",
      "Epoch 128: | Train Loss: 0.04267 | Val Loss: 0.00377 | Train Acc: 99.167| Val Acc: 100.000\n",
      "Epoch 129: | Train Loss: 0.02207 | Val Loss: 0.00360 | Train Acc: 99.667| Val Acc: 100.000\n",
      "Epoch 130: | Train Loss: 0.02027 | Val Loss: 0.00378 | Train Acc: 99.667| Val Acc: 100.000\n",
      "Epoch 131: | Train Loss: 0.00399 | Val Loss: 0.00403 | Train Acc: 100.000| Val Acc: 100.000\n",
      "Epoch 132: | Train Loss: 0.02583 | Val Loss: 0.00375 | Train Acc: 99.500| Val Acc: 100.000\n",
      "Epoch 133: | Train Loss: 0.03359 | Val Loss: 0.00360 | Train Acc: 99.333| Val Acc: 100.000\n",
      "Epoch 134: | Train Loss: 0.00400 | Val Loss: 0.00399 | Train Acc: 100.000| Val Acc: 100.000\n",
      "Epoch 135: | Train Loss: 0.02226 | Val Loss: 0.00411 | Train Acc: 99.667| Val Acc: 100.000\n",
      "Epoch 136: | Train Loss: 0.01408 | Val Loss: 0.00366 | Train Acc: 99.833| Val Acc: 100.000\n",
      "Epoch 137: | Train Loss: 0.01051 | Val Loss: 0.00362 | Train Acc: 99.833| Val Acc: 100.000\n",
      "Epoch 138: | Train Loss: 0.02269 | Val Loss: 0.00321 | Train Acc: 99.667| Val Acc: 100.000\n",
      "Epoch 139: | Train Loss: 0.02230 | Val Loss: 0.00347 | Train Acc: 99.667| Val Acc: 100.000\n",
      "Epoch 140: | Train Loss: 0.01688 | Val Loss: 0.00340 | Train Acc: 99.667| Val Acc: 100.000\n",
      "Epoch 141: | Train Loss: 0.00331 | Val Loss: 0.00348 | Train Acc: 100.000| Val Acc: 100.000\n",
      "Epoch 142: | Train Loss: 0.01038 | Val Loss: 0.00326 | Train Acc: 99.833| Val Acc: 100.000\n",
      "Epoch 143: | Train Loss: 0.02427 | Val Loss: 0.00312 | Train Acc: 99.667| Val Acc: 100.000\n",
      "Epoch 144: | Train Loss: 0.02010 | Val Loss: 0.00315 | Train Acc: 99.667| Val Acc: 100.000\n",
      "Epoch 145: | Train Loss: 0.01417 | Val Loss: 0.00303 | Train Acc: 99.833| Val Acc: 100.000\n",
      "Epoch 146: | Train Loss: 0.05345 | Val Loss: 0.00305 | Train Acc: 99.000| Val Acc: 100.000\n",
      "Epoch 147: | Train Loss: 0.02766 | Val Loss: 0.00338 | Train Acc: 99.500| Val Acc: 100.000\n",
      "Epoch 148: | Train Loss: 0.01074 | Val Loss: 0.00333 | Train Acc: 99.833| Val Acc: 100.000\n",
      "Epoch 149: | Train Loss: 0.01907 | Val Loss: 0.00338 | Train Acc: 99.667| Val Acc: 100.000\n",
      "Epoch 150: | Train Loss: 0.09059 | Val Loss: 0.00381 | Train Acc: 98.667| Val Acc: 100.000\n",
      "Epoch 151: | Train Loss: 0.01914 | Val Loss: 0.00406 | Train Acc: 99.667| Val Acc: 100.000\n",
      "Epoch 152: | Train Loss: 0.02891 | Val Loss: 0.00412 | Train Acc: 99.500| Val Acc: 100.000\n",
      "Epoch 153: | Train Loss: 0.02577 | Val Loss: 0.00417 | Train Acc: 99.500| Val Acc: 100.000\n",
      "Epoch 154: | Train Loss: 0.01552 | Val Loss: 0.00434 | Train Acc: 99.833| Val Acc: 100.000\n",
      "Epoch 155: | Train Loss: 0.00376 | Val Loss: 0.00389 | Train Acc: 100.000| Val Acc: 100.000\n",
      "Epoch 156: | Train Loss: 0.01954 | Val Loss: 0.00342 | Train Acc: 99.667| Val Acc: 100.000\n",
      "Epoch 157: | Train Loss: 0.02214 | Val Loss: 0.00364 | Train Acc: 99.667| Val Acc: 100.000\n",
      "Epoch 158: | Train Loss: 0.01027 | Val Loss: 0.00346 | Train Acc: 99.833| Val Acc: 100.000\n",
      "Epoch 159: | Train Loss: 0.02630 | Val Loss: 0.00353 | Train Acc: 99.500| Val Acc: 100.000\n",
      "Epoch 160: | Train Loss: 0.01471 | Val Loss: 0.00369 | Train Acc: 99.833| Val Acc: 100.000\n",
      "Epoch 161: | Train Loss: 0.02459 | Val Loss: 0.00387 | Train Acc: 99.500| Val Acc: 100.000\n",
      "Epoch 162: | Train Loss: 0.02425 | Val Loss: 0.00355 | Train Acc: 99.667| Val Acc: 100.000\n",
      "Epoch 163: | Train Loss: 0.03119 | Val Loss: 0.00317 | Train Acc: 99.583| Val Acc: 100.000\n",
      "Epoch 164: | Train Loss: 0.02068 | Val Loss: 0.00283 | Train Acc: 99.667| Val Acc: 100.000\n",
      "Epoch 165: | Train Loss: 0.01052 | Val Loss: 0.00271 | Train Acc: 99.833| Val Acc: 100.000\n",
      "Epoch 166: | Train Loss: 0.05554 | Val Loss: 0.00269 | Train Acc: 99.000| Val Acc: 100.000\n",
      "Epoch 167: | Train Loss: 0.02150 | Val Loss: 0.00315 | Train Acc: 99.667| Val Acc: 100.000\n",
      "Epoch 168: | Train Loss: 0.01480 | Val Loss: 0.00349 | Train Acc: 99.833| Val Acc: 100.000\n",
      "Epoch 169: | Train Loss: 0.03599 | Val Loss: 0.00337 | Train Acc: 99.417| Val Acc: 100.000\n",
      "Epoch 170: | Train Loss: 0.04044 | Val Loss: 0.00371 | Train Acc: 99.417| Val Acc: 100.000\n",
      "Epoch 171: | Train Loss: 0.02347 | Val Loss: 0.00372 | Train Acc: 99.750| Val Acc: 100.000\n",
      "Epoch 172: | Train Loss: 0.01290 | Val Loss: 0.00350 | Train Acc: 99.833| Val Acc: 100.000\n",
      "Epoch 173: | Train Loss: 0.00382 | Val Loss: 0.00328 | Train Acc: 100.000| Val Acc: 100.000\n",
      "Epoch 174: | Train Loss: 0.00359 | Val Loss: 0.00291 | Train Acc: 100.000| Val Acc: 100.000\n",
      "Epoch 175: | Train Loss: 0.02742 | Val Loss: 0.00288 | Train Acc: 99.500| Val Acc: 100.000\n",
      "Epoch 176: | Train Loss: 0.05419 | Val Loss: 0.00310 | Train Acc: 99.000| Val Acc: 100.000\n",
      "Epoch 177: | Train Loss: 0.01934 | Val Loss: 0.00343 | Train Acc: 99.667| Val Acc: 100.000\n",
      "Epoch 178: | Train Loss: 0.02099 | Val Loss: 0.00373 | Train Acc: 99.667| Val Acc: 100.000\n",
      "Epoch 179: | Train Loss: 0.02475 | Val Loss: 0.00357 | Train Acc: 99.583| Val Acc: 100.000\n",
      "Epoch 180: | Train Loss: 0.00362 | Val Loss: 0.00345 | Train Acc: 100.000| Val Acc: 100.000\n",
      "Epoch 181: | Train Loss: 0.01309 | Val Loss: 0.00326 | Train Acc: 99.833| Val Acc: 100.000\n"
     ]
    },
    {
     "name": "stdout",
     "output_type": "stream",
     "text": [
      "Epoch 182: | Train Loss: 0.00328 | Val Loss: 0.00308 | Train Acc: 100.000| Val Acc: 100.000\n",
      "Epoch 183: | Train Loss: 0.03488 | Val Loss: 0.00300 | Train Acc: 99.333| Val Acc: 100.000\n",
      "Epoch 184: | Train Loss: 0.02073 | Val Loss: 0.00295 | Train Acc: 99.750| Val Acc: 100.000\n",
      "Epoch 185: | Train Loss: 0.02852 | Val Loss: 0.00327 | Train Acc: 99.500| Val Acc: 100.000\n",
      "Epoch 186: | Train Loss: 0.01787 | Val Loss: 0.00340 | Train Acc: 99.667| Val Acc: 100.000\n",
      "Epoch 187: | Train Loss: 0.03549 | Val Loss: 0.00351 | Train Acc: 99.417| Val Acc: 100.000\n",
      "Epoch 188: | Train Loss: 0.01800 | Val Loss: 0.00365 | Train Acc: 99.667| Val Acc: 100.000\n",
      "Epoch 189: | Train Loss: 0.03168 | Val Loss: 0.00408 | Train Acc: 99.417| Val Acc: 100.000\n",
      "Epoch 190: | Train Loss: 0.01840 | Val Loss: 0.00413 | Train Acc: 99.667| Val Acc: 100.000\n",
      "Epoch 191: | Train Loss: 0.01836 | Val Loss: 0.00401 | Train Acc: 99.667| Val Acc: 100.000\n",
      "Epoch 192: | Train Loss: 0.03794 | Val Loss: 0.00441 | Train Acc: 99.417| Val Acc: 100.000\n",
      "Epoch 193: | Train Loss: 0.00377 | Val Loss: 0.00416 | Train Acc: 100.000| Val Acc: 100.000\n",
      "Epoch 194: | Train Loss: 0.01928 | Val Loss: 0.00388 | Train Acc: 99.667| Val Acc: 100.000\n",
      "Epoch 195: | Train Loss: 0.01025 | Val Loss: 0.00379 | Train Acc: 99.833| Val Acc: 100.000\n",
      "Epoch 196: | Train Loss: 0.00332 | Val Loss: 0.00347 | Train Acc: 100.000| Val Acc: 100.000\n",
      "Epoch 197: | Train Loss: 0.00309 | Val Loss: 0.00307 | Train Acc: 100.000| Val Acc: 100.000\n",
      "Epoch 198: | Train Loss: 0.02726 | Val Loss: 0.00313 | Train Acc: 99.583| Val Acc: 100.000\n",
      "Epoch 199: | Train Loss: 0.02358 | Val Loss: 0.00314 | Train Acc: 99.667| Val Acc: 100.000\n",
      "Epoch 200: | Train Loss: 0.00276 | Val Loss: 0.00300 | Train Acc: 100.000| Val Acc: 100.000\n",
      "Epoch 201: | Train Loss: 0.01839 | Val Loss: 0.00274 | Train Acc: 99.667| Val Acc: 100.000\n",
      "Epoch 202: | Train Loss: 0.02977 | Val Loss: 0.00281 | Train Acc: 99.500| Val Acc: 100.000\n",
      "Epoch 203: | Train Loss: 0.02719 | Val Loss: 0.00312 | Train Acc: 99.500| Val Acc: 100.000\n",
      "Epoch 204: | Train Loss: 0.00975 | Val Loss: 0.00299 | Train Acc: 99.833| Val Acc: 100.000\n",
      "Epoch 205: | Train Loss: 0.00277 | Val Loss: 0.00273 | Train Acc: 100.000| Val Acc: 100.000\n",
      "Epoch 206: | Train Loss: 0.01998 | Val Loss: 0.00278 | Train Acc: 99.667| Val Acc: 100.000\n",
      "Epoch 207: | Train Loss: 0.01950 | Val Loss: 0.00259 | Train Acc: 99.750| Val Acc: 100.000\n",
      "Epoch 208: | Train Loss: 0.05510 | Val Loss: 0.00308 | Train Acc: 99.083| Val Acc: 100.000\n",
      "Epoch 209: | Train Loss: 0.03433 | Val Loss: 0.00346 | Train Acc: 99.333| Val Acc: 100.000\n",
      "Epoch 210: | Train Loss: 0.04253 | Val Loss: 0.00370 | Train Acc: 99.167| Val Acc: 100.000\n",
      "Epoch 211: | Train Loss: 0.01062 | Val Loss: 0.00385 | Train Acc: 99.833| Val Acc: 100.000\n",
      "Epoch 212: | Train Loss: 0.02041 | Val Loss: 0.00393 | Train Acc: 99.667| Val Acc: 100.000\n",
      "Epoch 213: | Train Loss: 0.01135 | Val Loss: 0.00380 | Train Acc: 99.833| Val Acc: 100.000\n",
      "Epoch 214: | Train Loss: 0.00349 | Val Loss: 0.00362 | Train Acc: 100.000| Val Acc: 100.000\n",
      "Epoch 215: | Train Loss: 0.03327 | Val Loss: 0.00349 | Train Acc: 99.417| Val Acc: 100.000\n",
      "Epoch 216: | Train Loss: 0.05156 | Val Loss: 0.00404 | Train Acc: 99.167| Val Acc: 100.000\n",
      "Epoch 217: | Train Loss: 0.03970 | Val Loss: 0.00460 | Train Acc: 99.250| Val Acc: 100.000\n",
      "Epoch 218: | Train Loss: 0.01069 | Val Loss: 0.00443 | Train Acc: 99.833| Val Acc: 100.000\n",
      "Epoch 219: | Train Loss: 0.00402 | Val Loss: 0.00424 | Train Acc: 100.000| Val Acc: 100.000\n",
      "Epoch 220: | Train Loss: 0.01088 | Val Loss: 0.00369 | Train Acc: 99.833| Val Acc: 100.000\n",
      "Epoch 221: | Train Loss: 0.00323 | Val Loss: 0.00349 | Train Acc: 100.000| Val Acc: 100.000\n",
      "Epoch 222: | Train Loss: 0.03041 | Val Loss: 0.00335 | Train Acc: 99.500| Val Acc: 100.000\n",
      "Epoch 223: | Train Loss: 0.01320 | Val Loss: 0.00326 | Train Acc: 99.833| Val Acc: 100.000\n",
      "Epoch 224: | Train Loss: 0.03281 | Val Loss: 0.00326 | Train Acc: 99.417| Val Acc: 100.000\n",
      "Epoch 225: | Train Loss: 0.00304 | Val Loss: 0.00322 | Train Acc: 100.000| Val Acc: 100.000\n",
      "Epoch 226: | Train Loss: 0.03006 | Val Loss: 0.00295 | Train Acc: 99.583| Val Acc: 100.000\n",
      "Epoch 227: | Train Loss: 0.01351 | Val Loss: 0.00316 | Train Acc: 99.833| Val Acc: 100.000\n",
      "Epoch 228: | Train Loss: 0.01078 | Val Loss: 0.00295 | Train Acc: 99.833| Val Acc: 100.000\n",
      "Epoch 229: | Train Loss: 0.03524 | Val Loss: 0.00297 | Train Acc: 99.333| Val Acc: 100.000\n",
      "Epoch 230: | Train Loss: 0.03181 | Val Loss: 0.00343 | Train Acc: 99.417| Val Acc: 100.000\n",
      "Epoch 231: | Train Loss: 0.01025 | Val Loss: 0.00368 | Train Acc: 99.833| Val Acc: 100.000\n",
      "Epoch 232: | Train Loss: 0.01255 | Val Loss: 0.00345 | Train Acc: 99.833| Val Acc: 100.000\n",
      "Epoch 233: | Train Loss: 0.01737 | Val Loss: 0.00313 | Train Acc: 99.667| Val Acc: 100.000\n",
      "Epoch 234: | Train Loss: 0.00297 | Val Loss: 0.00298 | Train Acc: 100.000| Val Acc: 100.000\n",
      "Epoch 235: | Train Loss: 0.02089 | Val Loss: 0.00288 | Train Acc: 99.750| Val Acc: 100.000\n",
      "Epoch 236: | Train Loss: 0.03672 | Val Loss: 0.00313 | Train Acc: 99.417| Val Acc: 100.000\n",
      "Epoch 237: | Train Loss: 0.01008 | Val Loss: 0.00299 | Train Acc: 99.833| Val Acc: 100.000\n",
      "Epoch 238: | Train Loss: 0.01925 | Val Loss: 0.00301 | Train Acc: 99.667| Val Acc: 100.000\n",
      "Epoch 239: | Train Loss: 0.02733 | Val Loss: 0.00309 | Train Acc: 99.500| Val Acc: 100.000\n",
      "Epoch 240: | Train Loss: 0.03302 | Val Loss: 0.00340 | Train Acc: 99.333| Val Acc: 100.000\n",
      "Epoch 241: | Train Loss: 0.00324 | Val Loss: 0.00351 | Train Acc: 100.000| Val Acc: 100.000\n",
      "Epoch 242: | Train Loss: 0.02473 | Val Loss: 0.00360 | Train Acc: 99.583| Val Acc: 100.000\n",
      "Epoch 243: | Train Loss: 0.01326 | Val Loss: 0.00357 | Train Acc: 99.833| Val Acc: 100.000\n",
      "Epoch 244: | Train Loss: 0.02092 | Val Loss: 0.00333 | Train Acc: 99.667| Val Acc: 100.000\n",
      "Epoch 245: | Train Loss: 0.05903 | Val Loss: 0.00335 | Train Acc: 99.083| Val Acc: 100.000\n",
      "Epoch 246: | Train Loss: 0.03415 | Val Loss: 0.00456 | Train Acc: 99.417| Val Acc: 100.000\n",
      "Epoch 247: | Train Loss: 0.00416 | Val Loss: 0.00462 | Train Acc: 100.000| Val Acc: 100.000\n",
      "Epoch 248: | Train Loss: 0.01707 | Val Loss: 0.00410 | Train Acc: 99.750| Val Acc: 100.000\n",
      "Epoch 249: | Train Loss: 0.01062 | Val Loss: 0.00427 | Train Acc: 99.833| Val Acc: 100.000\n",
      "Epoch 250: | Train Loss: 0.00325 | Val Loss: 0.00366 | Train Acc: 100.000| Val Acc: 100.000\n",
      "Epoch 251: | Train Loss: 0.01006 | Val Loss: 0.00336 | Train Acc: 99.833| Val Acc: 100.000\n",
      "Epoch 252: | Train Loss: 0.00281 | Val Loss: 0.00289 | Train Acc: 100.000| Val Acc: 100.000\n",
      "Epoch 253: | Train Loss: 0.03179 | Val Loss: 0.00333 | Train Acc: 99.333| Val Acc: 100.000\n",
      "Epoch 254: | Train Loss: 0.01689 | Val Loss: 0.00360 | Train Acc: 99.667| Val Acc: 100.000\n",
      "Epoch 255: | Train Loss: 0.03487 | Val Loss: 0.00403 | Train Acc: 99.417| Val Acc: 100.000\n",
      "Epoch 256: | Train Loss: 0.01679 | Val Loss: 0.00439 | Train Acc: 99.667| Val Acc: 100.000\n",
      "Epoch 257: | Train Loss: 0.01031 | Val Loss: 0.00403 | Train Acc: 99.833| Val Acc: 100.000\n",
      "Epoch 258: | Train Loss: 0.02390 | Val Loss: 0.00369 | Train Acc: 99.750| Val Acc: 100.000\n",
      "Epoch 259: | Train Loss: 0.00277 | Val Loss: 0.00319 | Train Acc: 100.000| Val Acc: 100.000\n",
      "Epoch 260: | Train Loss: 0.00996 | Val Loss: 0.00287 | Train Acc: 99.833| Val Acc: 100.000\n",
      "Epoch 261: | Train Loss: 0.00232 | Val Loss: 0.00254 | Train Acc: 100.000| Val Acc: 100.000\n",
      "Epoch 262: | Train Loss: 0.01713 | Val Loss: 0.00261 | Train Acc: 99.667| Val Acc: 100.000\n",
      "Epoch 263: | Train Loss: 0.04004 | Val Loss: 0.00261 | Train Acc: 99.417| Val Acc: 100.000\n",
      "Epoch 264: | Train Loss: 0.02830 | Val Loss: 0.00266 | Train Acc: 99.583| Val Acc: 100.000\n",
      "Epoch 265: | Train Loss: 0.02697 | Val Loss: 0.00268 | Train Acc: 99.583| Val Acc: 100.000\n",
      "Epoch 266: | Train Loss: 0.00271 | Val Loss: 0.00285 | Train Acc: 100.000| Val Acc: 100.000\n",
      "Epoch 267: | Train Loss: 0.01690 | Val Loss: 0.00268 | Train Acc: 99.750| Val Acc: 100.000\n",
      "Epoch 268: | Train Loss: 0.00247 | Val Loss: 0.00273 | Train Acc: 100.000| Val Acc: 100.000\n",
      "Epoch 269: | Train Loss: 0.00984 | Val Loss: 0.00258 | Train Acc: 99.833| Val Acc: 100.000\n",
      "Epoch 270: | Train Loss: 0.02025 | Val Loss: 0.00252 | Train Acc: 99.667| Val Acc: 100.000\n",
      "Epoch 271: | Train Loss: 0.01749 | Val Loss: 0.00276 | Train Acc: 99.667| Val Acc: 100.000\n",
      "Epoch 272: | Train Loss: 0.05716 | Val Loss: 0.00347 | Train Acc: 98.917| Val Acc: 100.000\n",
      "Epoch 273: | Train Loss: 0.01017 | Val Loss: 0.00403 | Train Acc: 99.833| Val Acc: 100.000\n",
      "Epoch 274: | Train Loss: 0.01282 | Val Loss: 0.00370 | Train Acc: 99.833| Val Acc: 100.000\n"
     ]
    },
    {
     "name": "stdout",
     "output_type": "stream",
     "text": [
      "Epoch 275: | Train Loss: 0.01033 | Val Loss: 0.00326 | Train Acc: 99.833| Val Acc: 100.000\n",
      "Epoch 276: | Train Loss: 0.01909 | Val Loss: 0.00337 | Train Acc: 99.667| Val Acc: 100.000\n",
      "Epoch 277: | Train Loss: 0.00991 | Val Loss: 0.00320 | Train Acc: 99.833| Val Acc: 100.000\n",
      "Epoch 278: | Train Loss: 0.00984 | Val Loss: 0.00303 | Train Acc: 99.833| Val Acc: 100.000\n",
      "Epoch 279: | Train Loss: 0.04344 | Val Loss: 0.00299 | Train Acc: 99.250| Val Acc: 100.000\n",
      "Epoch 280: | Train Loss: 0.00975 | Val Loss: 0.00317 | Train Acc: 99.833| Val Acc: 100.000\n",
      "Epoch 281: | Train Loss: 0.02630 | Val Loss: 0.00367 | Train Acc: 99.500| Val Acc: 100.000\n",
      "Epoch 282: | Train Loss: 0.05079 | Val Loss: 0.00438 | Train Acc: 99.083| Val Acc: 100.000\n",
      "Epoch 283: | Train Loss: 0.01746 | Val Loss: 0.00466 | Train Acc: 99.667| Val Acc: 100.000\n",
      "Epoch 284: | Train Loss: 0.01041 | Val Loss: 0.00449 | Train Acc: 99.833| Val Acc: 100.000\n",
      "Epoch 285: | Train Loss: 0.01010 | Val Loss: 0.00419 | Train Acc: 99.833| Val Acc: 100.000\n",
      "Epoch 286: | Train Loss: 0.02671 | Val Loss: 0.00414 | Train Acc: 99.500| Val Acc: 100.000\n",
      "Epoch 287: | Train Loss: 0.02755 | Val Loss: 0.00401 | Train Acc: 99.583| Val Acc: 100.000\n",
      "Epoch 288: | Train Loss: 0.00326 | Val Loss: 0.00375 | Train Acc: 100.000| Val Acc: 100.000\n",
      "Epoch 289: | Train Loss: 0.00295 | Val Loss: 0.00326 | Train Acc: 100.000| Val Acc: 100.000\n",
      "Epoch 290: | Train Loss: 0.03441 | Val Loss: 0.00322 | Train Acc: 99.333| Val Acc: 100.000\n",
      "Epoch 291: | Train Loss: 0.00273 | Val Loss: 0.00307 | Train Acc: 100.000| Val Acc: 100.000\n",
      "Epoch 292: | Train Loss: 0.00258 | Val Loss: 0.00278 | Train Acc: 100.000| Val Acc: 100.000\n",
      "Epoch 293: | Train Loss: 0.00956 | Val Loss: 0.00254 | Train Acc: 99.833| Val Acc: 100.000\n",
      "Epoch 294: | Train Loss: 0.01726 | Val Loss: 0.00268 | Train Acc: 99.667| Val Acc: 100.000\n",
      "Epoch 295: | Train Loss: 0.00223 | Val Loss: 0.00252 | Train Acc: 100.000| Val Acc: 100.000\n",
      "Epoch 296: | Train Loss: 0.00202 | Val Loss: 0.00222 | Train Acc: 100.000| Val Acc: 100.000\n",
      "Epoch 297: | Train Loss: 0.02974 | Val Loss: 0.00206 | Train Acc: 99.583| Val Acc: 100.000\n",
      "Epoch 298: | Train Loss: 0.00177 | Val Loss: 0.00197 | Train Acc: 100.000| Val Acc: 100.000\n",
      "Epoch 299: | Train Loss: 0.01025 | Val Loss: 0.00209 | Train Acc: 99.833| Val Acc: 100.000\n",
      "Epoch 300: | Train Loss: 0.01902 | Val Loss: 0.00207 | Train Acc: 99.667| Val Acc: 100.000\n",
      "\n"
     ]
    }
   ],
   "source": [
    "print(\"Begin training.\")\n",
    "\n",
    "for e in tqdm(range(1, EPOCHS+1)):\n",
    "    \n",
    "    # TRAINING\n",
    "    \n",
    "    train_epoch_loss = 0\n",
    "    train_epoch_acc = 0\n",
    "    \n",
    "    model.train()\n",
    "    for X_train_batch, y_train_batch in train_loader:\n",
    "        X_train_batch, y_train_batch = X_train_batch.to(device), y_train_batch.to(device)\n",
    "        optimizer.zero_grad()\n",
    "        \n",
    "        y_train_pred = model(X_train_batch)\n",
    "        \n",
    "        train_loss = criterion(y_train_pred, y_train_batch)\n",
    "        train_acc = binary_acc(y_train_pred, y_train_batch)\n",
    "        \n",
    "        train_loss.backward()\n",
    "        optimizer.step()\n",
    "        \n",
    "        train_epoch_loss += train_loss.item()\n",
    "        train_epoch_acc += train_acc.item()\n",
    "        \n",
    "        \n",
    "    # VALIDATION\n",
    "    with torch.no_grad():\n",
    "        model.eval()\n",
    "        val_epoch_loss = 0\n",
    "        val_epoch_acc = 0\n",
    "        for X_val_batch, y_val_batch in val_loader:\n",
    "            X_val_batch, y_val_batch = X_val_batch.to(device), y_val_batch.to(device)\n",
    "            \n",
    "            y_val_pred = model(X_val_batch)\n",
    "                        \n",
    "            val_loss = criterion(y_val_pred, y_val_batch)\n",
    "            val_acc = binary_acc(y_val_pred, y_val_batch)\n",
    "            \n",
    "            val_epoch_loss += val_loss.item()\n",
    "            val_epoch_acc += val_acc.item()\n",
    "\n",
    "    \n",
    "        \n",
    "    loss_stats['train'].append(train_epoch_loss/len(train_loader))\n",
    "    loss_stats['val'].append(val_epoch_loss/len(val_loader))\n",
    "    accuracy_stats['train'].append(train_epoch_acc/len(train_loader))\n",
    "    accuracy_stats['val'].append(val_epoch_acc/len(val_loader))\n",
    "                              \n",
    "    \n",
    "    print(f'Epoch {e+0:03}: | Train Loss: {train_epoch_loss/len(train_loader):.5f} | Val Loss: {val_epoch_loss/len(val_loader):.5f} | Train Acc: {train_epoch_acc/len(train_loader):.3f}| Val Acc: {val_epoch_acc/len(val_loader):.3f}')"
   ]
  },
  {
   "cell_type": "code",
   "execution_count": 110,
   "metadata": {},
   "outputs": [],
   "source": [
    "\n",
    "y_pred_list = []\n",
    "\n",
    "with torch.no_grad():\n",
    "    model.eval()\n",
    "    for X_batch, _ in test_loader:\n",
    "        X_batch = X_batch.to(device)\n",
    "        y_test_pred = model(X_batch)\n",
    "        y_test_pred = torch.log_softmax(y_test_pred, dim=1)\n",
    "        _, y_pred_tag = torch.max(y_test_pred, dim = 1)\n",
    "        y_pred_list.append(y_pred_tag.cpu().numpy())"
   ]
  },
  {
   "cell_type": "code",
   "execution_count": 111,
   "metadata": {},
   "outputs": [
    {
     "data": {
      "text/plain": [
       "Text(0.5, 1.0, 'Train-Val Loss/Epoch')"
      ]
     },
     "execution_count": 111,
     "metadata": {},
     "output_type": "execute_result"
    },
    {
     "data": {
      "image/png": "[encoded data removed]",
      "text/plain": [
       "<Figure size 2160x720 with 2 Axes>"
      ]
     },
     "metadata": {
      "needs_background": "light"
     },
     "output_type": "display_data"
    }
   ],
   "source": [
    "train_val_acc_df = pd.DataFrame.from_dict(accuracy_stats).reset_index().melt(id_vars=['index']).rename(columns={\"index\":\"epochs\"})\n",
    "train_val_loss_df = pd.DataFrame.from_dict(loss_stats).reset_index().melt(id_vars=['index']).rename(columns={\"index\":\"epochs\"})\n",
    "\n",
    "fig, axes = plt.subplots(nrows=1, ncols=2, figsize=(30,10))\n",
    "sns.lineplot(data=train_val_acc_df, x = \"epochs\", y=\"value\", hue=\"variable\",  ax=axes[0]).set_title('Train-Val Accuracy/Epoch')\n",
    "sns.lineplot(data=train_val_loss_df, x = \"epochs\", y=\"value\", hue=\"variable\", ax=axes[1]).set_title('Train-Val Loss/Epoch')"
   ]
  },
  {
   "cell_type": "code",
   "execution_count": 112,
   "metadata": {},
   "outputs": [],
   "source": [
    "y_pred_list = [a.squeeze().tolist() for a in y_pred_list]\n"
   ]
  },
  {
   "cell_type": "code",
   "execution_count": 113,
   "metadata": {},
   "outputs": [
    {
     "name": "stdout",
     "output_type": "stream",
     "text": [
      "              precision    recall  f1-score   support\n",
      "\n",
      "           0       1.00      1.00      1.00       204\n",
      "           1       0.00      0.00      0.00         1\n",
      "\n",
      "    accuracy                           1.00       205\n",
      "   macro avg       0.50      0.50      0.50       205\n",
      "weighted avg       0.99      1.00      0.99       205\n",
      "\n"
     ]
    },
    {
     "name": "stderr",
     "output_type": "stream",
     "text": [
      "/Users/evgenysaurov/anaconda3/lib/python3.7/site-packages/sklearn/metrics/_classification.py:1272: UndefinedMetricWarning: Precision and F-score are ill-defined and being set to 0.0 in labels with no predicted samples. Use `zero_division` parameter to control this behavior.\n",
      "  _warn_prf(average, modifier, msg_start, len(result))\n"
     ]
    }
   ],
   "source": [
    "print(classification_report(y_test, y_pred_list, target_names=[\"0\", \"1\"]))"
   ]
  },
  {
   "cell_type": "code",
   "execution_count": null,
   "metadata": {},
   "outputs": [],
   "source": []
  }
 ],
 "metadata": {
  "kernelspec": {
   "display_name": "Python 3",
   "language": "python",
   "name": "python3"
  },
  "language_info": {
   "codemirror_mode": {
    "name": "ipython",
    "version": 3
   },
   "file_extension": ".py",
   "mimetype": "text/x-python",
   "name": "python",
   "nbconvert_exporter": "python",
   "pygments_lexer": "ipython3",
   "version": "3.7.3"
  }
 },
 "nbformat": 4,
 "nbformat_minor": 2
}
