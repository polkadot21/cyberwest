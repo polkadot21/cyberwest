{
  "nbformat": 4,
  "nbformat_minor": 0,
  "metadata": {
    "colab": {
      "name": "Min_Max_Classifier.ipynb",
      "provenance": [],
      "collapsed_sections": [],
      "authorship_tag": "ABX9TyNtH1NS1jPSrAau1s5/UA+T",
      "include_colab_link": true
    },
    "kernelspec": {
      "name": "python3",
      "display_name": "Python 3"
    },
    "accelerator": "GPU",
    "widgets": {
      "application/vnd.jupyter.widget-state+json": {
        "e08561b1169542bab117df1c3484cc57": {
          "model_module": "@jupyter-widgets/controls",
          "model_name": "HBoxModel",
          "state": {
            "_view_name": "HBoxView",
            "_dom_classes": [],
            "_model_name": "HBoxModel",
            "_view_module": "@jupyter-widgets/controls",
            "_model_module_version": "1.5.0",
            "_view_count": null,
            "_view_module_version": "1.5.0",
            "box_style": "",
            "layout": "IPY_MODEL_2d774b4ec31141d6ac711c84740dfd34",
            "_model_module": "@jupyter-widgets/controls",
            "children": [
              "IPY_MODEL_0d0888ebb690458597c093353bdd4bec",
              "IPY_MODEL_342c50fbed55401f943f04184de1eca5"
            ]
          }
        },
        "2d774b4ec31141d6ac711c84740dfd34": {
          "model_module": "@jupyter-widgets/base",
          "model_name": "LayoutModel",
          "state": {
            "_view_name": "LayoutView",
            "grid_template_rows": null,
            "right": null,
            "justify_content": null,
            "_view_module": "@jupyter-widgets/base",
            "overflow": null,
            "_model_module_version": "1.2.0",
            "_view_count": null,
            "flex_flow": null,
            "width": null,
            "min_width": null,
            "border": null,
            "align_items": null,
            "bottom": null,
            "_model_module": "@jupyter-widgets/base",
            "top": null,
            "grid_column": null,
            "overflow_y": null,
            "overflow_x": null,
            "grid_auto_flow": null,
            "grid_area": null,
            "grid_template_columns": null,
            "flex": null,
            "_model_name": "LayoutModel",
            "justify_items": null,
            "grid_row": null,
            "max_height": null,
            "align_content": null,
            "visibility": null,
            "align_self": null,
            "height": null,
            "min_height": null,
            "padding": null,
            "grid_auto_rows": null,
            "grid_gap": null,
            "max_width": null,
            "order": null,
            "_view_module_version": "1.2.0",
            "grid_template_areas": null,
            "object_position": null,
            "object_fit": null,
            "grid_auto_columns": null,
            "margin": null,
            "display": null,
            "left": null
          }
        },
        "0d0888ebb690458597c093353bdd4bec": {
          "model_module": "@jupyter-widgets/controls",
          "model_name": "FloatProgressModel",
          "state": {
            "_view_name": "ProgressView",
            "style": "IPY_MODEL_f71e1d97336842148096f4248512335c",
            "_dom_classes": [],
            "description": "100%",
            "_model_name": "FloatProgressModel",
            "bar_style": "success",
            "max": 10,
            "_view_module": "@jupyter-widgets/controls",
            "_model_module_version": "1.5.0",
            "value": 10,
            "_view_count": null,
            "_view_module_version": "1.5.0",
            "orientation": "horizontal",
            "min": 0,
            "description_tooltip": null,
            "_model_module": "@jupyter-widgets/controls",
            "layout": "IPY_MODEL_7ec4a5058ee643c2b572e441c8eff744"
          }
        },
        "342c50fbed55401f943f04184de1eca5": {
          "model_module": "@jupyter-widgets/controls",
          "model_name": "HTMLModel",
          "state": {
            "_view_name": "HTMLView",
            "style": "IPY_MODEL_9b326b63b1a74c5d8a0e2b9d534c51c0",
            "_dom_classes": [],
            "description": "",
            "_model_name": "HTMLModel",
            "placeholder": "​",
            "_view_module": "@jupyter-widgets/controls",
            "_model_module_version": "1.5.0",
            "value": " 10/10 [07:22&lt;00:00, 44.21s/it]",
            "_view_count": null,
            "_view_module_version": "1.5.0",
            "description_tooltip": null,
            "_model_module": "@jupyter-widgets/controls",
            "layout": "IPY_MODEL_870800eea9cf4548a5ebcaa90020b88a"
          }
        },
        "f71e1d97336842148096f4248512335c": {
          "model_module": "@jupyter-widgets/controls",
          "model_name": "ProgressStyleModel",
          "state": {
            "_view_name": "StyleView",
            "_model_name": "ProgressStyleModel",
            "description_width": "initial",
            "_view_module": "@jupyter-widgets/base",
            "_model_module_version": "1.5.0",
            "_view_count": null,
            "_view_module_version": "1.2.0",
            "bar_color": null,
            "_model_module": "@jupyter-widgets/controls"
          }
        },
        "7ec4a5058ee643c2b572e441c8eff744": {
          "model_module": "@jupyter-widgets/base",
          "model_name": "LayoutModel",
          "state": {
            "_view_name": "LayoutView",
            "grid_template_rows": null,
            "right": null,
            "justify_content": null,
            "_view_module": "@jupyter-widgets/base",
            "overflow": null,
            "_model_module_version": "1.2.0",
            "_view_count": null,
            "flex_flow": null,
            "width": null,
            "min_width": null,
            "border": null,
            "align_items": null,
            "bottom": null,
            "_model_module": "@jupyter-widgets/base",
            "top": null,
            "grid_column": null,
            "overflow_y": null,
            "overflow_x": null,
            "grid_auto_flow": null,
            "grid_area": null,
            "grid_template_columns": null,
            "flex": null,
            "_model_name": "LayoutModel",
            "justify_items": null,
            "grid_row": null,
            "max_height": null,
            "align_content": null,
            "visibility": null,
            "align_self": null,
            "height": null,
            "min_height": null,
            "padding": null,
            "grid_auto_rows": null,
            "grid_gap": null,
            "max_width": null,
            "order": null,
            "_view_module_version": "1.2.0",
            "grid_template_areas": null,
            "object_position": null,
            "object_fit": null,
            "grid_auto_columns": null,
            "margin": null,
            "display": null,
            "left": null
          }
        },
        "9b326b63b1a74c5d8a0e2b9d534c51c0": {
          "model_module": "@jupyter-widgets/controls",
          "model_name": "DescriptionStyleModel",
          "state": {
            "_view_name": "StyleView",
            "_model_name": "DescriptionStyleModel",
            "description_width": "",
            "_view_module": "@jupyter-widgets/base",
            "_model_module_version": "1.5.0",
            "_view_count": null,
            "_view_module_version": "1.2.0",
            "_model_module": "@jupyter-widgets/controls"
          }
        },
        "870800eea9cf4548a5ebcaa90020b88a": {
          "model_module": "@jupyter-widgets/base",
          "model_name": "LayoutModel",
          "state": {
            "_view_name": "LayoutView",
            "grid_template_rows": null,
            "right": null,
            "justify_content": null,
            "_view_module": "@jupyter-widgets/base",
            "overflow": null,
            "_model_module_version": "1.2.0",
            "_view_count": null,
            "flex_flow": null,
            "width": null,
            "min_width": null,
            "border": null,
            "align_items": null,
            "bottom": null,
            "_model_module": "@jupyter-widgets/base",
            "top": null,
            "grid_column": null,
            "overflow_y": null,
            "overflow_x": null,
            "grid_auto_flow": null,
            "grid_area": null,
            "grid_template_columns": null,
            "flex": null,
            "_model_name": "LayoutModel",
            "justify_items": null,
            "grid_row": null,
            "max_height": null,
            "align_content": null,
            "visibility": null,
            "align_self": null,
            "height": null,
            "min_height": null,
            "padding": null,
            "grid_auto_rows": null,
            "grid_gap": null,
            "max_width": null,
            "order": null,
            "_view_module_version": "1.2.0",
            "grid_template_areas": null,
            "object_position": null,
            "object_fit": null,
            "grid_auto_columns": null,
            "margin": null,
            "display": null,
            "left": null
          }
        }
      }
    }
  },
  "cells": [
    {
      "cell_type": "markdown",
      "metadata": {
        "id": "view-in-github",
        "colab_type": "text"
      },
      "source": [
        "<a href=\"https://colab.research.google.com/github/polkadot21/cyberwest/blob/master/Min_Max_Classifier_05/13/2020.ipynb\" target=\"_parent\"><img src=\"https://colab.research.google.com/assets/colab-badge.svg\" alt=\"Open In Colab\"/></a>"
      ]
    },
    {
      "cell_type": "code",
      "metadata": {
        "id": "Dc5LOFS6cFif",
        "colab_type": "code",
        "colab": {}
      },
      "source": [
        "import numpy as np\n",
        "import pandas as pd\n",
        "import seaborn as sns\n",
        "from tqdm.notebook import tqdm\n",
        "\n",
        "from matplotlib import pyplot as plt\n",
        "\n",
        "import random\n",
        "import torch\n",
        "import torch.nn as nn\n",
        "import torch.optim as optim\n",
        "from torch.utils.data import Dataset, DataLoader, WeightedRandomSampler\n",
        "from sklearn.preprocessing import MinMaxScaler    \n",
        "from sklearn.model_selection import train_test_split\n",
        "from sklearn.metrics import confusion_matrix, classification_report, accuracy_score\n",
        "\n",
        "from imblearn.over_sampling import SMOTE\n",
        "sm = SMOTE(random_state = 33)\n",
        "\n",
        "import plotly.express as px\n",
        "import plotly.graph_objects as go"
      ],
      "execution_count": 0,
      "outputs": []
    },
    {
      "cell_type": "code",
      "metadata": {
        "id": "JKd0fnT8cIR6",
        "colab_type": "code",
        "colab": {}
      },
      "source": [
        "#random array, x[0] = 1, \n",
        "#x[i] = x[i-1] + random.uniform(-1, 1)\n",
        "def random_array(M):\n",
        "    #random.seed(42)\n",
        "    N=1024\n",
        "    x = range(N)\n",
        "    y = np.zeros(N*M)\n",
        "    y[0] = 1\n",
        "    for i in range(1, N*M):\n",
        "        y[i] = y[i-1] + random.uniform(-1, 1)\n",
        "    \n",
        "    return y"
      ],
      "execution_count": 0,
      "outputs": []
    },
    {
      "cell_type": "code",
      "metadata": {
        "id": "N9HkPRAQcO_5",
        "colab_type": "code",
        "colab": {}
      },
      "source": [
        "#local maxima/minima of random_array M*1024 \n",
        "#with distance between extrema > 3\n",
        "#changing MAXs and MINs\n",
        "#with T*std so that there are approx. 10 extrema in N=1024\n",
        "\n",
        "def extrema(arr):\n",
        "    #arr = random_array(M)\n",
        "    #flag variable\n",
        "    found_min = False\n",
        "    found = False\n",
        "    #1/4 of std \n",
        "    x = 3\n",
        "    T = 0.05\n",
        "    Y_last = 0\n",
        "    #distance between extrema >3\n",
        "    dist = x+1\n",
        "    Ymax = np.zeros(len(arr))\n",
        "    Ymin = np.zeros(len(arr))\n",
        "    #T*std\n",
        "    #D = T*np.std(arr[:-(len(arr)-1)] - arr[0:])\n",
        "    D = 0\n",
        "    for i in range(1, len(arr)-1):\n",
        "        #print(D)\n",
        "        #dist > 3 \n",
        "        if dist > x:\n",
        "            #decides to start with MAX or MIN at the beginning of the search\n",
        "            if found_min or not found:\n",
        "                if arr[i] > arr[i-1] and arr[i] > arr[i+1]:\n",
        "                    #whether or not the difference between the last extremum and a new one is more than T.std\n",
        "                    if np.abs(arr[i] - Y_last) >=D:\n",
        "                        dist = 1\n",
        "                        Ymax[i] = 1\n",
        "                        found = True\n",
        "                        found_min = False\n",
        "                        Y_last = arr[i]\n",
        "                        D = T*np.std(arr[:-(len(arr)-1)] - arr[0:])\n",
        "                    else:\n",
        "                        i+=1\n",
        "                    \n",
        "            if not found_min or not found:\n",
        "                if arr[i] < arr[i-1] and arr[i] < arr[i+1]:\n",
        "                    if np.abs(arr[i] - Y_last) >= D:\n",
        "                        dist = 1\n",
        "                        Ymin[i] = 2\n",
        "                        found = True\n",
        "                        found_min = True\n",
        "                        Y_last = arr[i]\n",
        "                        D = T*np.std(arr[:-(len(arr)-1)] - arr[0:])\n",
        "                    else:\n",
        "                        i+=1\n",
        "        else:\n",
        "            dist+=1\n",
        "    #Y_mean = the number of extrema in N=1024       \n",
        "    Y = Ymax+Ymin\n",
        "    Ynum = (np.sum(Ymax) + np.sum(Ymin))*1024/(2*len(arr))\n",
        "    print (len(arr))\n",
        "    return Ymax, Ymin, Y, Ynum"
      ],
      "execution_count": 0,
      "outputs": []
    },
    {
      "cell_type": "code",
      "metadata": {
        "id": "kdj3XT10cS1I",
        "colab_type": "code",
        "colab": {
          "base_uri": "https://localhost:8080/",
          "height": 34
        },
        "outputId": "939a86d3-6ea4-4d39-e482-bc606068f0b1"
      },
      "source": [
        "#M = 1000\n",
        "x = random_array(100)\n",
        "X = x.reshape(-1, 1)\n",
        "ymax, ymin, y, num = extrema(x)"
      ],
      "execution_count": 202,
      "outputs": [
        {
          "output_type": "stream",
          "text": [
            "102400\n"
          ],
          "name": "stdout"
        }
      ]
    },
    {
      "cell_type": "code",
      "metadata": {
        "id": "UGxlhkUBRJve",
        "colab_type": "code",
        "outputId": "ab9ff247-ebfe-46ef-81a0-7f76275e0f40",
        "colab": {
          "base_uri": "https://localhost:8080/",
          "height": 34
        }
      },
      "source": [
        "num"
      ],
      "execution_count": 203,
      "outputs": [
        {
          "output_type": "execute_result",
          "data": {
            "text/plain": [
              "10.035"
            ]
          },
          "metadata": {
            "tags": []
          },
          "execution_count": 203
        }
      ]
    },
    {
      "cell_type": "code",
      "metadata": {
        "id": "mE8MVErccVTR",
        "colab_type": "code",
        "colab": {}
      },
      "source": [
        "# -------- Train - Test-------\n",
        "X_trainval, X_test, y_trainval, y_test = train_test_split(X, y, test_size=0.2, stratify=y, random_state=69)\n",
        "\n",
        "# ---------Split train into train-val--------\n",
        "X_train, X_val, y_train, y_val = train_test_split(X_trainval, y_trainval, test_size=0.1, stratify=y_trainval, random_state=21)"
      ],
      "execution_count": 0,
      "outputs": []
    },
    {
      "cell_type": "code",
      "metadata": {
        "id": "NBCcglR-cXpJ",
        "colab_type": "code",
        "colab": {}
      },
      "source": [
        "#-----Scale-----\n",
        "scaler = MinMaxScaler()\n",
        "X_train = scaler.fit_transform(X_train)\n",
        "X_val = scaler.transform(X_val)\n",
        "X_test = scaler.transform(X_test)"
      ],
      "execution_count": 0,
      "outputs": []
    },
    {
      "cell_type": "code",
      "metadata": {
        "id": "npp5N17ccZyR",
        "colab_type": "code",
        "outputId": "9fdc4a28-c749-4bd4-8a78-9f16d3bba9d7",
        "colab": {
          "base_uri": "https://localhost:8080/",
          "height": 173
        }
      },
      "source": [
        "#-----SMOTE-------\n",
        "X_resampled, y_resampled = sm.fit_sample(X_train, y_train.ravel())"
      ],
      "execution_count": 207,
      "outputs": [
        {
          "output_type": "stream",
          "text": [
            "/usr/local/lib/python3.6/dist-packages/sklearn/utils/deprecation.py:87: FutureWarning:\n",
            "\n",
            "Function safe_indexing is deprecated; safe_indexing is deprecated in version 0.22 and will be removed in version 0.24.\n",
            "\n",
            "/usr/local/lib/python3.6/dist-packages/sklearn/utils/deprecation.py:87: FutureWarning:\n",
            "\n",
            "Function safe_indexing is deprecated; safe_indexing is deprecated in version 0.22 and will be removed in version 0.24.\n",
            "\n"
          ],
          "name": "stderr"
        }
      ]
    },
    {
      "cell_type": "code",
      "metadata": {
        "id": "Mfdf19q5cb9C",
        "colab_type": "code",
        "colab": {}
      },
      "source": [
        "#class_dist for each class\n",
        "def get_class_distribution(obj):\n",
        "    count_dict = {\n",
        "        \"no\": 0,\n",
        "        \"max\": 0,\n",
        "        \"min\": 0\n",
        "    }\n",
        "    \n",
        "    for i in obj:\n",
        "        if i == 0: \n",
        "            count_dict['no'] += 1\n",
        "        elif i == 1: \n",
        "            count_dict['max'] += 1\n",
        "        elif i == 2: \n",
        "            count_dict['min'] += 1\n",
        "                   \n",
        "        else:\n",
        "            print(\"Check classes.\")\n",
        "            \n",
        "    return count_dict"
      ],
      "execution_count": 0,
      "outputs": []
    },
    {
      "cell_type": "code",
      "metadata": {
        "id": "J7dO3sbZchET",
        "colab_type": "code",
        "outputId": "992e3919-8a89-4603-a92e-1ab1789b3931",
        "colab": {
          "base_uri": "https://localhost:8080/",
          "height": 68
        }
      },
      "source": [
        "print(\"Train:\", get_class_distribution(y_resampled))\n",
        "print(\"Test :\", get_class_distribution(y_test))\n",
        "print(\"Val  :\", get_class_distribution(y_val))"
      ],
      "execution_count": 231,
      "outputs": [
        {
          "output_type": "stream",
          "text": [
            "Train: {'no': 72765, 'max': 72765, 'min': 72765}\n",
            "Test : {'no': 20212, 'max': 134, 'min': 134}\n",
            "Val  : {'no': 8085, 'max': 53, 'min': 54}\n"
          ],
          "name": "stdout"
        }
      ]
    },
    {
      "cell_type": "code",
      "metadata": {
        "id": "mlBeBOk7ci87",
        "colab_type": "code",
        "outputId": "e2e0f265-7773-468c-87e5-a022ee647be2",
        "colab": {
          "base_uri": "https://localhost:8080/",
          "height": 251
        }
      },
      "source": [
        "#plot class dist \n",
        "#y_train after resampling\n",
        "\n",
        "fig, axes = plt.subplots(nrows=1, ncols=3, figsize=(25,7))\n",
        "sns.barplot(data = pd.DataFrame.from_dict([get_class_distribution(y_resampled)]).melt(), x = \"variable\", y=\"value\", hue=\"variable\",  ax=axes[0]).set_title('Class Distribution in Train Set')\n",
        "sns.barplot(data = pd.DataFrame.from_dict([get_class_distribution(y_val)]).melt(), x = \"variable\", y=\"value\", hue=\"variable\",  ax=axes[1]).set_title('Class Distribution in Val Set')\n",
        "sns.barplot(data = pd.DataFrame.from_dict([get_class_distribution(y_test)]).melt(), x = \"variable\", y=\"value\", hue=\"variable\",  ax=axes[2]).set_title('Class Distribution in Test Set')\n"
      ],
      "execution_count": 232,
      "outputs": [
        {
          "output_type": "execute_result",
          "data": {
            "text/plain": [
              "Text(0.5, 1.0, 'Class Distribution in Test Set')"
            ]
          },
          "metadata": {
            "tags": []
          },
          "execution_count": 232
        },
        {
          "output_type": "display_data",
          "data": {
            "image/png": "[encoded data removed]",
            "text/plain": [
              "<Figure size 1800x504 with 3 Axes>"
            ]
          },
          "metadata": {
            "tags": [],
            "needs_background": "light"
          }
        }
      ]
    },
    {
      "cell_type": "code",
      "metadata": {
        "id": "aQRpBE6Icmj7",
        "colab_type": "code",
        "colab": {}
      },
      "source": [
        "\n",
        "class ClassifierDataset(Dataset):\n",
        "    \n",
        "    def __init__(self, X_data, y_data):\n",
        "        self.X_data = X_data\n",
        "        self.y_data = y_data\n",
        "        \n",
        "    def __getitem__(self, index):\n",
        "        return self.X_data[index], self.y_data[index]\n",
        "        \n",
        "    def __len__ (self):\n",
        "        return len(self.X_data)\n",
        "\n",
        "\n",
        "train_dataset = ClassifierDataset(\n",
        "    torch.from_numpy(X_resampled).float(),\n",
        "    torch.from_numpy(y_resampled).long()\n",
        "                                  )\n",
        "val_dataset = ClassifierDataset(\n",
        "    torch.from_numpy(X_val).float(),\n",
        "    torch.from_numpy(y_val).long()\n",
        "    )\n",
        "test_dataset = ClassifierDataset(\n",
        "    torch.from_numpy(X_test).float(),\n",
        "    torch.from_numpy(y_test).long()\n",
        "    )"
      ],
      "execution_count": 0,
      "outputs": []
    },
    {
      "cell_type": "code",
      "metadata": {
        "id": "M-pkkskQmMIT",
        "colab_type": "code",
        "colab": {}
      },
      "source": [
        "\n",
        "target_list = []\n",
        "\n",
        "for _, t in train_dataset:\n",
        "    target_list.append(t)\n",
        "    \n",
        "target_list = torch.tensor(target_list)\n",
        "target_list = target_list[torch.randperm(len(target_list))]"
      ],
      "execution_count": 0,
      "outputs": []
    },
    {
      "cell_type": "code",
      "metadata": {
        "id": "4j1zt0iCmNHD",
        "colab_type": "code",
        "outputId": "b9de4dcd-feb3-4b49-9362-284749ae8062",
        "colab": {
          "base_uri": "https://localhost:8080/",
          "height": 34
        }
      },
      "source": [
        "class_count = [i for i in get_class_distribution(y_resampled).values()]\n",
        "class_weights = 1./torch.tensor(class_count, dtype=torch.float) \n",
        "class_weights"
      ],
      "execution_count": 235,
      "outputs": [
        {
          "output_type": "execute_result",
          "data": {
            "text/plain": [
              "tensor([1.3743e-05, 1.3743e-05, 1.3743e-05])"
            ]
          },
          "metadata": {
            "tags": []
          },
          "execution_count": 235
        }
      ]
    },
    {
      "cell_type": "code",
      "metadata": {
        "id": "mHk1RczxmQzD",
        "colab_type": "code",
        "colab": {}
      },
      "source": [
        "class_weights_all = class_weights[target_list]"
      ],
      "execution_count": 0,
      "outputs": []
    },
    {
      "cell_type": "code",
      "metadata": {
        "id": "1YyB7IeymUDB",
        "colab_type": "code",
        "colab": {}
      },
      "source": [
        "weighted_sampler = WeightedRandomSampler(\n",
        "    weights=class_weights_all,\n",
        "    num_samples=len(class_weights_all),\n",
        "    replacement=True\n",
        ")"
      ],
      "execution_count": 0,
      "outputs": []
    },
    {
      "cell_type": "code",
      "metadata": {
        "id": "UuF6wcCxcolL",
        "colab_type": "code",
        "colab": {}
      },
      "source": [
        "#params\n",
        "\n",
        "EPOCHS = 10\n",
        "BATCH_SIZE = 16\n",
        "LEARNING_RATE = 0.0007\n",
        "\n",
        "NUM_FEATURES = 1\n",
        "NUM_CLASSES = 3"
      ],
      "execution_count": 0,
      "outputs": []
    },
    {
      "cell_type": "code",
      "metadata": {
        "id": "08WCE_4gcrZt",
        "colab_type": "code",
        "colab": {}
      },
      "source": [
        "#loader\n",
        "\n",
        "train_loader = DataLoader(dataset=train_dataset, batch_size=BATCH_SIZE, sampler=weighted_sampler)\n",
        "val_loader = DataLoader(dataset=val_dataset, batch_size=1)\n",
        "test_loader = DataLoader(dataset=test_dataset, batch_size=1)"
      ],
      "execution_count": 0,
      "outputs": []
    },
    {
      "cell_type": "code",
      "metadata": {
        "id": "Mr11BR7hcuQ7",
        "colab_type": "code",
        "colab": {}
      },
      "source": [
        "class Min_Max_Classification(nn.Module):\n",
        "    def __init__(self, num_feature, num_class):\n",
        "        super(Min_Max_Classification, self).__init__()\n",
        "        \n",
        "        self.layer_1 = nn.Linear(num_feature, 16)\n",
        "        #self.layer_2 = nn.Linear(64, 32)\n",
        "        #self.layer_3 = nn.Linear(32, 16)\n",
        "        self.layer_out = nn.Linear(16, num_class) \n",
        "        \n",
        "        self.relu = nn.ReLU()\n",
        "        self.dropout = nn.Dropout(p=0.2)\n",
        "        self.batchnorm1 = nn.BatchNorm1d(16)\n",
        "        #self.batchnorm2 = nn.BatchNorm1d(32)\n",
        "        #self.batchnorm3 = nn.BatchNorm1d(16)\n",
        "        \n",
        "    def forward(self, x):\n",
        "        x = self.layer_1(x)\n",
        "        x = self.batchnorm1(x)\n",
        "        x = self.relu(x)\n",
        "        \n",
        "        #x = self.layer_2(x)\n",
        "        #x = self.batchnorm2(x)\n",
        "        #x = self.relu(x)\n",
        "        #x = self.dropout(x)\n",
        "        \n",
        "        #x = self.layer_3(x)\n",
        "        #x = self.batchnorm3(x)\n",
        "        #x = self.relu(x)\n",
        "        #x = self.dropout(x)\n",
        "        \n",
        "        x = self.layer_out(x)\n",
        "        \n",
        "        return x"
      ],
      "execution_count": 0,
      "outputs": []
    },
    {
      "cell_type": "code",
      "metadata": {
        "id": "1dzRJnYWcwW8",
        "colab_type": "code",
        "outputId": "c0e52580-85dc-43fe-d8d6-f10ca241009c",
        "colab": {
          "base_uri": "https://localhost:8080/",
          "height": 34
        }
      },
      "source": [
        "#cpu and gpu\n",
        "device = torch.device(\"cuda:0\" if torch.cuda.is_available() else \"cpu\")\n",
        "print(device)"
      ],
      "execution_count": 241,
      "outputs": [
        {
          "output_type": "stream",
          "text": [
            "cuda:0\n"
          ],
          "name": "stdout"
        }
      ]
    },
    {
      "cell_type": "code",
      "metadata": {
        "id": "nuVZYAM9cyD8",
        "colab_type": "code",
        "outputId": "88f55808-8b08-4c91-c768-2c9f1d9952b4",
        "colab": {
          "base_uri": "https://localhost:8080/",
          "height": 156
        }
      },
      "source": [
        "#set model, \n",
        "#gpu/cpu\n",
        "model = Min_Max_Classification(\n",
        "    num_feature = NUM_FEATURES,\n",
        "    num_class=NUM_CLASSES)\n",
        "model.to(device)\n",
        "\n",
        "print(model)\n",
        "\n",
        "#multiclass critretion\n",
        "criterion = nn.CrossEntropyLoss()\n",
        "optimizer = optim.Adam(model.parameters(), lr=LEARNING_RATE)"
      ],
      "execution_count": 242,
      "outputs": [
        {
          "output_type": "stream",
          "text": [
            "Min_Max_Classification(\n",
            "  (layer_1): Linear(in_features=1, out_features=16, bias=True)\n",
            "  (layer_out): Linear(in_features=16, out_features=3, bias=True)\n",
            "  (relu): ReLU()\n",
            "  (dropout): Dropout(p=0.2, inplace=False)\n",
            "  (batchnorm1): BatchNorm1d(16, eps=1e-05, momentum=0.1, affine=True, track_running_stats=True)\n",
            ")\n"
          ],
          "name": "stdout"
        }
      ]
    },
    {
      "cell_type": "code",
      "metadata": {
        "id": "bO4-CtCddZ0q",
        "colab_type": "code",
        "colab": {}
      },
      "source": [
        "#accuracy\n",
        "\n",
        "def multi_acc(y_pred, y_test):\n",
        "    y_pred_softmax = torch.log_softmax(y_pred, dim = 1)\n",
        "    _, y_pred_tags = torch.max(y_pred_softmax, dim = 1)    \n",
        "    \n",
        "    correct_pred = (y_pred_tags == y_test).float()\n",
        "    acc = correct_pred.sum() / len(correct_pred)\n",
        "    \n",
        "    acc = torch.round(acc) * 100\n",
        "    \n",
        "    return acc"
      ],
      "execution_count": 0,
      "outputs": []
    },
    {
      "cell_type": "code",
      "metadata": {
        "id": "MexjCrRudjOj",
        "colab_type": "code",
        "colab": {}
      },
      "source": [
        "\n",
        "accuracy_stats = {\n",
        "    'train': [],\n",
        "    \"val\": []\n",
        "}\n",
        "\n",
        "loss_stats = {\n",
        "    'train': [],\n",
        "    \"val\": []\n",
        "}"
      ],
      "execution_count": 0,
      "outputs": []
    },
    {
      "cell_type": "code",
      "metadata": {
        "id": "_2SYPN7cdkmK",
        "colab_type": "code",
        "outputId": "d3db7742-f92e-44ab-d857-f7ff2637a621",
        "colab": {
          "base_uri": "https://localhost:8080/",
          "height": 273,
          "referenced_widgets": [
            "e08561b1169542bab117df1c3484cc57",
            "2d774b4ec31141d6ac711c84740dfd34",
            "0d0888ebb690458597c093353bdd4bec",
            "342c50fbed55401f943f04184de1eca5",
            "f71e1d97336842148096f4248512335c",
            "7ec4a5058ee643c2b572e441c8eff744",
            "9b326b63b1a74c5d8a0e2b9d534c51c0",
            "870800eea9cf4548a5ebcaa90020b88a"
          ]
        }
      },
      "source": [
        "print(\"Begin training.\")\n",
        "\n",
        "for e in tqdm(range(1, EPOCHS+1)):\n",
        "    \n",
        "    # TRAINING\n",
        "    train_epoch_loss = 0\n",
        "    train_epoch_acc = 0\n",
        "\n",
        "    model.train()\n",
        "    for X_train_batch, y_train_batch in train_loader:\n",
        "        X_train_batch, y_train_batch = X_train_batch.to(device), y_train_batch.to(device)\n",
        "        optimizer.zero_grad()\n",
        "        \n",
        "        y_train_pred = model(X_train_batch)\n",
        "        \n",
        "        train_loss = criterion(y_train_pred, y_train_batch)\n",
        "        train_acc = multi_acc(y_train_pred, y_train_batch)\n",
        "        \n",
        "        train_loss.backward()\n",
        "        optimizer.step()\n",
        "        \n",
        "        train_epoch_loss += train_loss.item()\n",
        "        train_epoch_acc += train_acc.item()\n",
        "        \n",
        "        \n",
        "    # VALIDATION    \n",
        "    with torch.no_grad():\n",
        "        \n",
        "        val_epoch_loss = 0\n",
        "        val_epoch_acc = 0\n",
        "        \n",
        "        model.eval()\n",
        "        for X_val_batch, y_val_batch in val_loader:\n",
        "            X_val_batch, y_val_batch = X_val_batch.to(device), y_val_batch.to(device)\n",
        "            \n",
        "            y_val_pred = model(X_val_batch)\n",
        "                        \n",
        "            val_loss = criterion(y_val_pred, y_val_batch)\n",
        "            val_acc = multi_acc(y_val_pred, y_val_batch)\n",
        "            \n",
        "            val_epoch_loss += val_loss.item()\n",
        "            val_epoch_acc += val_acc.item()\n",
        "\n",
        "    \n",
        "        \n",
        "    loss_stats['train'].append(train_epoch_loss/len(train_loader))\n",
        "    loss_stats['val'].append(val_epoch_loss/len(val_loader))\n",
        "    accuracy_stats['train'].append(train_epoch_acc/len(train_loader))\n",
        "    accuracy_stats['val'].append(val_epoch_acc/len(val_loader))\n",
        "                              \n",
        "    \n",
        "    print(f'Epoch {e+0:03}: | Train Loss: {train_epoch_loss/len(train_loader):.5f} | Val Loss: {val_epoch_loss/len(val_loader):.5f} | Train Acc: {train_epoch_acc/len(train_loader):.3f}| Val Acc: {val_epoch_acc/len(val_loader):.3f}')"
      ],
      "execution_count": 245,
      "outputs": [
        {
          "output_type": "stream",
          "text": [
            "Begin training.\n"
          ],
          "name": "stdout"
        },
        {
          "output_type": "display_data",
          "data": {
            "application/vnd.jupyter.widget-view+json": {
              "model_id": "e08561b1169542bab117df1c3484cc57",
              "version_minor": 0,
              "version_major": 2
            },
            "text/plain": [
              "HBox(children=(FloatProgress(value=0.0, max=10.0), HTML(value='')))"
            ]
          },
          "metadata": {
            "tags": []
          }
        },
        {
          "output_type": "stream",
          "text": [
            "Epoch 001: | Train Loss: 1.09963 | Val Loss: 1.02866 | Train Acc: 5.167| Val Acc: 87.939\n",
            "Epoch 002: | Train Loss: 1.09914 | Val Loss: 1.07957 | Train Acc: 5.050| Val Acc: 35.596\n",
            "Epoch 003: | Train Loss: 1.09910 | Val Loss: 1.08295 | Train Acc: 5.585| Val Acc: 76.721\n",
            "Epoch 004: | Train Loss: 1.09888 | Val Loss: 1.10668 | Train Acc: 5.834| Val Acc: 7.300\n",
            "Epoch 005: | Train Loss: 1.09887 | Val Loss: 1.08974 | Train Acc: 5.753| Val Acc: 40.881\n",
            "Epoch 006: | Train Loss: 1.09885 | Val Loss: 1.08738 | Train Acc: 5.724| Val Acc: 16.724\n",
            "Epoch 007: | Train Loss: 1.09866 | Val Loss: 1.04333 | Train Acc: 5.797| Val Acc: 73.621\n",
            "Epoch 008: | Train Loss: 1.09852 | Val Loss: 1.08128 | Train Acc: 6.237| Val Acc: 56.824\n",
            "Epoch 009: | Train Loss: 1.09853 | Val Loss: 1.11064 | Train Acc: 5.805| Val Acc: 18.616\n",
            "Epoch 010: | Train Loss: 1.09854 | Val Loss: 1.09527 | Train Acc: 5.951| Val Acc: 51.514\n",
            "\n"
          ],
          "name": "stdout"
        }
      ]
    },
    {
      "cell_type": "code",
      "metadata": {
        "id": "WkDtENO6dnUc",
        "colab_type": "code",
        "outputId": "6211c11d-65ea-45ec-d0fd-a93a28dd8336",
        "colab": {
          "base_uri": "https://localhost:8080/",
          "height": 286
        }
      },
      "source": [
        "train_val_acc_df = pd.DataFrame.from_dict(accuracy_stats).reset_index().melt(id_vars=['index']).rename(columns={\"index\":\"epochs\"})\n",
        "train_val_loss_df = pd.DataFrame.from_dict(loss_stats).reset_index().melt(id_vars=['index']).rename(columns={\"index\":\"epochs\"})\n",
        "\n",
        "fig, axes = plt.subplots(nrows=1, ncols=2, figsize=(30,10))\n",
        "sns.lineplot(data=train_val_acc_df, x = \"epochs\", y=\"value\", hue=\"variable\",  ax=axes[0]).set_title('Train-Val Accuracy/Epoch')\n",
        "sns.lineplot(data=train_val_loss_df, x = \"epochs\", y=\"value\", hue=\"variable\", ax=axes[1]).set_title('Train-Val Loss/Epoch')"
      ],
      "execution_count": 246,
      "outputs": [
        {
          "output_type": "execute_result",
          "data": {
            "text/plain": [
              "Text(0.5, 1.0, 'Train-Val Loss/Epoch')"
            ]
          },
          "metadata": {
            "tags": []
          },
          "execution_count": 246
        },
        {
          "output_type": "display_data",
          "data": {
            "image/png": "[encoded data removed]",
            "text/plain": [
              "<Figure size 2160x720 with 2 Axes>"
            ]
          },
          "metadata": {
            "tags": [],
            "needs_background": "light"
          }
        }
      ]
    },
    {
      "cell_type": "code",
      "metadata": {
        "id": "5Mn5v5-IeQjl",
        "colab_type": "code",
        "colab": {}
      },
      "source": [
        "y_pred_list = []\n",
        "\n",
        "with torch.no_grad():\n",
        "    model.eval()\n",
        "    for X_batch, _ in test_loader:\n",
        "        X_batch = X_batch.to(device)\n",
        "        y_test_pred = model(X_batch)\n",
        "        y_pred_softmax = torch.log_softmax(y_test_pred, dim = 1)\n",
        "        _, y_pred_tags = torch.max(y_pred_softmax, dim = 1)\n",
        "        y_pred_list.append(y_pred_tags.cpu().numpy())"
      ],
      "execution_count": 0,
      "outputs": []
    },
    {
      "cell_type": "code",
      "metadata": {
        "id": "qoAQrfG-eSHW",
        "colab_type": "code",
        "colab": {}
      },
      "source": [
        "y_pred_list = [a.squeeze().tolist() for a in y_pred_list]\n"
      ],
      "execution_count": 0,
      "outputs": []
    },
    {
      "cell_type": "code",
      "metadata": {
        "id": "kXwWH1Vw8flg",
        "colab_type": "code",
        "outputId": "f4dbf69e-24f0-453d-85f7-db530258250a",
        "colab": {
          "base_uri": "https://localhost:8080/",
          "height": 34
        }
      },
      "source": [
        "\n",
        "0 in y_pred_list"
      ],
      "execution_count": 249,
      "outputs": [
        {
          "output_type": "execute_result",
          "data": {
            "text/plain": [
              "True"
            ]
          },
          "metadata": {
            "tags": []
          },
          "execution_count": 249
        }
      ]
    },
    {
      "cell_type": "code",
      "metadata": {
        "id": "Rrmq1EBjeTje",
        "colab_type": "code",
        "outputId": "d295a328-0784-4e61-a3f8-af0117e619e1",
        "colab": {
          "base_uri": "https://localhost:8080/",
          "height": 68
        }
      },
      "source": [
        "print(confusion_matrix(y_test, y_pred_list))"
      ],
      "execution_count": 250,
      "outputs": [
        {
          "output_type": "stream",
          "text": [
            "[[10440  5880  3892]\n",
            " [   72    36    26]\n",
            " [   57    48    29]]\n"
          ],
          "name": "stdout"
        }
      ]
    },
    {
      "cell_type": "code",
      "metadata": {
        "id": "60_WwpUQeVCV",
        "colab_type": "code",
        "outputId": "1c03e713-661d-4709-98fb-b5e38db8603e",
        "colab": {
          "base_uri": "https://localhost:8080/",
          "height": 187
        }
      },
      "source": [
        "print(classification_report(y_test, y_pred_list, target_names=[\"0\", \"1\",\"2\"]))\n"
      ],
      "execution_count": 251,
      "outputs": [
        {
          "output_type": "stream",
          "text": [
            "              precision    recall  f1-score   support\n",
            "\n",
            "           0       0.99      0.52      0.68     20212\n",
            "           1       0.01      0.27      0.01       134\n",
            "           2       0.01      0.22      0.01       134\n",
            "\n",
            "    accuracy                           0.51     20480\n",
            "   macro avg       0.33      0.33      0.23     20480\n",
            "weighted avg       0.97      0.51      0.67     20480\n",
            "\n"
          ],
          "name": "stdout"
        }
      ]
    },
    {
      "cell_type": "code",
      "metadata": {
        "id": "0tld_h6-eWzQ",
        "colab_type": "code",
        "colab": {}
      },
      "source": [
        "#make a random sample of length M*N\n",
        "#print confusion matrix\n",
        "def out_of_sample(M):\n",
        "    x_sample = random_array(M)\n",
        "    ymax_sample, ymin_sample, ymean_sample , y_sample = extrema(x_sample, M)\n",
        "    \n",
        "    X_sample = x_sample.reshape(-1, 1)\n",
        "    X_sample = scaler.transform(X_sample)\n",
        "    \n",
        "    sample_dataset = ClassifierDataset(torch.from_numpy(X_sample).float(),\n",
        "                                    torch.from_numpy(y_sample).long())\n",
        "    \n",
        "    sample_loader = DataLoader(dataset=sample_dataset, batch_size=1)\n",
        "    \n",
        "    y_pred_list_sample = []\n",
        "\n",
        "    with torch.no_grad():\n",
        "        model.eval()\n",
        "        for X_batch, _ in sample_loader:\n",
        "            X_batch = X_batch.to(device)\n",
        "            y_test_pred = model(X_batch)\n",
        "            y_pred_softmax = torch.log_softmax(y_test_pred, dim = 1)\n",
        "            _, y_pred_tags = torch.max(y_pred_softmax, dim = 1)\n",
        "            y_pred_list_sample.append(y_pred_tags.cpu().numpy())\n",
        "            \n",
        "    print(confusion_matrix(y_sample, y_pred_list_sample))\n",
        "    return np.asarray(x_sample), np.asarray(y_pred_list_sample), np.asarray(y_sample)"
      ],
      "execution_count": 0,
      "outputs": []
    },
    {
      "cell_type": "code",
      "metadata": {
        "id": "zy-N6095KlnC",
        "colab_type": "code",
        "colab": {}
      },
      "source": [
        "#plot sample\n",
        "#plot real extrema (blue)\n",
        "#Plot predicted extrema (red)\n",
        "\n",
        "def plot_out_of_sample(M, n=1024):\n",
        "    #create a sample\n",
        "    x_sample, y_pred, y_real = out_of_sample(M)\n",
        "    #reshape predicted\n",
        "    y_pred = np.reshape(y_pred, len(y_pred))\n",
        "    t = np.linspace(0, n)\n",
        "    y1 = x_sample\n",
        "    y2 = y_real\n",
        "    y3 = y_pred\n",
        "    \n",
        "    \n",
        "    fig = go.Figure()\n",
        "\n",
        "    # Add traces\n",
        "    \n",
        "                  \n",
        "    fig.add_trace(go.Scatter(x=t, y=y1,\n",
        "                    mode='lines+markers',\n",
        "                    name='array_sample',\n",
        "                    marker_color='rgb(154, 221, 43)'))\n",
        "                  \n",
        "    fig.add_trace(go.Scatter(x=t, y=y2,\n",
        "                        mode='markers',\n",
        "                        name='Y_real',\n",
        "                        marker_color='rgb(0, 191, 255)'))\n",
        "    \n",
        "    fig.add_trace(go.Scatter(x=t, y=y3,\n",
        "                    mode='markers',\n",
        "                    name='Y_pred',\n",
        "                    marker_color='rgb(253, 68, 43)'))\n",
        "\n",
        "\n",
        "    return fig.show()"
      ],
      "execution_count": 0,
      "outputs": []
    },
    {
      "cell_type": "code",
      "metadata": {
        "id": "-3f0O2YKKpBA",
        "colab_type": "code",
        "outputId": "74cf2b5e-e03e-4b6b-8efd-fec9eda80964",
        "colab": {
          "base_uri": "https://localhost:8080/",
          "height": 307
        }
      },
      "source": [
        "plot_out_of_sample(10)"
      ],
      "execution_count": 0,
      "outputs": [
        {
          "output_type": "error",
          "ename": "ValueError",
          "evalue": "ignored",
          "traceback": [
            "\u001b[0;31m---------------------------------------------------------------------------\u001b[0m",
            "\u001b[0;31mValueError\u001b[0m                                Traceback (most recent call last)",
            "\u001b[0;32m<ipython-input-354-82652d0d7d69>\u001b[0m in \u001b[0;36m<module>\u001b[0;34m()\u001b[0m\n\u001b[0;32m----> 1\u001b[0;31m \u001b[0mplot_out_of_sample\u001b[0m\u001b[0;34m(\u001b[0m\u001b[0;36m10\u001b[0m\u001b[0;34m)\u001b[0m\u001b[0;34m\u001b[0m\u001b[0;34m\u001b[0m\u001b[0m\n\u001b[0m",
            "\u001b[0;32m<ipython-input-353-6e3d1ae941cf>\u001b[0m in \u001b[0;36mplot_out_of_sample\u001b[0;34m(M, n)\u001b[0m\n\u001b[1;32m      5\u001b[0m \u001b[0;32mdef\u001b[0m \u001b[0mplot_out_of_sample\u001b[0m\u001b[0;34m(\u001b[0m\u001b[0mM\u001b[0m\u001b[0;34m,\u001b[0m \u001b[0mn\u001b[0m\u001b[0;34m=\u001b[0m\u001b[0;36m1024\u001b[0m\u001b[0;34m)\u001b[0m\u001b[0;34m:\u001b[0m\u001b[0;34m\u001b[0m\u001b[0;34m\u001b[0m\u001b[0m\n\u001b[1;32m      6\u001b[0m     \u001b[0;31m#create a sample\u001b[0m\u001b[0;34m\u001b[0m\u001b[0;34m\u001b[0m\u001b[0;34m\u001b[0m\u001b[0m\n\u001b[0;32m----> 7\u001b[0;31m     \u001b[0mx_sample\u001b[0m\u001b[0;34m,\u001b[0m \u001b[0my_pred\u001b[0m\u001b[0;34m,\u001b[0m \u001b[0my_real\u001b[0m \u001b[0;34m=\u001b[0m \u001b[0mout_of_sample\u001b[0m\u001b[0;34m(\u001b[0m\u001b[0mM\u001b[0m\u001b[0;34m)\u001b[0m\u001b[0;34m\u001b[0m\u001b[0;34m\u001b[0m\u001b[0m\n\u001b[0m\u001b[1;32m      8\u001b[0m     \u001b[0;31m#reshape predicted\u001b[0m\u001b[0;34m\u001b[0m\u001b[0;34m\u001b[0m\u001b[0;34m\u001b[0m\u001b[0m\n\u001b[1;32m      9\u001b[0m     \u001b[0my_pred\u001b[0m \u001b[0;34m=\u001b[0m \u001b[0mnp\u001b[0m\u001b[0;34m.\u001b[0m\u001b[0mreshape\u001b[0m\u001b[0;34m(\u001b[0m\u001b[0my_pred\u001b[0m\u001b[0;34m,\u001b[0m \u001b[0mlen\u001b[0m\u001b[0;34m(\u001b[0m\u001b[0my_pred\u001b[0m\u001b[0;34m)\u001b[0m\u001b[0;34m)\u001b[0m\u001b[0;34m\u001b[0m\u001b[0;34m\u001b[0m\u001b[0m\n",
            "\u001b[0;32m<ipython-input-352-7e4192db72bb>\u001b[0m in \u001b[0;36mout_of_sample\u001b[0;34m(M)\u001b[0m\n\u001b[1;32m      3\u001b[0m \u001b[0;32mdef\u001b[0m \u001b[0mout_of_sample\u001b[0m\u001b[0;34m(\u001b[0m\u001b[0mM\u001b[0m\u001b[0;34m)\u001b[0m\u001b[0;34m:\u001b[0m\u001b[0;34m\u001b[0m\u001b[0;34m\u001b[0m\u001b[0m\n\u001b[1;32m      4\u001b[0m     \u001b[0mx_sample\u001b[0m \u001b[0;34m=\u001b[0m \u001b[0mrandom_array\u001b[0m\u001b[0;34m(\u001b[0m\u001b[0mM\u001b[0m\u001b[0;34m)\u001b[0m\u001b[0;34m\u001b[0m\u001b[0;34m\u001b[0m\u001b[0m\n\u001b[0;32m----> 5\u001b[0;31m     \u001b[0mymax_sample\u001b[0m\u001b[0;34m,\u001b[0m \u001b[0mymin_sample\u001b[0m\u001b[0;34m,\u001b[0m \u001b[0mymean_sample\u001b[0m \u001b[0;34m,\u001b[0m \u001b[0my_sample\u001b[0m \u001b[0;34m=\u001b[0m \u001b[0mextrema\u001b[0m\u001b[0;34m(\u001b[0m\u001b[0mx_sample\u001b[0m\u001b[0;34m,\u001b[0m \u001b[0mM\u001b[0m\u001b[0;34m)\u001b[0m\u001b[0;34m\u001b[0m\u001b[0;34m\u001b[0m\u001b[0m\n\u001b[0m\u001b[1;32m      6\u001b[0m \u001b[0;34m\u001b[0m\u001b[0m\n\u001b[1;32m      7\u001b[0m     \u001b[0mX_sample\u001b[0m \u001b[0;34m=\u001b[0m \u001b[0mx_sample\u001b[0m\u001b[0;34m.\u001b[0m\u001b[0mreshape\u001b[0m\u001b[0;34m(\u001b[0m\u001b[0;34m-\u001b[0m\u001b[0;36m1\u001b[0m\u001b[0;34m,\u001b[0m \u001b[0;36m1\u001b[0m\u001b[0;34m)\u001b[0m\u001b[0;34m\u001b[0m\u001b[0;34m\u001b[0m\u001b[0m\n",
            "\u001b[0;31mValueError\u001b[0m: not enough values to unpack (expected 4, got 3)"
          ]
        }
      ]
    },
    {
      "cell_type": "code",
      "metadata": {
        "id": "7FZ1hndVKqfu",
        "colab_type": "code",
        "colab": {}
      },
      "source": [
        ""
      ],
      "execution_count": 0,
      "outputs": []
    }
  ]
}