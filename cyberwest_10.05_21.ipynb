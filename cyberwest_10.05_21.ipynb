{
 "cells": [
  {
   "cell_type": "code",
   "execution_count": 1,
   "metadata": {},
   "outputs": [],
   "source": [
    "import pandas as pd\n",
    "import numpy as np\n",
    "import random\n",
    "import plotly.express as px\n",
    "import plotly.graph_objects as go\n"
   ]
  },
  {
   "cell_type": "code",
   "execution_count": 125,
   "metadata": {},
   "outputs": [],
   "source": [
    "#make a random array, x[0] = 1, x[i] = x[i-1] + random.uniform(-1, 1)\n",
    "def random_array(M):\n",
    "    random.seed(42)\n",
    "    N=1024\n",
    "    x = range(N)\n",
    "    y = np.zeros(N*M)\n",
    "    y[0] = 1\n",
    "    for i in range(1, N*M):\n",
    "        y[i] = y[i-1] + random.uniform(-1, 1)\n",
    "    \n",
    "    return y"
   ]
  },
  {
   "cell_type": "code",
   "execution_count": 141,
   "metadata": {},
   "outputs": [
    {
     "data": {
      "text/plain": [
       "array([ 1.        ,  1.2788536 ,  0.32887511, ..., 12.92878446,\n",
       "       12.12391645, 12.42557989])"
      ]
     },
     "execution_count": 141,
     "metadata": {},
     "output_type": "execute_result"
    }
   ],
   "source": [
    "arr = random_array(1000)\n",
    "arr"
   ]
  },
  {
   "cell_type": "code",
   "execution_count": 4,
   "metadata": {},
   "outputs": [],
   "source": [
    "#lokal maxima without conditions\n",
    "def maxima(x, arr):\n",
    "    #distance between min/max\n",
    "    dist = x\n",
    "    #an array of zeros\n",
    "    array = np.zeros(len(arr))\n",
    "    #if local maxima, than 1\n",
    "    for i in range(1, len(arr)-1):\n",
    "        if dist > x:\n",
    "            if arr[i] > arr[i-1] and arr[i] > arr[i+1]:\n",
    "                dist = 1\n",
    "                array[i] = 1\n",
    "        else:\n",
    "            dist+=1\n",
    "    return array\n",
    "        "
   ]
  },
  {
   "cell_type": "code",
   "execution_count": 145,
   "metadata": {},
   "outputs": [],
   "source": [
    "#local maxima/minima of random_array M*1024 \n",
    "#with distance between extrema > 3\n",
    "#changing MAXs and MINs\n",
    "#with T*std so that there are approx. 10 extrema in N=1024\n",
    "\n",
    "def extrema(x, arr, M=3000):\n",
    "    #arr = random_array(M)\n",
    "    #flag variable\n",
    "    found_min = False\n",
    "    found = False\n",
    "    #1/4 of std \n",
    "    T = 0.016\n",
    "    Y_last = 0\n",
    "    #distance between extrema >3\n",
    "    dist = x+1\n",
    "    Ymax = np.zeros(len(arr))\n",
    "    Ymin = np.zeros(len(arr))\n",
    "    #T*std\n",
    "    D = T*np.std(arr[:-(len(arr)-1)] - arr[0:])\n",
    "    for i in range(1, len(arr)-1):\n",
    "        #print(D)\n",
    "        #dist > 3 \n",
    "        if dist > x:\n",
    "            #decides to start with MAX or MIN at the beginning of the search\n",
    "            if found_min or not found:\n",
    "                if arr[i] > arr[i-1] and arr[i] > arr[i+1]:\n",
    "                    #whether or not the difference between the last extremum and a new one is more than T.std\n",
    "                    if np.abs(arr[i] - Y_last) >=D:\n",
    "                        dist = 1\n",
    "                        Ymax[i] = 1\n",
    "                        found = True\n",
    "                        found_min = False\n",
    "                        Y_last = arr[i]\n",
    "                    else:\n",
    "                        i+=1\n",
    "                    \n",
    "            if not found_min or not found:\n",
    "                if arr[i] < arr[i-1] and arr[i] < arr[i+1]:\n",
    "                    if np.abs(arr[i] - Y_last) >= D:\n",
    "                        dist = 1\n",
    "                        Ymin[i] = 1\n",
    "                        found = True\n",
    "                        found_min = True\n",
    "                        Y_last = arr[i]\n",
    "                    else:\n",
    "                        i+=1\n",
    "        else:\n",
    "            dist+=1\n",
    "    #Y_mean = number of extrema in N=1024       \n",
    "    Y_mean = np.sum(np.r_[Ymax, Ymin])/M\n",
    "    return Ymax, Ymin, Y_mean"
   ]
  },
  {
   "cell_type": "code",
   "execution_count": 146,
   "metadata": {},
   "outputs": [],
   "source": [
    "Ymax, Ymin, Y_mean = extrema(3, arr)"
   ]
  },
  {
   "cell_type": "code",
   "execution_count": 147,
   "metadata": {},
   "outputs": [
    {
     "data": {
      "text/plain": [
       "9.928333333333333"
      ]
     },
     "execution_count": 147,
     "metadata": {},
     "output_type": "execute_result"
    }
   ],
   "source": [
    "Y_mean"
   ]
  },
  {
   "cell_type": "code",
   "execution_count": 148,
   "metadata": {},
   "outputs": [],
   "source": [
    "#create random sample array from initial array \n",
    "def create_random_sample(arr):\n",
    "    \n",
    "    k = random.randint(10, 100)\n",
    "    p = random.randint(101, 1000)\n",
    "    for i in range(k, p):\n",
    "        arr_sample = arr[k:p]\n",
    "    return arr_sample"
   ]
  },
  {
   "cell_type": "code",
   "execution_count": 149,
   "metadata": {},
   "outputs": [],
   "source": [
    "#the functition plots a random sample array and shows local maxima(red) and local minima(blue)\n",
    "\n",
    "def plot_random_sample(n=1024):\n",
    "    #create a random sample\n",
    "    arr_sample = create_random_sample(arr)\n",
    "    #create Ymax and Ymin for random_sample\n",
    "    Ymax_sample, Ymin_sample, Y_mean = extrema(3, arr_sample)\n",
    "    #x-line for lenght = n\n",
    "    t = np.linspace(0, n)\n",
    "\n",
    "    y1 = Ymax_sample\n",
    "    y2 = arr_sample\n",
    "    y3 = Ymin_sample\n",
    "    fig = go.Figure()\n",
    "\n",
    "    # Add traces\n",
    "    fig.add_trace(go.Scatter(x=t, y=y1,\n",
    "                    mode='markers',\n",
    "                    name='Ymax',\n",
    "                    marker_color='rgb(253, 68, 43)'))\n",
    "                  \n",
    "    fig.add_trace(go.Scatter(x=t, y=y2,\n",
    "                    mode='lines+markers',\n",
    "                    name='array_sample',\n",
    "                    marker_color='rgb(154, 221, 43)'))\n",
    "                  \n",
    "    fig.add_trace(go.Scatter(x=t, y=y3,\n",
    "                        mode='markers',\n",
    "                        name='Ymin',\n",
    "                        marker_color='rgb(0, 191, 255)'))\n",
    "\n",
    "\n",
    "    fig.show()"
   ]
  },
  {
   "cell_type": "code",
   "execution_count": 150,
   "metadata": {},
   "outputs": [
    {
     "data": {
      "application/vnd.plotly.v1+json": {
       "config": {
        "plotlyServerURL": "https://plot.ly"
       },
       "data": [
        {
         "marker": {
          "color": "rgb(253, 68, 43)"
         },
         "mode": "markers",
         "name": "Ymax",
         "type": "scatter",
         "x": [
          0,
          20.897959183673468,
          41.795918367346935,
          62.69387755102041,
          83.59183673469387,
          104.48979591836734,
          125.38775510204081,
          146.28571428571428,
          167.18367346938774,
          188.0816326530612,
          208.97959183673467,
          229.87755102040813,
          250.77551020408163,
          271.67346938775506,
          292.57142857142856,
          313.469387755102,
          334.3673469387755,
          355.265306122449,
          376.1632653061224,
          397.0612244897959,
          417.95918367346934,
          438.85714285714283,
          459.75510204081627,
          480.65306122448976,
          501.55102040816325,
          522.4489795918367,
          543.3469387755101,
          564.2448979591836,
          585.1428571428571,
          606.0408163265306,
          626.938775510204,
          647.8367346938775,
          668.734693877551,
          689.6326530612245,
          710.530612244898,
          731.4285714285713,
          752.3265306122448,
          773.2244897959183,
          794.1224489795918,
          815.0204081632652,
          835.9183673469387,
          856.8163265306122,
          877.7142857142857,
          898.6122448979592,
          919.5102040816325,
          940.408163265306,
          961.3061224489795,
          982.204081632653,
          1003.1020408163265,
          1024
         ],
         "y": [
          0,
          0,
          0,
          0,
          0,
          0,
          0,
          1,
          0,
          0,
          0,
          0,
          0,
          0,
          0,
          0,
          0,
          0,
          0,
          0,
          0,
          0,
          1,
          0,
          0,
          0,
          0,
          0,
          0,
          0,
          0,
          0,
          1,
          0,
          0,
          0,
          0,
          0,
          0,
          0,
          0,
          1,
          0,
          0,
          0,
          0,
          0,
          0,
          0,
          0,
          1,
          0,
          0,
          0,
          0,
          0,
          0,
          0,
          0,
          0,
          0,
          0,
          0,
          0,
          0,
          0,
          1,
          0,
          0,
          0,
          0,
          0,
          0,
          0,
          0,
          0,
          0,
          1,
          0,
          0,
          0,
          0,
          0,
          0,
          0,
          0,
          0,
          0,
          0,
          0,
          1,
          0,
          0,
          0,
          0,
          0,
          0,
          0,
          0,
          0,
          0,
          0,
          0,
          0,
          0,
          1,
          0,
          0,
          0,
          0,
          0,
          0,
          0,
          0,
          1,
          0,
          0,
          0,
          0,
          0,
          0,
          0,
          0,
          0,
          1,
          0,
          0,
          0,
          0,
          0,
          0,
          0,
          0,
          0,
          1,
          0,
          0,
          0,
          0,
          0,
          0,
          0,
          0,
          0,
          0,
          0,
          0,
          0,
          0,
          1,
          0,
          0,
          0,
          0,
          0,
          0,
          0,
          0,
          0,
          0,
          0,
          0,
          0,
          1,
          0
         ]
        },
        {
         "marker": {
          "color": "rgb(154, 221, 43)"
         },
         "mode": "lines+markers",
         "name": "array_sample",
         "type": "scatter",
         "x": [
          0,
          20.897959183673468,
          41.795918367346935,
          62.69387755102041,
          83.59183673469387,
          104.48979591836734,
          125.38775510204081,
          146.28571428571428,
          167.18367346938774,
          188.0816326530612,
          208.97959183673467,
          229.87755102040813,
          250.77551020408163,
          271.67346938775506,
          292.57142857142856,
          313.469387755102,
          334.3673469387755,
          355.265306122449,
          376.1632653061224,
          397.0612244897959,
          417.95918367346934,
          438.85714285714283,
          459.75510204081627,
          480.65306122448976,
          501.55102040816325,
          522.4489795918367,
          543.3469387755101,
          564.2448979591836,
          585.1428571428571,
          606.0408163265306,
          626.938775510204,
          647.8367346938775,
          668.734693877551,
          689.6326530612245,
          710.530612244898,
          731.4285714285713,
          752.3265306122448,
          773.2244897959183,
          794.1224489795918,
          815.0204081632652,
          835.9183673469387,
          856.8163265306122,
          877.7142857142857,
          898.6122448979592,
          919.5102040816325,
          940.408163265306,
          961.3061224489795,
          982.204081632653,
          1003.1020408163265,
          1024
         ],
         "y": [
          -1.486206222047644,
          -1.729137467630937,
          -1.625056205084483,
          -0.9662468765784933,
          -0.7292073718500012,
          -0.005793571228446703,
          0.14891071928507738,
          0.5580543917149243,
          -0.35029684097375124,
          -0.8945002896706575,
          -1.3157243624664432,
          -2.156140408619188,
          -2.6905586358971276,
          -3.4885557770776696,
          -3.9326085708574854,
          -3.6612396823286852,
          -3.9315753243885165,
          -4.1912133901547515,
          -4.7721993286117765,
          -5.23824368451355,
          -4.364934509088561,
          -4.0688637385953745,
          -3.850601727261398,
          -4.508324430865204,
          -4.050070834964505,
          -4.723265847440649,
          -4.964354963925353,
          -3.9853082626521625,
          -3.705308742943977,
          -3.5914092553946846,
          -3.2221807534149356,
          -2.536476913035316,
          -1.9844770899428266,
          -2.526380946014618,
          -3.462180458206542,
          -3.8312743620883785,
          -4.2957926101369726,
          -4.873826922964319,
          -3.9880074942942105,
          -3.2352722413488726,
          -3.605916479751917,
          -3.295039149162157,
          -3.503775347040828,
          -2.674680167559741,
          -2.7569764623849435,
          -3.2272161293888386,
          -3.7339611140008717,
          -3.6112248456745704,
          -4.0857416286287,
          -3.9165696481816186,
          -3.1209238809766644,
          -3.32212287069587,
          -3.8834813523813034,
          -2.888406139391083,
          -2.869353552038154,
          -3.6875347276905663,
          -4.593301976841097,
          -5.374003716139779,
          -5.119111632733599,
          -4.534952904007671,
          -4.690632970408303,
          -5.563577558104389,
          -5.800338985091315,
          -4.808096224611122,
          -4.749867534412847,
          -3.8077107791856113,
          -3.086151374716615,
          -4.063189330830976,
          -3.6217456921105873,
          -3.2583249540574375,
          -3.184384293239847,
          -3.6507339133347614,
          -3.3688103161751455,
          -4.145705968983393,
          -4.276175467645182,
          -4.36872805498677,
          -3.4610961999446097,
          -2.7093903191882216,
          -3.18261221768604,
          -3.181439991585443,
          -3.8241362305251805,
          -2.9988805518355397,
          -2.257843412162006,
          -2.6609538292647406,
          -2.38305483953273,
          -2.1651144166563854,
          -2.8594358795571155,
          -2.334414279406813,
          -2.2556562191675615,
          -1.698403261906445,
          -1.6376959175160901,
          -2.636552125260203,
          -2.988240011250857,
          -3.9492865264791925,
          -3.0910892939499583,
          -2.33364553830359,
          -1.670314479581231,
          -2.055286228775908,
          -2.939435895787533,
          -2.183416697379452,
          -1.289517806783464,
          -2.1182109026477063,
          -2.146229976014479,
          -3.0078049390777117,
          -2.486600608563249,
          -1.9549317499492733,
          -2.698148820949748,
          -2.747584064752285,
          -2.6479768777623973,
          -3.117863619882279,
          -2.3729975377117642,
          -2.5267216573099907,
          -3.1031252464258268,
          -3.0245330688669103,
          -2.564670930686958,
          -3.162368803907566,
          -3.538936221305776,
          -2.5486375079839867,
          -2.24888139270508,
          -2.3726812248760716,
          -2.3375295428048903,
          -3.095521151068359,
          -3.646126477005244,
          -3.9699553527103335,
          -3.793337915795867,
          -4.333108450602713,
          -4.892673681699594,
          -5.750687509681529,
          -5.488481595141331,
          -6.030598027519022,
          -5.219758001506766,
          -4.500487200999273,
          -5.358772501221966,
          -5.882763232483976,
          -5.544807675891414,
          -6.116334061150537,
          -6.851710363700487,
          -5.9806818825391455,
          -5.838595695888577,
          -5.8932536432649885,
          -5.324014794683482,
          -4.709020799150195,
          -5.3282009704264395,
          -6.134339341968793,
          -6.272236977156037,
          -6.425079731116195,
          -6.491030395042845,
          -6.032878696123143,
          -5.68614960153654,
          -4.717819178804608,
          -5.52098343650069,
          -5.715740872296152,
          -6.037135661506226,
          -5.313790588800644,
          -5.8164779209600725,
          -6.436060104078449,
          -6.538833008412185,
          -6.695069728743377,
          -7.137979439409496,
          -7.638366543645295,
          -6.79183534509327,
          -6.905573854986356,
          -6.182875645462695,
          -6.082225020562999,
          -6.981048361513237
         ]
        },
        {
         "marker": {
          "color": "rgb(0, 191, 255)"
         },
         "mode": "markers",
         "name": "Ymin",
         "type": "scatter",
         "x": [
          0,
          20.897959183673468,
          41.795918367346935,
          62.69387755102041,
          83.59183673469387,
          104.48979591836734,
          125.38775510204081,
          146.28571428571428,
          167.18367346938774,
          188.0816326530612,
          208.97959183673467,
          229.87755102040813,
          250.77551020408163,
          271.67346938775506,
          292.57142857142856,
          313.469387755102,
          334.3673469387755,
          355.265306122449,
          376.1632653061224,
          397.0612244897959,
          417.95918367346934,
          438.85714285714283,
          459.75510204081627,
          480.65306122448976,
          501.55102040816325,
          522.4489795918367,
          543.3469387755101,
          564.2448979591836,
          585.1428571428571,
          606.0408163265306,
          626.938775510204,
          647.8367346938775,
          668.734693877551,
          689.6326530612245,
          710.530612244898,
          731.4285714285713,
          752.3265306122448,
          773.2244897959183,
          794.1224489795918,
          815.0204081632652,
          835.9183673469387,
          856.8163265306122,
          877.7142857142857,
          898.6122448979592,
          919.5102040816325,
          940.408163265306,
          961.3061224489795,
          982.204081632653,
          1003.1020408163265,
          1024
         ],
         "y": [
          0,
          1,
          0,
          0,
          0,
          0,
          0,
          0,
          0,
          0,
          0,
          0,
          0,
          0,
          1,
          0,
          0,
          0,
          0,
          0,
          0,
          0,
          0,
          0,
          0,
          0,
          1,
          0,
          0,
          0,
          0,
          0,
          0,
          0,
          0,
          0,
          0,
          1,
          0,
          0,
          0,
          0,
          0,
          0,
          0,
          0,
          1,
          0,
          0,
          0,
          0,
          0,
          0,
          0,
          0,
          0,
          0,
          1,
          0,
          0,
          0,
          0,
          0,
          0,
          0,
          0,
          0,
          0,
          0,
          0,
          0,
          1,
          0,
          0,
          0,
          0,
          0,
          0,
          0,
          0,
          0,
          0,
          0,
          1,
          0,
          0,
          0,
          0,
          0,
          0,
          0,
          0,
          0,
          0,
          0,
          0,
          0,
          0,
          1,
          0,
          0,
          0,
          0,
          0,
          0,
          0,
          0,
          0,
          0,
          1,
          0,
          0,
          0,
          0,
          0,
          0,
          0,
          0,
          0,
          1,
          0,
          0,
          0,
          0,
          0,
          0,
          0,
          0,
          0,
          1,
          0,
          0,
          0,
          0,
          0,
          0,
          0,
          0,
          0,
          1,
          0,
          0,
          0,
          0,
          0,
          0,
          0,
          0,
          0,
          0,
          0,
          0,
          0,
          0,
          0,
          0,
          0,
          0,
          0,
          1,
          0,
          0,
          0,
          0,
          0
         ]
        }
       ],
       "layout": {
        "template": {
         "data": {
          "bar": [
           {
            "error_x": {
             "color": "#2a3f5f"
            },
            "error_y": {
             "color": "#2a3f5f"
            },
            "marker": {
             "line": {
              "color": "#E5ECF6",
              "width": 0.5
             }
            },
            "type": "bar"
           }
          ],
          "barpolar": [
           {
            "marker": {
             "line": {
              "color": "#E5ECF6",
              "width": 0.5
             }
            },
            "type": "barpolar"
           }
          ],
          "carpet": [
           {
            "aaxis": {
             "endlinecolor": "#2a3f5f",
             "gridcolor": "white",
             "linecolor": "white",
             "minorgridcolor": "white",
             "startlinecolor": "#2a3f5f"
            },
            "baxis": {
             "endlinecolor": "#2a3f5f",
             "gridcolor": "white",
             "linecolor": "white",
             "minorgridcolor": "white",
             "startlinecolor": "#2a3f5f"
            },
            "type": "carpet"
           }
          ],
          "choropleth": [
           {
            "colorbar": {
             "outlinewidth": 0,
             "ticks": ""
            },
            "type": "choropleth"
           }
          ],
          "contour": [
           {
            "colorbar": {
             "outlinewidth": 0,
             "ticks": ""
            },
            "colorscale": [
             [
              0,
              "#0d0887"
             ],
             [
              0.1111111111111111,
              "#46039f"
             ],
             [
              0.2222222222222222,
              "#7201a8"
             ],
             [
              0.3333333333333333,
              "#9c179e"
             ],
             [
              0.4444444444444444,
              "#bd3786"
             ],
             [
              0.5555555555555556,
              "#d8576b"
             ],
             [
              0.6666666666666666,
              "#ed7953"
             ],
             [
              0.7777777777777778,
              "#fb9f3a"
             ],
             [
              0.8888888888888888,
              "#fdca26"
             ],
             [
              1,
              "#f0f921"
             ]
            ],
            "type": "contour"
           }
          ],
          "contourcarpet": [
           {
            "colorbar": {
             "outlinewidth": 0,
             "ticks": ""
            },
            "type": "contourcarpet"
           }
          ],
          "heatmap": [
           {
            "colorbar": {
             "outlinewidth": 0,
             "ticks": ""
            },
            "colorscale": [
             [
              0,
              "#0d0887"
             ],
             [
              0.1111111111111111,
              "#46039f"
             ],
             [
              0.2222222222222222,
              "#7201a8"
             ],
             [
              0.3333333333333333,
              "#9c179e"
             ],
             [
              0.4444444444444444,
              "#bd3786"
             ],
             [
              0.5555555555555556,
              "#d8576b"
             ],
             [
              0.6666666666666666,
              "#ed7953"
             ],
             [
              0.7777777777777778,
              "#fb9f3a"
             ],
             [
              0.8888888888888888,
              "#fdca26"
             ],
             [
              1,
              "#f0f921"
             ]
            ],
            "type": "heatmap"
           }
          ],
          "heatmapgl": [
           {
            "colorbar": {
             "outlinewidth": 0,
             "ticks": ""
            },
            "colorscale": [
             [
              0,
              "#0d0887"
             ],
             [
              0.1111111111111111,
              "#46039f"
             ],
             [
              0.2222222222222222,
              "#7201a8"
             ],
             [
              0.3333333333333333,
              "#9c179e"
             ],
             [
              0.4444444444444444,
              "#bd3786"
             ],
             [
              0.5555555555555556,
              "#d8576b"
             ],
             [
              0.6666666666666666,
              "#ed7953"
             ],
             [
              0.7777777777777778,
              "#fb9f3a"
             ],
             [
              0.8888888888888888,
              "#fdca26"
             ],
             [
              1,
              "#f0f921"
             ]
            ],
            "type": "heatmapgl"
           }
          ],
          "histogram": [
           {
            "marker": {
             "colorbar": {
              "outlinewidth": 0,
              "ticks": ""
             }
            },
            "type": "histogram"
           }
          ],
          "histogram2d": [
           {
            "colorbar": {
             "outlinewidth": 0,
             "ticks": ""
            },
            "colorscale": [
             [
              0,
              "#0d0887"
             ],
             [
              0.1111111111111111,
              "#46039f"
             ],
             [
              0.2222222222222222,
              "#7201a8"
             ],
             [
              0.3333333333333333,
              "#9c179e"
             ],
             [
              0.4444444444444444,
              "#bd3786"
             ],
             [
              0.5555555555555556,
              "#d8576b"
             ],
             [
              0.6666666666666666,
              "#ed7953"
             ],
             [
              0.7777777777777778,
              "#fb9f3a"
             ],
             [
              0.8888888888888888,
              "#fdca26"
             ],
             [
              1,
              "#f0f921"
             ]
            ],
            "type": "histogram2d"
           }
          ],
          "histogram2dcontour": [
           {
            "colorbar": {
             "outlinewidth": 0,
             "ticks": ""
            },
            "colorscale": [
             [
              0,
              "#0d0887"
             ],
             [
              0.1111111111111111,
              "#46039f"
             ],
             [
              0.2222222222222222,
              "#7201a8"
             ],
             [
              0.3333333333333333,
              "#9c179e"
             ],
             [
              0.4444444444444444,
              "#bd3786"
             ],
             [
              0.5555555555555556,
              "#d8576b"
             ],
             [
              0.6666666666666666,
              "#ed7953"
             ],
             [
              0.7777777777777778,
              "#fb9f3a"
             ],
             [
              0.8888888888888888,
              "#fdca26"
             ],
             [
              1,
              "#f0f921"
             ]
            ],
            "type": "histogram2dcontour"
           }
          ],
          "mesh3d": [
           {
            "colorbar": {
             "outlinewidth": 0,
             "ticks": ""
            },
            "type": "mesh3d"
           }
          ],
          "parcoords": [
           {
            "line": {
             "colorbar": {
              "outlinewidth": 0,
              "ticks": ""
             }
            },
            "type": "parcoords"
           }
          ],
          "pie": [
           {
            "automargin": true,
            "type": "pie"
           }
          ],
          "scatter": [
           {
            "marker": {
             "colorbar": {
              "outlinewidth": 0,
              "ticks": ""
             }
            },
            "type": "scatter"
           }
          ],
          "scatter3d": [
           {
            "line": {
             "colorbar": {
              "outlinewidth": 0,
              "ticks": ""
             }
            },
            "marker": {
             "colorbar": {
              "outlinewidth": 0,
              "ticks": ""
             }
            },
            "type": "scatter3d"
           }
          ],
          "scattercarpet": [
           {
            "marker": {
             "colorbar": {
              "outlinewidth": 0,
              "ticks": ""
             }
            },
            "type": "scattercarpet"
           }
          ],
          "scattergeo": [
           {
            "marker": {
             "colorbar": {
              "outlinewidth": 0,
              "ticks": ""
             }
            },
            "type": "scattergeo"
           }
          ],
          "scattergl": [
           {
            "marker": {
             "colorbar": {
              "outlinewidth": 0,
              "ticks": ""
             }
            },
            "type": "scattergl"
           }
          ],
          "scattermapbox": [
           {
            "marker": {
             "colorbar": {
              "outlinewidth": 0,
              "ticks": ""
             }
            },
            "type": "scattermapbox"
           }
          ],
          "scatterpolar": [
           {
            "marker": {
             "colorbar": {
              "outlinewidth": 0,
              "ticks": ""
             }
            },
            "type": "scatterpolar"
           }
          ],
          "scatterpolargl": [
           {
            "marker": {
             "colorbar": {
              "outlinewidth": 0,
              "ticks": ""
             }
            },
            "type": "scatterpolargl"
           }
          ],
          "scatterternary": [
           {
            "marker": {
             "colorbar": {
              "outlinewidth": 0,
              "ticks": ""
             }
            },
            "type": "scatterternary"
           }
          ],
          "surface": [
           {
            "colorbar": {
             "outlinewidth": 0,
             "ticks": ""
            },
            "colorscale": [
             [
              0,
              "#0d0887"
             ],
             [
              0.1111111111111111,
              "#46039f"
             ],
             [
              0.2222222222222222,
              "#7201a8"
             ],
             [
              0.3333333333333333,
              "#9c179e"
             ],
             [
              0.4444444444444444,
              "#bd3786"
             ],
             [
              0.5555555555555556,
              "#d8576b"
             ],
             [
              0.6666666666666666,
              "#ed7953"
             ],
             [
              0.7777777777777778,
              "#fb9f3a"
             ],
             [
              0.8888888888888888,
              "#fdca26"
             ],
             [
              1,
              "#f0f921"
             ]
            ],
            "type": "surface"
           }
          ],
          "table": [
           {
            "cells": {
             "fill": {
              "color": "#EBF0F8"
             },
             "line": {
              "color": "white"
             }
            },
            "header": {
             "fill": {
              "color": "#C8D4E3"
             },
             "line": {
              "color": "white"
             }
            },
            "type": "table"
           }
          ]
         },
         "layout": {
          "annotationdefaults": {
           "arrowcolor": "#2a3f5f",
           "arrowhead": 0,
           "arrowwidth": 1
          },
          "coloraxis": {
           "colorbar": {
            "outlinewidth": 0,
            "ticks": ""
           }
          },
          "colorscale": {
           "diverging": [
            [
             0,
             "#8e0152"
            ],
            [
             0.1,
             "#c51b7d"
            ],
            [
             0.2,
             "#de77ae"
            ],
            [
             0.3,
             "#f1b6da"
            ],
            [
             0.4,
             "#fde0ef"
            ],
            [
             0.5,
             "#f7f7f7"
            ],
            [
             0.6,
             "#e6f5d0"
            ],
            [
             0.7,
             "#b8e186"
            ],
            [
             0.8,
             "#7fbc41"
            ],
            [
             0.9,
             "#4d9221"
            ],
            [
             1,
             "#276419"
            ]
           ],
           "sequential": [
            [
             0,
             "#0d0887"
            ],
            [
             0.1111111111111111,
             "#46039f"
            ],
            [
             0.2222222222222222,
             "#7201a8"
            ],
            [
             0.3333333333333333,
             "#9c179e"
            ],
            [
             0.4444444444444444,
             "#bd3786"
            ],
            [
             0.5555555555555556,
             "#d8576b"
            ],
            [
             0.6666666666666666,
             "#ed7953"
            ],
            [
             0.7777777777777778,
             "#fb9f3a"
            ],
            [
             0.8888888888888888,
             "#fdca26"
            ],
            [
             1,
             "#f0f921"
            ]
           ],
           "sequentialminus": [
            [
             0,
             "#0d0887"
            ],
            [
             0.1111111111111111,
             "#46039f"
            ],
            [
             0.2222222222222222,
             "#7201a8"
            ],
            [
             0.3333333333333333,
             "#9c179e"
            ],
            [
             0.4444444444444444,
             "#bd3786"
            ],
            [
             0.5555555555555556,
             "#d8576b"
            ],
            [
             0.6666666666666666,
             "#ed7953"
            ],
            [
             0.7777777777777778,
             "#fb9f3a"
            ],
            [
             0.8888888888888888,
             "#fdca26"
            ],
            [
             1,
             "#f0f921"
            ]
           ]
          },
          "colorway": [
           "#636efa",
           "#EF553B",
           "#00cc96",
           "#ab63fa",
           "#FFA15A",
           "#19d3f3",
           "#FF6692",
           "#B6E880",
           "#FF97FF",
           "#FECB52"
          ],
          "font": {
           "color": "#2a3f5f"
          },
          "geo": {
           "bgcolor": "white",
           "lakecolor": "white",
           "landcolor": "#E5ECF6",
           "showlakes": true,
           "showland": true,
           "subunitcolor": "white"
          },
          "hoverlabel": {
           "align": "left"
          },
          "hovermode": "closest",
          "mapbox": {
           "style": "light"
          },
          "paper_bgcolor": "white",
          "plot_bgcolor": "#E5ECF6",
          "polar": {
           "angularaxis": {
            "gridcolor": "white",
            "linecolor": "white",
            "ticks": ""
           },
           "bgcolor": "#E5ECF6",
           "radialaxis": {
            "gridcolor": "white",
            "linecolor": "white",
            "ticks": ""
           }
          },
          "scene": {
           "xaxis": {
            "backgroundcolor": "#E5ECF6",
            "gridcolor": "white",
            "gridwidth": 2,
            "linecolor": "white",
            "showbackground": true,
            "ticks": "",
            "zerolinecolor": "white"
           },
           "yaxis": {
            "backgroundcolor": "#E5ECF6",
            "gridcolor": "white",
            "gridwidth": 2,
            "linecolor": "white",
            "showbackground": true,
            "ticks": "",
            "zerolinecolor": "white"
           },
           "zaxis": {
            "backgroundcolor": "#E5ECF6",
            "gridcolor": "white",
            "gridwidth": 2,
            "linecolor": "white",
            "showbackground": true,
            "ticks": "",
            "zerolinecolor": "white"
           }
          },
          "shapedefaults": {
           "line": {
            "color": "#2a3f5f"
           }
          },
          "ternary": {
           "aaxis": {
            "gridcolor": "white",
            "linecolor": "white",
            "ticks": ""
           },
           "baxis": {
            "gridcolor": "white",
            "linecolor": "white",
            "ticks": ""
           },
           "bgcolor": "#E5ECF6",
           "caxis": {
            "gridcolor": "white",
            "linecolor": "white",
            "ticks": ""
           }
          },
          "title": {
           "x": 0.05
          },
          "xaxis": {
           "automargin": true,
           "gridcolor": "white",
           "linecolor": "white",
           "ticks": "",
           "title": {
            "standoff": 15
           },
           "zerolinecolor": "white",
           "zerolinewidth": 2
          },
          "yaxis": {
           "automargin": true,
           "gridcolor": "white",
           "linecolor": "white",
           "ticks": "",
           "title": {
            "standoff": 15
           },
           "zerolinecolor": "white",
           "zerolinewidth": 2
          }
         }
        }
       }
      },
      "text/html": [
       "<div>\n",
       "        \n",
       "        \n",
       "            <div id=\"aa461270-80de-4bb7-8278-53f346848096\" class=\"plotly-graph-div\" style=\"height:525px; width:100%;\"></div>\n",
       "            <script type=\"text/javascript\">\n",
       "                require([\"plotly\"], function(Plotly) {\n",
       "                    window.PLOTLYENV=window.PLOTLYENV || {};\n",
       "                    \n",
       "                if (document.getElementById(\"aa461270-80de-4bb7-8278-53f346848096\")) {\n",
       "                    Plotly.newPlot(\n",
       "                        'aa461270-80de-4bb7-8278-53f346848096',\n",
       "                        [{\"marker\": {\"color\": \"rgb(253, 68, 43)\"}, \"mode\": \"markers\", \"name\": \"Ymax\", \"type\": \"scatter\", \"x\": [0.0, 20.897959183673468, 41.795918367346935, 62.69387755102041, 83.59183673469387, 104.48979591836734, 125.38775510204081, 146.28571428571428, 167.18367346938774, 188.0816326530612, 208.97959183673467, 229.87755102040813, 250.77551020408163, 271.67346938775506, 292.57142857142856, 313.469387755102, 334.3673469387755, 355.265306122449, 376.1632653061224, 397.0612244897959, 417.95918367346934, 438.85714285714283, 459.75510204081627, 480.65306122448976, 501.55102040816325, 522.4489795918367, 543.3469387755101, 564.2448979591836, 585.1428571428571, 606.0408163265306, 626.938775510204, 647.8367346938775, 668.734693877551, 689.6326530612245, 710.530612244898, 731.4285714285713, 752.3265306122448, 773.2244897959183, 794.1224489795918, 815.0204081632652, 835.9183673469387, 856.8163265306122, 877.7142857142857, 898.6122448979592, 919.5102040816325, 940.408163265306, 961.3061224489795, 982.204081632653, 1003.1020408163265, 1024.0], \"y\": [0.0, 0.0, 0.0, 0.0, 0.0, 0.0, 0.0, 1.0, 0.0, 0.0, 0.0, 0.0, 0.0, 0.0, 0.0, 0.0, 0.0, 0.0, 0.0, 0.0, 0.0, 0.0, 1.0, 0.0, 0.0, 0.0, 0.0, 0.0, 0.0, 0.0, 0.0, 0.0, 1.0, 0.0, 0.0, 0.0, 0.0, 0.0, 0.0, 0.0, 0.0, 1.0, 0.0, 0.0, 0.0, 0.0, 0.0, 0.0, 0.0, 0.0, 1.0, 0.0, 0.0, 0.0, 0.0, 0.0, 0.0, 0.0, 0.0, 0.0, 0.0, 0.0, 0.0, 0.0, 0.0, 0.0, 1.0, 0.0, 0.0, 0.0, 0.0, 0.0, 0.0, 0.0, 0.0, 0.0, 0.0, 1.0, 0.0, 0.0, 0.0, 0.0, 0.0, 0.0, 0.0, 0.0, 0.0, 0.0, 0.0, 0.0, 1.0, 0.0, 0.0, 0.0, 0.0, 0.0, 0.0, 0.0, 0.0, 0.0, 0.0, 0.0, 0.0, 0.0, 0.0, 1.0, 0.0, 0.0, 0.0, 0.0, 0.0, 0.0, 0.0, 0.0, 1.0, 0.0, 0.0, 0.0, 0.0, 0.0, 0.0, 0.0, 0.0, 0.0, 1.0, 0.0, 0.0, 0.0, 0.0, 0.0, 0.0, 0.0, 0.0, 0.0, 1.0, 0.0, 0.0, 0.0, 0.0, 0.0, 0.0, 0.0, 0.0, 0.0, 0.0, 0.0, 0.0, 0.0, 0.0, 1.0, 0.0, 0.0, 0.0, 0.0, 0.0, 0.0, 0.0, 0.0, 0.0, 0.0, 0.0, 0.0, 0.0, 1.0, 0.0]}, {\"marker\": {\"color\": \"rgb(154, 221, 43)\"}, \"mode\": \"lines+markers\", \"name\": \"array_sample\", \"type\": \"scatter\", \"x\": [0.0, 20.897959183673468, 41.795918367346935, 62.69387755102041, 83.59183673469387, 104.48979591836734, 125.38775510204081, 146.28571428571428, 167.18367346938774, 188.0816326530612, 208.97959183673467, 229.87755102040813, 250.77551020408163, 271.67346938775506, 292.57142857142856, 313.469387755102, 334.3673469387755, 355.265306122449, 376.1632653061224, 397.0612244897959, 417.95918367346934, 438.85714285714283, 459.75510204081627, 480.65306122448976, 501.55102040816325, 522.4489795918367, 543.3469387755101, 564.2448979591836, 585.1428571428571, 606.0408163265306, 626.938775510204, 647.8367346938775, 668.734693877551, 689.6326530612245, 710.530612244898, 731.4285714285713, 752.3265306122448, 773.2244897959183, 794.1224489795918, 815.0204081632652, 835.9183673469387, 856.8163265306122, 877.7142857142857, 898.6122448979592, 919.5102040816325, 940.408163265306, 961.3061224489795, 982.204081632653, 1003.1020408163265, 1024.0], \"y\": [-1.486206222047644, -1.729137467630937, -1.625056205084483, -0.9662468765784933, -0.7292073718500012, -0.005793571228446703, 0.14891071928507738, 0.5580543917149243, -0.35029684097375124, -0.8945002896706575, -1.3157243624664432, -2.156140408619188, -2.6905586358971276, -3.4885557770776696, -3.9326085708574854, -3.6612396823286852, -3.9315753243885165, -4.1912133901547515, -4.7721993286117765, -5.23824368451355, -4.364934509088561, -4.0688637385953745, -3.850601727261398, -4.508324430865204, -4.050070834964505, -4.723265847440649, -4.964354963925353, -3.9853082626521625, -3.705308742943977, -3.5914092553946846, -3.2221807534149356, -2.536476913035316, -1.9844770899428266, -2.526380946014618, -3.462180458206542, -3.8312743620883785, -4.2957926101369726, -4.873826922964319, -3.9880074942942105, -3.2352722413488726, -3.605916479751917, -3.295039149162157, -3.503775347040828, -2.674680167559741, -2.7569764623849435, -3.2272161293888386, -3.7339611140008717, -3.6112248456745704, -4.0857416286287, -3.9165696481816186, -3.1209238809766644, -3.32212287069587, -3.8834813523813034, -2.888406139391083, -2.869353552038154, -3.6875347276905663, -4.593301976841097, -5.374003716139779, -5.119111632733599, -4.534952904007671, -4.690632970408303, -5.563577558104389, -5.800338985091315, -4.808096224611122, -4.749867534412847, -3.8077107791856113, -3.086151374716615, -4.063189330830976, -3.6217456921105873, -3.2583249540574375, -3.184384293239847, -3.6507339133347614, -3.3688103161751455, -4.145705968983393, -4.276175467645182, -4.36872805498677, -3.4610961999446097, -2.7093903191882216, -3.18261221768604, -3.181439991585443, -3.8241362305251805, -2.9988805518355397, -2.257843412162006, -2.6609538292647406, -2.38305483953273, -2.1651144166563854, -2.8594358795571155, -2.334414279406813, -2.2556562191675615, -1.698403261906445, -1.6376959175160901, -2.636552125260203, -2.988240011250857, -3.9492865264791925, -3.0910892939499583, -2.33364553830359, -1.670314479581231, -2.055286228775908, -2.939435895787533, -2.183416697379452, -1.289517806783464, -2.1182109026477063, -2.146229976014479, -3.0078049390777117, -2.486600608563249, -1.9549317499492733, -2.698148820949748, -2.747584064752285, -2.6479768777623973, -3.117863619882279, -2.3729975377117642, -2.5267216573099907, -3.1031252464258268, -3.0245330688669103, -2.564670930686958, -3.162368803907566, -3.538936221305776, -2.5486375079839867, -2.24888139270508, -2.3726812248760716, -2.3375295428048903, -3.095521151068359, -3.646126477005244, -3.9699553527103335, -3.793337915795867, -4.333108450602713, -4.892673681699594, -5.750687509681529, -5.488481595141331, -6.030598027519022, -5.219758001506766, -4.500487200999273, -5.358772501221966, -5.882763232483976, -5.544807675891414, -6.116334061150537, -6.851710363700487, -5.9806818825391455, -5.838595695888577, -5.8932536432649885, -5.324014794683482, -4.709020799150195, -5.3282009704264395, -6.134339341968793, -6.272236977156037, -6.425079731116195, -6.491030395042845, -6.032878696123143, -5.68614960153654, -4.717819178804608, -5.52098343650069, -5.715740872296152, -6.037135661506226, -5.313790588800644, -5.8164779209600725, -6.436060104078449, -6.538833008412185, -6.695069728743377, -7.137979439409496, -7.638366543645295, -6.79183534509327, -6.905573854986356, -6.182875645462695, -6.082225020562999, -6.981048361513237]}, {\"marker\": {\"color\": \"rgb(0, 191, 255)\"}, \"mode\": \"markers\", \"name\": \"Ymin\", \"type\": \"scatter\", \"x\": [0.0, 20.897959183673468, 41.795918367346935, 62.69387755102041, 83.59183673469387, 104.48979591836734, 125.38775510204081, 146.28571428571428, 167.18367346938774, 188.0816326530612, 208.97959183673467, 229.87755102040813, 250.77551020408163, 271.67346938775506, 292.57142857142856, 313.469387755102, 334.3673469387755, 355.265306122449, 376.1632653061224, 397.0612244897959, 417.95918367346934, 438.85714285714283, 459.75510204081627, 480.65306122448976, 501.55102040816325, 522.4489795918367, 543.3469387755101, 564.2448979591836, 585.1428571428571, 606.0408163265306, 626.938775510204, 647.8367346938775, 668.734693877551, 689.6326530612245, 710.530612244898, 731.4285714285713, 752.3265306122448, 773.2244897959183, 794.1224489795918, 815.0204081632652, 835.9183673469387, 856.8163265306122, 877.7142857142857, 898.6122448979592, 919.5102040816325, 940.408163265306, 961.3061224489795, 982.204081632653, 1003.1020408163265, 1024.0], \"y\": [0.0, 1.0, 0.0, 0.0, 0.0, 0.0, 0.0, 0.0, 0.0, 0.0, 0.0, 0.0, 0.0, 0.0, 1.0, 0.0, 0.0, 0.0, 0.0, 0.0, 0.0, 0.0, 0.0, 0.0, 0.0, 0.0, 1.0, 0.0, 0.0, 0.0, 0.0, 0.0, 0.0, 0.0, 0.0, 0.0, 0.0, 1.0, 0.0, 0.0, 0.0, 0.0, 0.0, 0.0, 0.0, 0.0, 1.0, 0.0, 0.0, 0.0, 0.0, 0.0, 0.0, 0.0, 0.0, 0.0, 0.0, 1.0, 0.0, 0.0, 0.0, 0.0, 0.0, 0.0, 0.0, 0.0, 0.0, 0.0, 0.0, 0.0, 0.0, 1.0, 0.0, 0.0, 0.0, 0.0, 0.0, 0.0, 0.0, 0.0, 0.0, 0.0, 0.0, 1.0, 0.0, 0.0, 0.0, 0.0, 0.0, 0.0, 0.0, 0.0, 0.0, 0.0, 0.0, 0.0, 0.0, 0.0, 1.0, 0.0, 0.0, 0.0, 0.0, 0.0, 0.0, 0.0, 0.0, 0.0, 0.0, 1.0, 0.0, 0.0, 0.0, 0.0, 0.0, 0.0, 0.0, 0.0, 0.0, 1.0, 0.0, 0.0, 0.0, 0.0, 0.0, 0.0, 0.0, 0.0, 0.0, 1.0, 0.0, 0.0, 0.0, 0.0, 0.0, 0.0, 0.0, 0.0, 0.0, 1.0, 0.0, 0.0, 0.0, 0.0, 0.0, 0.0, 0.0, 0.0, 0.0, 0.0, 0.0, 0.0, 0.0, 0.0, 0.0, 0.0, 0.0, 0.0, 0.0, 1.0, 0.0, 0.0, 0.0, 0.0, 0.0]}],\n",
       "                        {\"template\": {\"data\": {\"bar\": [{\"error_x\": {\"color\": \"#2a3f5f\"}, \"error_y\": {\"color\": \"#2a3f5f\"}, \"marker\": {\"line\": {\"color\": \"#E5ECF6\", \"width\": 0.5}}, \"type\": \"bar\"}], \"barpolar\": [{\"marker\": {\"line\": {\"color\": \"#E5ECF6\", \"width\": 0.5}}, \"type\": \"barpolar\"}], \"carpet\": [{\"aaxis\": {\"endlinecolor\": \"#2a3f5f\", \"gridcolor\": \"white\", \"linecolor\": \"white\", \"minorgridcolor\": \"white\", \"startlinecolor\": \"#2a3f5f\"}, \"baxis\": {\"endlinecolor\": \"#2a3f5f\", \"gridcolor\": \"white\", \"linecolor\": \"white\", \"minorgridcolor\": \"white\", \"startlinecolor\": \"#2a3f5f\"}, \"type\": \"carpet\"}], \"choropleth\": [{\"colorbar\": {\"outlinewidth\": 0, \"ticks\": \"\"}, \"type\": \"choropleth\"}], \"contour\": [{\"colorbar\": {\"outlinewidth\": 0, \"ticks\": \"\"}, \"colorscale\": [[0.0, \"#0d0887\"], [0.1111111111111111, \"#46039f\"], [0.2222222222222222, \"#7201a8\"], [0.3333333333333333, \"#9c179e\"], [0.4444444444444444, \"#bd3786\"], [0.5555555555555556, \"#d8576b\"], [0.6666666666666666, \"#ed7953\"], [0.7777777777777778, \"#fb9f3a\"], [0.8888888888888888, \"#fdca26\"], [1.0, \"#f0f921\"]], \"type\": \"contour\"}], \"contourcarpet\": [{\"colorbar\": {\"outlinewidth\": 0, \"ticks\": \"\"}, \"type\": \"contourcarpet\"}], \"heatmap\": [{\"colorbar\": {\"outlinewidth\": 0, \"ticks\": \"\"}, \"colorscale\": [[0.0, \"#0d0887\"], [0.1111111111111111, \"#46039f\"], [0.2222222222222222, \"#7201a8\"], [0.3333333333333333, \"#9c179e\"], [0.4444444444444444, \"#bd3786\"], [0.5555555555555556, \"#d8576b\"], [0.6666666666666666, \"#ed7953\"], [0.7777777777777778, \"#fb9f3a\"], [0.8888888888888888, \"#fdca26\"], [1.0, \"#f0f921\"]], \"type\": \"heatmap\"}], \"heatmapgl\": [{\"colorbar\": {\"outlinewidth\": 0, \"ticks\": \"\"}, \"colorscale\": [[0.0, \"#0d0887\"], [0.1111111111111111, \"#46039f\"], [0.2222222222222222, \"#7201a8\"], [0.3333333333333333, \"#9c179e\"], [0.4444444444444444, \"#bd3786\"], [0.5555555555555556, \"#d8576b\"], [0.6666666666666666, \"#ed7953\"], [0.7777777777777778, \"#fb9f3a\"], [0.8888888888888888, \"#fdca26\"], [1.0, \"#f0f921\"]], \"type\": \"heatmapgl\"}], \"histogram\": [{\"marker\": {\"colorbar\": {\"outlinewidth\": 0, \"ticks\": \"\"}}, \"type\": \"histogram\"}], \"histogram2d\": [{\"colorbar\": {\"outlinewidth\": 0, \"ticks\": \"\"}, \"colorscale\": [[0.0, \"#0d0887\"], [0.1111111111111111, \"#46039f\"], [0.2222222222222222, \"#7201a8\"], [0.3333333333333333, \"#9c179e\"], [0.4444444444444444, \"#bd3786\"], [0.5555555555555556, \"#d8576b\"], [0.6666666666666666, \"#ed7953\"], [0.7777777777777778, \"#fb9f3a\"], [0.8888888888888888, \"#fdca26\"], [1.0, \"#f0f921\"]], \"type\": \"histogram2d\"}], \"histogram2dcontour\": [{\"colorbar\": {\"outlinewidth\": 0, \"ticks\": \"\"}, \"colorscale\": [[0.0, \"#0d0887\"], [0.1111111111111111, \"#46039f\"], [0.2222222222222222, \"#7201a8\"], [0.3333333333333333, \"#9c179e\"], [0.4444444444444444, \"#bd3786\"], [0.5555555555555556, \"#d8576b\"], [0.6666666666666666, \"#ed7953\"], [0.7777777777777778, \"#fb9f3a\"], [0.8888888888888888, \"#fdca26\"], [1.0, \"#f0f921\"]], \"type\": \"histogram2dcontour\"}], \"mesh3d\": [{\"colorbar\": {\"outlinewidth\": 0, \"ticks\": \"\"}, \"type\": \"mesh3d\"}], \"parcoords\": [{\"line\": {\"colorbar\": {\"outlinewidth\": 0, \"ticks\": \"\"}}, \"type\": \"parcoords\"}], \"pie\": [{\"automargin\": true, \"type\": \"pie\"}], \"scatter\": [{\"marker\": {\"colorbar\": {\"outlinewidth\": 0, \"ticks\": \"\"}}, \"type\": \"scatter\"}], \"scatter3d\": [{\"line\": {\"colorbar\": {\"outlinewidth\": 0, \"ticks\": \"\"}}, \"marker\": {\"colorbar\": {\"outlinewidth\": 0, \"ticks\": \"\"}}, \"type\": \"scatter3d\"}], \"scattercarpet\": [{\"marker\": {\"colorbar\": {\"outlinewidth\": 0, \"ticks\": \"\"}}, \"type\": \"scattercarpet\"}], \"scattergeo\": [{\"marker\": {\"colorbar\": {\"outlinewidth\": 0, \"ticks\": \"\"}}, \"type\": \"scattergeo\"}], \"scattergl\": [{\"marker\": {\"colorbar\": {\"outlinewidth\": 0, \"ticks\": \"\"}}, \"type\": \"scattergl\"}], \"scattermapbox\": [{\"marker\": {\"colorbar\": {\"outlinewidth\": 0, \"ticks\": \"\"}}, \"type\": \"scattermapbox\"}], \"scatterpolar\": [{\"marker\": {\"colorbar\": {\"outlinewidth\": 0, \"ticks\": \"\"}}, \"type\": \"scatterpolar\"}], \"scatterpolargl\": [{\"marker\": {\"colorbar\": {\"outlinewidth\": 0, \"ticks\": \"\"}}, \"type\": \"scatterpolargl\"}], \"scatterternary\": [{\"marker\": {\"colorbar\": {\"outlinewidth\": 0, \"ticks\": \"\"}}, \"type\": \"scatterternary\"}], \"surface\": [{\"colorbar\": {\"outlinewidth\": 0, \"ticks\": \"\"}, \"colorscale\": [[0.0, \"#0d0887\"], [0.1111111111111111, \"#46039f\"], [0.2222222222222222, \"#7201a8\"], [0.3333333333333333, \"#9c179e\"], [0.4444444444444444, \"#bd3786\"], [0.5555555555555556, \"#d8576b\"], [0.6666666666666666, \"#ed7953\"], [0.7777777777777778, \"#fb9f3a\"], [0.8888888888888888, \"#fdca26\"], [1.0, \"#f0f921\"]], \"type\": \"surface\"}], \"table\": [{\"cells\": {\"fill\": {\"color\": \"#EBF0F8\"}, \"line\": {\"color\": \"white\"}}, \"header\": {\"fill\": {\"color\": \"#C8D4E3\"}, \"line\": {\"color\": \"white\"}}, \"type\": \"table\"}]}, \"layout\": {\"annotationdefaults\": {\"arrowcolor\": \"#2a3f5f\", \"arrowhead\": 0, \"arrowwidth\": 1}, \"coloraxis\": {\"colorbar\": {\"outlinewidth\": 0, \"ticks\": \"\"}}, \"colorscale\": {\"diverging\": [[0, \"#8e0152\"], [0.1, \"#c51b7d\"], [0.2, \"#de77ae\"], [0.3, \"#f1b6da\"], [0.4, \"#fde0ef\"], [0.5, \"#f7f7f7\"], [0.6, \"#e6f5d0\"], [0.7, \"#b8e186\"], [0.8, \"#7fbc41\"], [0.9, \"#4d9221\"], [1, \"#276419\"]], \"sequential\": [[0.0, \"#0d0887\"], [0.1111111111111111, \"#46039f\"], [0.2222222222222222, \"#7201a8\"], [0.3333333333333333, \"#9c179e\"], [0.4444444444444444, \"#bd3786\"], [0.5555555555555556, \"#d8576b\"], [0.6666666666666666, \"#ed7953\"], [0.7777777777777778, \"#fb9f3a\"], [0.8888888888888888, \"#fdca26\"], [1.0, \"#f0f921\"]], \"sequentialminus\": [[0.0, \"#0d0887\"], [0.1111111111111111, \"#46039f\"], [0.2222222222222222, \"#7201a8\"], [0.3333333333333333, \"#9c179e\"], [0.4444444444444444, \"#bd3786\"], [0.5555555555555556, \"#d8576b\"], [0.6666666666666666, \"#ed7953\"], [0.7777777777777778, \"#fb9f3a\"], [0.8888888888888888, \"#fdca26\"], [1.0, \"#f0f921\"]]}, \"colorway\": [\"#636efa\", \"#EF553B\", \"#00cc96\", \"#ab63fa\", \"#FFA15A\", \"#19d3f3\", \"#FF6692\", \"#B6E880\", \"#FF97FF\", \"#FECB52\"], \"font\": {\"color\": \"#2a3f5f\"}, \"geo\": {\"bgcolor\": \"white\", \"lakecolor\": \"white\", \"landcolor\": \"#E5ECF6\", \"showlakes\": true, \"showland\": true, \"subunitcolor\": \"white\"}, \"hoverlabel\": {\"align\": \"left\"}, \"hovermode\": \"closest\", \"mapbox\": {\"style\": \"light\"}, \"paper_bgcolor\": \"white\", \"plot_bgcolor\": \"#E5ECF6\", \"polar\": {\"angularaxis\": {\"gridcolor\": \"white\", \"linecolor\": \"white\", \"ticks\": \"\"}, \"bgcolor\": \"#E5ECF6\", \"radialaxis\": {\"gridcolor\": \"white\", \"linecolor\": \"white\", \"ticks\": \"\"}}, \"scene\": {\"xaxis\": {\"backgroundcolor\": \"#E5ECF6\", \"gridcolor\": \"white\", \"gridwidth\": 2, \"linecolor\": \"white\", \"showbackground\": true, \"ticks\": \"\", \"zerolinecolor\": \"white\"}, \"yaxis\": {\"backgroundcolor\": \"#E5ECF6\", \"gridcolor\": \"white\", \"gridwidth\": 2, \"linecolor\": \"white\", \"showbackground\": true, \"ticks\": \"\", \"zerolinecolor\": \"white\"}, \"zaxis\": {\"backgroundcolor\": \"#E5ECF6\", \"gridcolor\": \"white\", \"gridwidth\": 2, \"linecolor\": \"white\", \"showbackground\": true, \"ticks\": \"\", \"zerolinecolor\": \"white\"}}, \"shapedefaults\": {\"line\": {\"color\": \"#2a3f5f\"}}, \"ternary\": {\"aaxis\": {\"gridcolor\": \"white\", \"linecolor\": \"white\", \"ticks\": \"\"}, \"baxis\": {\"gridcolor\": \"white\", \"linecolor\": \"white\", \"ticks\": \"\"}, \"bgcolor\": \"#E5ECF6\", \"caxis\": {\"gridcolor\": \"white\", \"linecolor\": \"white\", \"ticks\": \"\"}}, \"title\": {\"x\": 0.05}, \"xaxis\": {\"automargin\": true, \"gridcolor\": \"white\", \"linecolor\": \"white\", \"ticks\": \"\", \"title\": {\"standoff\": 15}, \"zerolinecolor\": \"white\", \"zerolinewidth\": 2}, \"yaxis\": {\"automargin\": true, \"gridcolor\": \"white\", \"linecolor\": \"white\", \"ticks\": \"\", \"title\": {\"standoff\": 15}, \"zerolinecolor\": \"white\", \"zerolinewidth\": 2}}}},\n",
       "                        {\"responsive\": true}\n",
       "                    ).then(function(){\n",
       "                            \n",
       "var gd = document.getElementById('aa461270-80de-4bb7-8278-53f346848096');\n",
       "var x = new MutationObserver(function (mutations, observer) {{\n",
       "        var display = window.getComputedStyle(gd).display;\n",
       "        if (!display || display === 'none') {{\n",
       "            console.log([gd, 'removed!']);\n",
       "            Plotly.purge(gd);\n",
       "            observer.disconnect();\n",
       "        }}\n",
       "}});\n",
       "\n",
       "// Listen for the removal of the full notebook cells\n",
       "var notebookContainer = gd.closest('#notebook-container');\n",
       "if (notebookContainer) {{\n",
       "    x.observe(notebookContainer, {childList: true});\n",
       "}}\n",
       "\n",
       "// Listen for the clearing of the current output cell\n",
       "var outputEl = gd.closest('.output');\n",
       "if (outputEl) {{\n",
       "    x.observe(outputEl, {childList: true});\n",
       "}}\n",
       "\n",
       "                        })\n",
       "                };\n",
       "                });\n",
       "            </script>\n",
       "        </div>"
      ]
     },
     "metadata": {},
     "output_type": "display_data"
    }
   ],
   "source": [
    "#a random sequel from the array has apprx 10 extrema on the plot\n",
    "plot_random_sample()"
   ]
  },
  {
   "cell_type": "code",
   "execution_count": 152,
   "metadata": {},
   "outputs": [
    {
     "data": {
      "application/vnd.plotly.v1+json": {
       "config": {
        "plotlyServerURL": "https://plot.ly"
       },
       "data": [
        {
         "marker": {
          "color": "rgb(253, 68, 43)"
         },
         "mode": "markers",
         "name": "Ymax",
         "type": "scatter",
         "x": [
          0,
          20.897959183673468,
          41.795918367346935,
          62.69387755102041,
          83.59183673469387,
          104.48979591836734,
          125.38775510204081,
          146.28571428571428,
          167.18367346938774,
          188.0816326530612,
          208.97959183673467,
          229.87755102040813,
          250.77551020408163,
          271.67346938775506,
          292.57142857142856,
          313.469387755102,
          334.3673469387755,
          355.265306122449,
          376.1632653061224,
          397.0612244897959,
          417.95918367346934,
          438.85714285714283,
          459.75510204081627,
          480.65306122448976,
          501.55102040816325,
          522.4489795918367,
          543.3469387755101,
          564.2448979591836,
          585.1428571428571,
          606.0408163265306,
          626.938775510204,
          647.8367346938775,
          668.734693877551,
          689.6326530612245,
          710.530612244898,
          731.4285714285713,
          752.3265306122448,
          773.2244897959183,
          794.1224489795918,
          815.0204081632652,
          835.9183673469387,
          856.8163265306122,
          877.7142857142857,
          898.6122448979592,
          919.5102040816325,
          940.408163265306,
          961.3061224489795,
          982.204081632653,
          1003.1020408163265,
          1024
         ],
         "y": [
          0,
          0,
          1,
          0,
          0,
          0,
          0,
          0,
          0,
          0,
          0,
          0,
          0,
          0,
          1,
          0,
          0,
          0,
          0,
          0,
          0,
          0,
          0,
          0,
          0,
          1,
          0,
          0,
          0,
          0,
          0,
          0,
          0,
          0,
          0,
          0,
          0,
          0,
          1,
          0,
          0,
          0,
          0,
          0,
          0,
          0,
          0,
          0,
          0,
          0,
          0,
          0,
          0,
          1,
          0,
          0,
          0,
          0,
          0,
          0,
          0,
          0,
          1,
          0,
          0,
          0,
          0,
          0,
          0,
          0,
          0,
          0,
          1,
          0,
          0,
          0,
          0,
          0,
          0,
          0,
          0,
          0,
          1,
          0,
          0,
          0,
          0,
          0,
          0,
          0,
          0,
          0,
          0,
          0,
          0,
          0,
          0,
          1,
          0,
          0,
          0,
          0,
          0,
          0,
          0,
          0,
          0,
          0,
          0,
          0,
          0,
          1,
          0,
          0,
          0,
          0,
          0,
          0,
          0,
          0,
          0,
          0,
          0,
          0,
          0,
          0,
          0,
          0,
          0,
          0,
          0,
          0,
          1,
          0,
          0,
          0,
          0,
          0,
          0,
          0,
          0,
          0,
          0,
          0,
          1,
          0,
          0,
          0,
          0,
          0,
          0,
          0,
          0,
          0,
          1,
          0,
          0,
          0,
          0,
          0,
          0,
          0,
          0,
          1,
          0,
          0,
          0,
          0,
          0,
          0,
          0,
          0,
          0,
          0,
          0,
          0,
          1,
          0,
          0,
          0,
          0,
          0,
          0,
          0,
          0,
          0,
          0,
          0,
          1,
          0,
          0,
          0,
          0,
          0,
          0,
          0,
          0,
          1,
          0,
          0,
          0,
          0,
          0,
          0,
          0,
          0,
          0,
          0,
          0,
          0,
          1,
          0,
          0,
          0,
          0,
          0,
          0,
          0,
          0,
          0,
          0,
          0,
          0,
          0,
          0,
          1,
          0,
          0,
          0,
          0,
          0,
          0,
          0,
          0,
          0,
          0,
          0,
          0,
          1,
          0
         ]
        },
        {
         "marker": {
          "color": "rgb(154, 221, 43)"
         },
         "mode": "lines+markers",
         "name": "array_sample",
         "type": "scatter",
         "x": [
          0,
          20.897959183673468,
          41.795918367346935,
          62.69387755102041,
          83.59183673469387,
          104.48979591836734,
          125.38775510204081,
          146.28571428571428,
          167.18367346938774,
          188.0816326530612,
          208.97959183673467,
          229.87755102040813,
          250.77551020408163,
          271.67346938775506,
          292.57142857142856,
          313.469387755102,
          334.3673469387755,
          355.265306122449,
          376.1632653061224,
          397.0612244897959,
          417.95918367346934,
          438.85714285714283,
          459.75510204081627,
          480.65306122448976,
          501.55102040816325,
          522.4489795918367,
          543.3469387755101,
          564.2448979591836,
          585.1428571428571,
          606.0408163265306,
          626.938775510204,
          647.8367346938775,
          668.734693877551,
          689.6326530612245,
          710.530612244898,
          731.4285714285713,
          752.3265306122448,
          773.2244897959183,
          794.1224489795918,
          815.0204081632652,
          835.9183673469387,
          856.8163265306122,
          877.7142857142857,
          898.6122448979592,
          919.5102040816325,
          940.408163265306,
          961.3061224489795,
          982.204081632653,
          1003.1020408163265,
          1024
         ],
         "y": [
          -3.8834813523813034,
          -2.888406139391083,
          -2.869353552038154,
          -3.6875347276905663,
          -4.593301976841097,
          -5.374003716139779,
          -5.119111632733599,
          -4.534952904007671,
          -4.690632970408303,
          -5.563577558104389,
          -5.800338985091315,
          -4.808096224611122,
          -4.749867534412847,
          -3.8077107791856113,
          -3.086151374716615,
          -4.063189330830976,
          -3.6217456921105873,
          -3.2583249540574375,
          -3.184384293239847,
          -3.6507339133347614,
          -3.3688103161751455,
          -4.145705968983393,
          -4.276175467645182,
          -4.36872805498677,
          -3.4610961999446097,
          -2.7093903191882216,
          -3.18261221768604,
          -3.181439991585443,
          -3.8241362305251805,
          -2.9988805518355397,
          -2.257843412162006,
          -2.6609538292647406,
          -2.38305483953273,
          -2.1651144166563854,
          -2.8594358795571155,
          -2.334414279406813,
          -2.2556562191675615,
          -1.698403261906445,
          -1.6376959175160901,
          -2.636552125260203,
          -2.988240011250857,
          -3.9492865264791925,
          -3.0910892939499583,
          -2.33364553830359,
          -1.670314479581231,
          -2.055286228775908,
          -2.939435895787533,
          -2.183416697379452,
          -1.289517806783464,
          -2.1182109026477063,
          -2.146229976014479,
          -3.0078049390777117,
          -2.486600608563249,
          -1.9549317499492733,
          -2.698148820949748,
          -2.747584064752285,
          -2.6479768777623973,
          -3.117863619882279,
          -2.3729975377117642,
          -2.5267216573099907,
          -3.1031252464258268,
          -3.0245330688669103,
          -2.564670930686958,
          -3.162368803907566,
          -3.538936221305776,
          -2.5486375079839867,
          -2.24888139270508,
          -2.3726812248760716,
          -2.3375295428048903,
          -3.095521151068359,
          -3.646126477005244,
          -3.9699553527103335,
          -3.793337915795867,
          -4.333108450602713,
          -4.892673681699594,
          -5.750687509681529,
          -5.488481595141331,
          -6.030598027519022,
          -5.219758001506766,
          -4.500487200999273,
          -5.358772501221966,
          -5.882763232483976,
          -5.544807675891414,
          -6.116334061150537,
          -6.851710363700487,
          -5.9806818825391455,
          -5.838595695888577,
          -5.8932536432649885,
          -5.324014794683482,
          -4.709020799150195,
          -5.3282009704264395,
          -6.134339341968793,
          -6.272236977156037,
          -6.425079731116195,
          -6.491030395042845,
          -6.032878696123143,
          -5.68614960153654,
          -4.717819178804608,
          -5.52098343650069,
          -5.715740872296152,
          -6.037135661506226,
          -5.313790588800644,
          -5.8164779209600725,
          -6.436060104078449,
          -6.538833008412185,
          -6.695069728743377,
          -7.137979439409496,
          -7.638366543645295,
          -6.79183534509327,
          -6.905573854986356,
          -6.182875645462695,
          -6.082225020562999,
          -6.981048361513237,
          -5.982483424687784,
          -5.31042825452788,
          -4.372435739958377,
          -3.5197017739421215,
          -2.8223103051135103,
          -3.4896880839056825,
          -3.5184058330042456,
          -4.0909112346058825,
          -4.288830649506977,
          -5.17155984956262,
          -5.413613611608787,
          -4.4429959240493355,
          -4.912589807705031,
          -4.344448603807892,
          -4.434431869129606,
          -4.58841689714928,
          -3.6737816154299336,
          -2.682936236444506,
          -2.5713995896332698,
          -2.134583039040618,
          -2.8249893884924897,
          -3.2315737375033615,
          -2.2941550075650436,
          -2.135794425932531,
          -2.0514040231839825,
          -1.5554529024258543,
          -2.4411223566108884,
          -2.2727671676929457,
          -2.267066401853919,
          -1.5616266177573481,
          -2.2467611618783816,
          -1.3252033553294809,
          -2.164980424848307,
          -2.7933305028868607,
          -2.6032602899868054,
          -2.2528351827786253,
          -2.782427392776763,
          -3.5426541648825145,
          -2.7620795366236397,
          -3.26964884104639,
          -3.080610533979508,
          -2.841847513315302,
          -3.003397682643557,
          -2.8360531040611074,
          -2.7904876729971897,
          -1.9210751575243352,
          -2.5125567586772624,
          -2.0801731570984328,
          -2.6028012518667407,
          -2.8112295582842317,
          -2.467849112364289,
          -2.8678549527667645,
          -3.2355005602230564,
          -2.7317715753942524,
          -3.586685346407938,
          -3.6701143011707655,
          -2.6732054194618806,
          -1.6810125237516917,
          -2.5344910815524258,
          -3.108182457018345,
          -3.5777816275175427,
          -2.7112628715301246,
          -1.9495345241572455,
          -1.19099403918816,
          -1.451939861710392,
          -2.1364461969959283,
          -1.4689562877163143,
          -1.0618764375415723,
          -0.8385209060896721,
          0.13594522117333652,
          0.44389785659480174,
          -0.5404559291008824,
          0.09375234113004094,
          -0.3074901544700033,
          0.019287275462151365,
          0.8971472833163592,
          0.1657295121030946,
          -0.603413147058701,
          -1.3893411916398657,
          -1.2828939098702339,
          -1.7381974852406012,
          -1.5285378311801534,
          -1.0933134569025575,
          -1.6861188322476517,
          -1.4176429144774922,
          -1.8896751112166734,
          -1.9126114069179203,
          -1.1019384247592738,
          -0.40973099816956293,
          -1.225134062744096,
          -1.3779825176166434,
          -1.82462206967214,
          -2.817530691496575,
          -2.275292245457321,
          -2.001065490854562,
          -2.4771549659858656,
          -1.994693149290004,
          -1.8913323070372214,
          -2.0359584690758625,
          -3.016619069859183,
          -3.8661313497116487,
          -3.0999185631113626,
          -2.292061419991576,
          -2.200880841580531,
          -1.5316908018084978,
          -1.3666716688289098,
          -2.0704840976939445,
          -2.815593059129667,
          -3.1990763592694,
          -2.40111338178422,
          -1.8088687720081364,
          -1.087463608006331,
          -0.28961433495338174,
          -0.8694612582738737,
          -1.3704017798280248,
          -2.1648145364844535,
          -1.6045820527415682,
          -0.8363126498395503,
          -1.0235578701753167,
          -0.7822348498738911,
          -1.4731281732094819,
          -0.613366141822133,
          0.11584525061779494,
          1.0682573164797207,
          1.6898007563605144,
          2.452633165687163,
          1.5022058894835406
         ]
        },
        {
         "marker": {
          "color": "rgb(0, 191, 255)"
         },
         "mode": "markers",
         "name": "Ymin",
         "type": "scatter",
         "x": [
          0,
          20.897959183673468,
          41.795918367346935,
          62.69387755102041,
          83.59183673469387,
          104.48979591836734,
          125.38775510204081,
          146.28571428571428,
          167.18367346938774,
          188.0816326530612,
          208.97959183673467,
          229.87755102040813,
          250.77551020408163,
          271.67346938775506,
          292.57142857142856,
          313.469387755102,
          334.3673469387755,
          355.265306122449,
          376.1632653061224,
          397.0612244897959,
          417.95918367346934,
          438.85714285714283,
          459.75510204081627,
          480.65306122448976,
          501.55102040816325,
          522.4489795918367,
          543.3469387755101,
          564.2448979591836,
          585.1428571428571,
          606.0408163265306,
          626.938775510204,
          647.8367346938775,
          668.734693877551,
          689.6326530612245,
          710.530612244898,
          731.4285714285713,
          752.3265306122448,
          773.2244897959183,
          794.1224489795918,
          815.0204081632652,
          835.9183673469387,
          856.8163265306122,
          877.7142857142857,
          898.6122448979592,
          919.5102040816325,
          940.408163265306,
          961.3061224489795,
          982.204081632653,
          1003.1020408163265,
          1024
         ],
         "y": [
          0,
          0,
          0,
          0,
          0,
          0,
          0,
          0,
          0,
          0,
          1,
          0,
          0,
          0,
          0,
          0,
          0,
          0,
          0,
          1,
          0,
          0,
          0,
          0,
          0,
          0,
          0,
          0,
          0,
          0,
          0,
          1,
          0,
          0,
          0,
          0,
          0,
          0,
          0,
          0,
          0,
          0,
          0,
          0,
          0,
          0,
          1,
          0,
          0,
          0,
          0,
          0,
          0,
          0,
          0,
          0,
          0,
          1,
          0,
          0,
          0,
          0,
          0,
          0,
          0,
          0,
          0,
          1,
          0,
          0,
          0,
          0,
          0,
          0,
          0,
          0,
          0,
          1,
          0,
          0,
          0,
          0,
          0,
          0,
          0,
          0,
          0,
          1,
          0,
          0,
          0,
          0,
          0,
          0,
          0,
          0,
          0,
          0,
          0,
          0,
          0,
          0,
          0,
          0,
          0,
          0,
          0,
          1,
          0,
          0,
          0,
          0,
          0,
          0,
          0,
          0,
          0,
          0,
          0,
          0,
          0,
          0,
          0,
          1,
          0,
          0,
          0,
          0,
          0,
          0,
          0,
          0,
          0,
          0,
          0,
          0,
          0,
          0,
          0,
          1,
          0,
          0,
          0,
          0,
          0,
          0,
          0,
          0,
          0,
          0,
          1,
          0,
          0,
          0,
          0,
          0,
          0,
          0,
          0,
          1,
          0,
          0,
          0,
          0,
          0,
          0,
          0,
          0,
          1,
          0,
          0,
          0,
          0,
          0,
          0,
          0,
          0,
          0,
          0,
          0,
          0,
          0,
          0,
          0,
          1,
          0,
          0,
          0,
          0,
          0,
          0,
          0,
          0,
          1,
          0,
          0,
          0,
          0,
          0,
          0,
          0,
          0,
          0,
          0,
          0,
          1,
          0,
          0,
          0,
          0,
          0,
          0,
          0,
          0,
          0,
          0,
          0,
          0,
          0,
          0,
          0,
          1,
          0,
          0,
          0,
          0,
          0,
          0,
          0,
          0,
          0,
          1,
          0,
          0,
          0,
          0,
          0,
          0,
          0,
          0
         ]
        }
       ],
       "layout": {
        "template": {
         "data": {
          "bar": [
           {
            "error_x": {
             "color": "#2a3f5f"
            },
            "error_y": {
             "color": "#2a3f5f"
            },
            "marker": {
             "line": {
              "color": "#E5ECF6",
              "width": 0.5
             }
            },
            "type": "bar"
           }
          ],
          "barpolar": [
           {
            "marker": {
             "line": {
              "color": "#E5ECF6",
              "width": 0.5
             }
            },
            "type": "barpolar"
           }
          ],
          "carpet": [
           {
            "aaxis": {
             "endlinecolor": "#2a3f5f",
             "gridcolor": "white",
             "linecolor": "white",
             "minorgridcolor": "white",
             "startlinecolor": "#2a3f5f"
            },
            "baxis": {
             "endlinecolor": "#2a3f5f",
             "gridcolor": "white",
             "linecolor": "white",
             "minorgridcolor": "white",
             "startlinecolor": "#2a3f5f"
            },
            "type": "carpet"
           }
          ],
          "choropleth": [
           {
            "colorbar": {
             "outlinewidth": 0,
             "ticks": ""
            },
            "type": "choropleth"
           }
          ],
          "contour": [
           {
            "colorbar": {
             "outlinewidth": 0,
             "ticks": ""
            },
            "colorscale": [
             [
              0,
              "#0d0887"
             ],
             [
              0.1111111111111111,
              "#46039f"
             ],
             [
              0.2222222222222222,
              "#7201a8"
             ],
             [
              0.3333333333333333,
              "#9c179e"
             ],
             [
              0.4444444444444444,
              "#bd3786"
             ],
             [
              0.5555555555555556,
              "#d8576b"
             ],
             [
              0.6666666666666666,
              "#ed7953"
             ],
             [
              0.7777777777777778,
              "#fb9f3a"
             ],
             [
              0.8888888888888888,
              "#fdca26"
             ],
             [
              1,
              "#f0f921"
             ]
            ],
            "type": "contour"
           }
          ],
          "contourcarpet": [
           {
            "colorbar": {
             "outlinewidth": 0,
             "ticks": ""
            },
            "type": "contourcarpet"
           }
          ],
          "heatmap": [
           {
            "colorbar": {
             "outlinewidth": 0,
             "ticks": ""
            },
            "colorscale": [
             [
              0,
              "#0d0887"
             ],
             [
              0.1111111111111111,
              "#46039f"
             ],
             [
              0.2222222222222222,
              "#7201a8"
             ],
             [
              0.3333333333333333,
              "#9c179e"
             ],
             [
              0.4444444444444444,
              "#bd3786"
             ],
             [
              0.5555555555555556,
              "#d8576b"
             ],
             [
              0.6666666666666666,
              "#ed7953"
             ],
             [
              0.7777777777777778,
              "#fb9f3a"
             ],
             [
              0.8888888888888888,
              "#fdca26"
             ],
             [
              1,
              "#f0f921"
             ]
            ],
            "type": "heatmap"
           }
          ],
          "heatmapgl": [
           {
            "colorbar": {
             "outlinewidth": 0,
             "ticks": ""
            },
            "colorscale": [
             [
              0,
              "#0d0887"
             ],
             [
              0.1111111111111111,
              "#46039f"
             ],
             [
              0.2222222222222222,
              "#7201a8"
             ],
             [
              0.3333333333333333,
              "#9c179e"
             ],
             [
              0.4444444444444444,
              "#bd3786"
             ],
             [
              0.5555555555555556,
              "#d8576b"
             ],
             [
              0.6666666666666666,
              "#ed7953"
             ],
             [
              0.7777777777777778,
              "#fb9f3a"
             ],
             [
              0.8888888888888888,
              "#fdca26"
             ],
             [
              1,
              "#f0f921"
             ]
            ],
            "type": "heatmapgl"
           }
          ],
          "histogram": [
           {
            "marker": {
             "colorbar": {
              "outlinewidth": 0,
              "ticks": ""
             }
            },
            "type": "histogram"
           }
          ],
          "histogram2d": [
           {
            "colorbar": {
             "outlinewidth": 0,
             "ticks": ""
            },
            "colorscale": [
             [
              0,
              "#0d0887"
             ],
             [
              0.1111111111111111,
              "#46039f"
             ],
             [
              0.2222222222222222,
              "#7201a8"
             ],
             [
              0.3333333333333333,
              "#9c179e"
             ],
             [
              0.4444444444444444,
              "#bd3786"
             ],
             [
              0.5555555555555556,
              "#d8576b"
             ],
             [
              0.6666666666666666,
              "#ed7953"
             ],
             [
              0.7777777777777778,
              "#fb9f3a"
             ],
             [
              0.8888888888888888,
              "#fdca26"
             ],
             [
              1,
              "#f0f921"
             ]
            ],
            "type": "histogram2d"
           }
          ],
          "histogram2dcontour": [
           {
            "colorbar": {
             "outlinewidth": 0,
             "ticks": ""
            },
            "colorscale": [
             [
              0,
              "#0d0887"
             ],
             [
              0.1111111111111111,
              "#46039f"
             ],
             [
              0.2222222222222222,
              "#7201a8"
             ],
             [
              0.3333333333333333,
              "#9c179e"
             ],
             [
              0.4444444444444444,
              "#bd3786"
             ],
             [
              0.5555555555555556,
              "#d8576b"
             ],
             [
              0.6666666666666666,
              "#ed7953"
             ],
             [
              0.7777777777777778,
              "#fb9f3a"
             ],
             [
              0.8888888888888888,
              "#fdca26"
             ],
             [
              1,
              "#f0f921"
             ]
            ],
            "type": "histogram2dcontour"
           }
          ],
          "mesh3d": [
           {
            "colorbar": {
             "outlinewidth": 0,
             "ticks": ""
            },
            "type": "mesh3d"
           }
          ],
          "parcoords": [
           {
            "line": {
             "colorbar": {
              "outlinewidth": 0,
              "ticks": ""
             }
            },
            "type": "parcoords"
           }
          ],
          "pie": [
           {
            "automargin": true,
            "type": "pie"
           }
          ],
          "scatter": [
           {
            "marker": {
             "colorbar": {
              "outlinewidth": 0,
              "ticks": ""
             }
            },
            "type": "scatter"
           }
          ],
          "scatter3d": [
           {
            "line": {
             "colorbar": {
              "outlinewidth": 0,
              "ticks": ""
             }
            },
            "marker": {
             "colorbar": {
              "outlinewidth": 0,
              "ticks": ""
             }
            },
            "type": "scatter3d"
           }
          ],
          "scattercarpet": [
           {
            "marker": {
             "colorbar": {
              "outlinewidth": 0,
              "ticks": ""
             }
            },
            "type": "scattercarpet"
           }
          ],
          "scattergeo": [
           {
            "marker": {
             "colorbar": {
              "outlinewidth": 0,
              "ticks": ""
             }
            },
            "type": "scattergeo"
           }
          ],
          "scattergl": [
           {
            "marker": {
             "colorbar": {
              "outlinewidth": 0,
              "ticks": ""
             }
            },
            "type": "scattergl"
           }
          ],
          "scattermapbox": [
           {
            "marker": {
             "colorbar": {
              "outlinewidth": 0,
              "ticks": ""
             }
            },
            "type": "scattermapbox"
           }
          ],
          "scatterpolar": [
           {
            "marker": {
             "colorbar": {
              "outlinewidth": 0,
              "ticks": ""
             }
            },
            "type": "scatterpolar"
           }
          ],
          "scatterpolargl": [
           {
            "marker": {
             "colorbar": {
              "outlinewidth": 0,
              "ticks": ""
             }
            },
            "type": "scatterpolargl"
           }
          ],
          "scatterternary": [
           {
            "marker": {
             "colorbar": {
              "outlinewidth": 0,
              "ticks": ""
             }
            },
            "type": "scatterternary"
           }
          ],
          "surface": [
           {
            "colorbar": {
             "outlinewidth": 0,
             "ticks": ""
            },
            "colorscale": [
             [
              0,
              "#0d0887"
             ],
             [
              0.1111111111111111,
              "#46039f"
             ],
             [
              0.2222222222222222,
              "#7201a8"
             ],
             [
              0.3333333333333333,
              "#9c179e"
             ],
             [
              0.4444444444444444,
              "#bd3786"
             ],
             [
              0.5555555555555556,
              "#d8576b"
             ],
             [
              0.6666666666666666,
              "#ed7953"
             ],
             [
              0.7777777777777778,
              "#fb9f3a"
             ],
             [
              0.8888888888888888,
              "#fdca26"
             ],
             [
              1,
              "#f0f921"
             ]
            ],
            "type": "surface"
           }
          ],
          "table": [
           {
            "cells": {
             "fill": {
              "color": "#EBF0F8"
             },
             "line": {
              "color": "white"
             }
            },
            "header": {
             "fill": {
              "color": "#C8D4E3"
             },
             "line": {
              "color": "white"
             }
            },
            "type": "table"
           }
          ]
         },
         "layout": {
          "annotationdefaults": {
           "arrowcolor": "#2a3f5f",
           "arrowhead": 0,
           "arrowwidth": 1
          },
          "coloraxis": {
           "colorbar": {
            "outlinewidth": 0,
            "ticks": ""
           }
          },
          "colorscale": {
           "diverging": [
            [
             0,
             "#8e0152"
            ],
            [
             0.1,
             "#c51b7d"
            ],
            [
             0.2,
             "#de77ae"
            ],
            [
             0.3,
             "#f1b6da"
            ],
            [
             0.4,
             "#fde0ef"
            ],
            [
             0.5,
             "#f7f7f7"
            ],
            [
             0.6,
             "#e6f5d0"
            ],
            [
             0.7,
             "#b8e186"
            ],
            [
             0.8,
             "#7fbc41"
            ],
            [
             0.9,
             "#4d9221"
            ],
            [
             1,
             "#276419"
            ]
           ],
           "sequential": [
            [
             0,
             "#0d0887"
            ],
            [
             0.1111111111111111,
             "#46039f"
            ],
            [
             0.2222222222222222,
             "#7201a8"
            ],
            [
             0.3333333333333333,
             "#9c179e"
            ],
            [
             0.4444444444444444,
             "#bd3786"
            ],
            [
             0.5555555555555556,
             "#d8576b"
            ],
            [
             0.6666666666666666,
             "#ed7953"
            ],
            [
             0.7777777777777778,
             "#fb9f3a"
            ],
            [
             0.8888888888888888,
             "#fdca26"
            ],
            [
             1,
             "#f0f921"
            ]
           ],
           "sequentialminus": [
            [
             0,
             "#0d0887"
            ],
            [
             0.1111111111111111,
             "#46039f"
            ],
            [
             0.2222222222222222,
             "#7201a8"
            ],
            [
             0.3333333333333333,
             "#9c179e"
            ],
            [
             0.4444444444444444,
             "#bd3786"
            ],
            [
             0.5555555555555556,
             "#d8576b"
            ],
            [
             0.6666666666666666,
             "#ed7953"
            ],
            [
             0.7777777777777778,
             "#fb9f3a"
            ],
            [
             0.8888888888888888,
             "#fdca26"
            ],
            [
             1,
             "#f0f921"
            ]
           ]
          },
          "colorway": [
           "#636efa",
           "#EF553B",
           "#00cc96",
           "#ab63fa",
           "#FFA15A",
           "#19d3f3",
           "#FF6692",
           "#B6E880",
           "#FF97FF",
           "#FECB52"
          ],
          "font": {
           "color": "#2a3f5f"
          },
          "geo": {
           "bgcolor": "white",
           "lakecolor": "white",
           "landcolor": "#E5ECF6",
           "showlakes": true,
           "showland": true,
           "subunitcolor": "white"
          },
          "hoverlabel": {
           "align": "left"
          },
          "hovermode": "closest",
          "mapbox": {
           "style": "light"
          },
          "paper_bgcolor": "white",
          "plot_bgcolor": "#E5ECF6",
          "polar": {
           "angularaxis": {
            "gridcolor": "white",
            "linecolor": "white",
            "ticks": ""
           },
           "bgcolor": "#E5ECF6",
           "radialaxis": {
            "gridcolor": "white",
            "linecolor": "white",
            "ticks": ""
           }
          },
          "scene": {
           "xaxis": {
            "backgroundcolor": "#E5ECF6",
            "gridcolor": "white",
            "gridwidth": 2,
            "linecolor": "white",
            "showbackground": true,
            "ticks": "",
            "zerolinecolor": "white"
           },
           "yaxis": {
            "backgroundcolor": "#E5ECF6",
            "gridcolor": "white",
            "gridwidth": 2,
            "linecolor": "white",
            "showbackground": true,
            "ticks": "",
            "zerolinecolor": "white"
           },
           "zaxis": {
            "backgroundcolor": "#E5ECF6",
            "gridcolor": "white",
            "gridwidth": 2,
            "linecolor": "white",
            "showbackground": true,
            "ticks": "",
            "zerolinecolor": "white"
           }
          },
          "shapedefaults": {
           "line": {
            "color": "#2a3f5f"
           }
          },
          "ternary": {
           "aaxis": {
            "gridcolor": "white",
            "linecolor": "white",
            "ticks": ""
           },
           "baxis": {
            "gridcolor": "white",
            "linecolor": "white",
            "ticks": ""
           },
           "bgcolor": "#E5ECF6",
           "caxis": {
            "gridcolor": "white",
            "linecolor": "white",
            "ticks": ""
           }
          },
          "title": {
           "x": 0.05
          },
          "xaxis": {
           "automargin": true,
           "gridcolor": "white",
           "linecolor": "white",
           "ticks": "",
           "title": {
            "standoff": 15
           },
           "zerolinecolor": "white",
           "zerolinewidth": 2
          },
          "yaxis": {
           "automargin": true,
           "gridcolor": "white",
           "linecolor": "white",
           "ticks": "",
           "title": {
            "standoff": 15
           },
           "zerolinecolor": "white",
           "zerolinewidth": 2
          }
         }
        }
       }
      },
      "text/html": [
       "<div>\n",
       "        \n",
       "        \n",
       "            <div id=\"b21313d9-9fca-4012-9b34-a38a61ad8240\" class=\"plotly-graph-div\" style=\"height:525px; width:100%;\"></div>\n",
       "            <script type=\"text/javascript\">\n",
       "                require([\"plotly\"], function(Plotly) {\n",
       "                    window.PLOTLYENV=window.PLOTLYENV || {};\n",
       "                    \n",
       "                if (document.getElementById(\"b21313d9-9fca-4012-9b34-a38a61ad8240\")) {\n",
       "                    Plotly.newPlot(\n",
       "                        'b21313d9-9fca-4012-9b34-a38a61ad8240',\n",
       "                        [{\"marker\": {\"color\": \"rgb(253, 68, 43)\"}, \"mode\": \"markers\", \"name\": \"Ymax\", \"type\": \"scatter\", \"x\": [0.0, 20.897959183673468, 41.795918367346935, 62.69387755102041, 83.59183673469387, 104.48979591836734, 125.38775510204081, 146.28571428571428, 167.18367346938774, 188.0816326530612, 208.97959183673467, 229.87755102040813, 250.77551020408163, 271.67346938775506, 292.57142857142856, 313.469387755102, 334.3673469387755, 355.265306122449, 376.1632653061224, 397.0612244897959, 417.95918367346934, 438.85714285714283, 459.75510204081627, 480.65306122448976, 501.55102040816325, 522.4489795918367, 543.3469387755101, 564.2448979591836, 585.1428571428571, 606.0408163265306, 626.938775510204, 647.8367346938775, 668.734693877551, 689.6326530612245, 710.530612244898, 731.4285714285713, 752.3265306122448, 773.2244897959183, 794.1224489795918, 815.0204081632652, 835.9183673469387, 856.8163265306122, 877.7142857142857, 898.6122448979592, 919.5102040816325, 940.408163265306, 961.3061224489795, 982.204081632653, 1003.1020408163265, 1024.0], \"y\": [0.0, 0.0, 1.0, 0.0, 0.0, 0.0, 0.0, 0.0, 0.0, 0.0, 0.0, 0.0, 0.0, 0.0, 1.0, 0.0, 0.0, 0.0, 0.0, 0.0, 0.0, 0.0, 0.0, 0.0, 0.0, 1.0, 0.0, 0.0, 0.0, 0.0, 0.0, 0.0, 0.0, 0.0, 0.0, 0.0, 0.0, 0.0, 1.0, 0.0, 0.0, 0.0, 0.0, 0.0, 0.0, 0.0, 0.0, 0.0, 0.0, 0.0, 0.0, 0.0, 0.0, 1.0, 0.0, 0.0, 0.0, 0.0, 0.0, 0.0, 0.0, 0.0, 1.0, 0.0, 0.0, 0.0, 0.0, 0.0, 0.0, 0.0, 0.0, 0.0, 1.0, 0.0, 0.0, 0.0, 0.0, 0.0, 0.0, 0.0, 0.0, 0.0, 1.0, 0.0, 0.0, 0.0, 0.0, 0.0, 0.0, 0.0, 0.0, 0.0, 0.0, 0.0, 0.0, 0.0, 0.0, 1.0, 0.0, 0.0, 0.0, 0.0, 0.0, 0.0, 0.0, 0.0, 0.0, 0.0, 0.0, 0.0, 0.0, 1.0, 0.0, 0.0, 0.0, 0.0, 0.0, 0.0, 0.0, 0.0, 0.0, 0.0, 0.0, 0.0, 0.0, 0.0, 0.0, 0.0, 0.0, 0.0, 0.0, 0.0, 1.0, 0.0, 0.0, 0.0, 0.0, 0.0, 0.0, 0.0, 0.0, 0.0, 0.0, 0.0, 1.0, 0.0, 0.0, 0.0, 0.0, 0.0, 0.0, 0.0, 0.0, 0.0, 1.0, 0.0, 0.0, 0.0, 0.0, 0.0, 0.0, 0.0, 0.0, 1.0, 0.0, 0.0, 0.0, 0.0, 0.0, 0.0, 0.0, 0.0, 0.0, 0.0, 0.0, 0.0, 1.0, 0.0, 0.0, 0.0, 0.0, 0.0, 0.0, 0.0, 0.0, 0.0, 0.0, 0.0, 1.0, 0.0, 0.0, 0.0, 0.0, 0.0, 0.0, 0.0, 0.0, 1.0, 0.0, 0.0, 0.0, 0.0, 0.0, 0.0, 0.0, 0.0, 0.0, 0.0, 0.0, 0.0, 1.0, 0.0, 0.0, 0.0, 0.0, 0.0, 0.0, 0.0, 0.0, 0.0, 0.0, 0.0, 0.0, 0.0, 0.0, 1.0, 0.0, 0.0, 0.0, 0.0, 0.0, 0.0, 0.0, 0.0, 0.0, 0.0, 0.0, 0.0, 1.0, 0.0]}, {\"marker\": {\"color\": \"rgb(154, 221, 43)\"}, \"mode\": \"lines+markers\", \"name\": \"array_sample\", \"type\": \"scatter\", \"x\": [0.0, 20.897959183673468, 41.795918367346935, 62.69387755102041, 83.59183673469387, 104.48979591836734, 125.38775510204081, 146.28571428571428, 167.18367346938774, 188.0816326530612, 208.97959183673467, 229.87755102040813, 250.77551020408163, 271.67346938775506, 292.57142857142856, 313.469387755102, 334.3673469387755, 355.265306122449, 376.1632653061224, 397.0612244897959, 417.95918367346934, 438.85714285714283, 459.75510204081627, 480.65306122448976, 501.55102040816325, 522.4489795918367, 543.3469387755101, 564.2448979591836, 585.1428571428571, 606.0408163265306, 626.938775510204, 647.8367346938775, 668.734693877551, 689.6326530612245, 710.530612244898, 731.4285714285713, 752.3265306122448, 773.2244897959183, 794.1224489795918, 815.0204081632652, 835.9183673469387, 856.8163265306122, 877.7142857142857, 898.6122448979592, 919.5102040816325, 940.408163265306, 961.3061224489795, 982.204081632653, 1003.1020408163265, 1024.0], \"y\": [-3.8834813523813034, -2.888406139391083, -2.869353552038154, -3.6875347276905663, -4.593301976841097, -5.374003716139779, -5.119111632733599, -4.534952904007671, -4.690632970408303, -5.563577558104389, -5.800338985091315, -4.808096224611122, -4.749867534412847, -3.8077107791856113, -3.086151374716615, -4.063189330830976, -3.6217456921105873, -3.2583249540574375, -3.184384293239847, -3.6507339133347614, -3.3688103161751455, -4.145705968983393, -4.276175467645182, -4.36872805498677, -3.4610961999446097, -2.7093903191882216, -3.18261221768604, -3.181439991585443, -3.8241362305251805, -2.9988805518355397, -2.257843412162006, -2.6609538292647406, -2.38305483953273, -2.1651144166563854, -2.8594358795571155, -2.334414279406813, -2.2556562191675615, -1.698403261906445, -1.6376959175160901, -2.636552125260203, -2.988240011250857, -3.9492865264791925, -3.0910892939499583, -2.33364553830359, -1.670314479581231, -2.055286228775908, -2.939435895787533, -2.183416697379452, -1.289517806783464, -2.1182109026477063, -2.146229976014479, -3.0078049390777117, -2.486600608563249, -1.9549317499492733, -2.698148820949748, -2.747584064752285, -2.6479768777623973, -3.117863619882279, -2.3729975377117642, -2.5267216573099907, -3.1031252464258268, -3.0245330688669103, -2.564670930686958, -3.162368803907566, -3.538936221305776, -2.5486375079839867, -2.24888139270508, -2.3726812248760716, -2.3375295428048903, -3.095521151068359, -3.646126477005244, -3.9699553527103335, -3.793337915795867, -4.333108450602713, -4.892673681699594, -5.750687509681529, -5.488481595141331, -6.030598027519022, -5.219758001506766, -4.500487200999273, -5.358772501221966, -5.882763232483976, -5.544807675891414, -6.116334061150537, -6.851710363700487, -5.9806818825391455, -5.838595695888577, -5.8932536432649885, -5.324014794683482, -4.709020799150195, -5.3282009704264395, -6.134339341968793, -6.272236977156037, -6.425079731116195, -6.491030395042845, -6.032878696123143, -5.68614960153654, -4.717819178804608, -5.52098343650069, -5.715740872296152, -6.037135661506226, -5.313790588800644, -5.8164779209600725, -6.436060104078449, -6.538833008412185, -6.695069728743377, -7.137979439409496, -7.638366543645295, -6.79183534509327, -6.905573854986356, -6.182875645462695, -6.082225020562999, -6.981048361513237, -5.982483424687784, -5.31042825452788, -4.372435739958377, -3.5197017739421215, -2.8223103051135103, -3.4896880839056825, -3.5184058330042456, -4.0909112346058825, -4.288830649506977, -5.17155984956262, -5.413613611608787, -4.4429959240493355, -4.912589807705031, -4.344448603807892, -4.434431869129606, -4.58841689714928, -3.6737816154299336, -2.682936236444506, -2.5713995896332698, -2.134583039040618, -2.8249893884924897, -3.2315737375033615, -2.2941550075650436, -2.135794425932531, -2.0514040231839825, -1.5554529024258543, -2.4411223566108884, -2.2727671676929457, -2.267066401853919, -1.5616266177573481, -2.2467611618783816, -1.3252033553294809, -2.164980424848307, -2.7933305028868607, -2.6032602899868054, -2.2528351827786253, -2.782427392776763, -3.5426541648825145, -2.7620795366236397, -3.26964884104639, -3.080610533979508, -2.841847513315302, -3.003397682643557, -2.8360531040611074, -2.7904876729971897, -1.9210751575243352, -2.5125567586772624, -2.0801731570984328, -2.6028012518667407, -2.8112295582842317, -2.467849112364289, -2.8678549527667645, -3.2355005602230564, -2.7317715753942524, -3.586685346407938, -3.6701143011707655, -2.6732054194618806, -1.6810125237516917, -2.5344910815524258, -3.108182457018345, -3.5777816275175427, -2.7112628715301246, -1.9495345241572455, -1.19099403918816, -1.451939861710392, -2.1364461969959283, -1.4689562877163143, -1.0618764375415723, -0.8385209060896721, 0.13594522117333652, 0.44389785659480174, -0.5404559291008824, 0.09375234113004094, -0.3074901544700033, 0.019287275462151365, 0.8971472833163592, 0.1657295121030946, -0.603413147058701, -1.3893411916398657, -1.2828939098702339, -1.7381974852406012, -1.5285378311801534, -1.0933134569025575, -1.6861188322476517, -1.4176429144774922, -1.8896751112166734, -1.9126114069179203, -1.1019384247592738, -0.40973099816956293, -1.225134062744096, -1.3779825176166434, -1.82462206967214, -2.817530691496575, -2.275292245457321, -2.001065490854562, -2.4771549659858656, -1.994693149290004, -1.8913323070372214, -2.0359584690758625, -3.016619069859183, -3.8661313497116487, -3.0999185631113626, -2.292061419991576, -2.200880841580531, -1.5316908018084978, -1.3666716688289098, -2.0704840976939445, -2.815593059129667, -3.1990763592694, -2.40111338178422, -1.8088687720081364, -1.087463608006331, -0.28961433495338174, -0.8694612582738737, -1.3704017798280248, -2.1648145364844535, -1.6045820527415682, -0.8363126498395503, -1.0235578701753167, -0.7822348498738911, -1.4731281732094819, -0.613366141822133, 0.11584525061779494, 1.0682573164797207, 1.6898007563605144, 2.452633165687163, 1.5022058894835406]}, {\"marker\": {\"color\": \"rgb(0, 191, 255)\"}, \"mode\": \"markers\", \"name\": \"Ymin\", \"type\": \"scatter\", \"x\": [0.0, 20.897959183673468, 41.795918367346935, 62.69387755102041, 83.59183673469387, 104.48979591836734, 125.38775510204081, 146.28571428571428, 167.18367346938774, 188.0816326530612, 208.97959183673467, 229.87755102040813, 250.77551020408163, 271.67346938775506, 292.57142857142856, 313.469387755102, 334.3673469387755, 355.265306122449, 376.1632653061224, 397.0612244897959, 417.95918367346934, 438.85714285714283, 459.75510204081627, 480.65306122448976, 501.55102040816325, 522.4489795918367, 543.3469387755101, 564.2448979591836, 585.1428571428571, 606.0408163265306, 626.938775510204, 647.8367346938775, 668.734693877551, 689.6326530612245, 710.530612244898, 731.4285714285713, 752.3265306122448, 773.2244897959183, 794.1224489795918, 815.0204081632652, 835.9183673469387, 856.8163265306122, 877.7142857142857, 898.6122448979592, 919.5102040816325, 940.408163265306, 961.3061224489795, 982.204081632653, 1003.1020408163265, 1024.0], \"y\": [0.0, 0.0, 0.0, 0.0, 0.0, 0.0, 0.0, 0.0, 0.0, 0.0, 1.0, 0.0, 0.0, 0.0, 0.0, 0.0, 0.0, 0.0, 0.0, 1.0, 0.0, 0.0, 0.0, 0.0, 0.0, 0.0, 0.0, 0.0, 0.0, 0.0, 0.0, 1.0, 0.0, 0.0, 0.0, 0.0, 0.0, 0.0, 0.0, 0.0, 0.0, 0.0, 0.0, 0.0, 0.0, 0.0, 1.0, 0.0, 0.0, 0.0, 0.0, 0.0, 0.0, 0.0, 0.0, 0.0, 0.0, 1.0, 0.0, 0.0, 0.0, 0.0, 0.0, 0.0, 0.0, 0.0, 0.0, 1.0, 0.0, 0.0, 0.0, 0.0, 0.0, 0.0, 0.0, 0.0, 0.0, 1.0, 0.0, 0.0, 0.0, 0.0, 0.0, 0.0, 0.0, 0.0, 0.0, 1.0, 0.0, 0.0, 0.0, 0.0, 0.0, 0.0, 0.0, 0.0, 0.0, 0.0, 0.0, 0.0, 0.0, 0.0, 0.0, 0.0, 0.0, 0.0, 0.0, 1.0, 0.0, 0.0, 0.0, 0.0, 0.0, 0.0, 0.0, 0.0, 0.0, 0.0, 0.0, 0.0, 0.0, 0.0, 0.0, 1.0, 0.0, 0.0, 0.0, 0.0, 0.0, 0.0, 0.0, 0.0, 0.0, 0.0, 0.0, 0.0, 0.0, 0.0, 0.0, 1.0, 0.0, 0.0, 0.0, 0.0, 0.0, 0.0, 0.0, 0.0, 0.0, 0.0, 1.0, 0.0, 0.0, 0.0, 0.0, 0.0, 0.0, 0.0, 0.0, 1.0, 0.0, 0.0, 0.0, 0.0, 0.0, 0.0, 0.0, 0.0, 1.0, 0.0, 0.0, 0.0, 0.0, 0.0, 0.0, 0.0, 0.0, 0.0, 0.0, 0.0, 0.0, 0.0, 0.0, 0.0, 1.0, 0.0, 0.0, 0.0, 0.0, 0.0, 0.0, 0.0, 0.0, 1.0, 0.0, 0.0, 0.0, 0.0, 0.0, 0.0, 0.0, 0.0, 0.0, 0.0, 0.0, 1.0, 0.0, 0.0, 0.0, 0.0, 0.0, 0.0, 0.0, 0.0, 0.0, 0.0, 0.0, 0.0, 0.0, 0.0, 0.0, 1.0, 0.0, 0.0, 0.0, 0.0, 0.0, 0.0, 0.0, 0.0, 0.0, 1.0, 0.0, 0.0, 0.0, 0.0, 0.0, 0.0, 0.0, 0.0]}],\n",
       "                        {\"template\": {\"data\": {\"bar\": [{\"error_x\": {\"color\": \"#2a3f5f\"}, \"error_y\": {\"color\": \"#2a3f5f\"}, \"marker\": {\"line\": {\"color\": \"#E5ECF6\", \"width\": 0.5}}, \"type\": \"bar\"}], \"barpolar\": [{\"marker\": {\"line\": {\"color\": \"#E5ECF6\", \"width\": 0.5}}, \"type\": \"barpolar\"}], \"carpet\": [{\"aaxis\": {\"endlinecolor\": \"#2a3f5f\", \"gridcolor\": \"white\", \"linecolor\": \"white\", \"minorgridcolor\": \"white\", \"startlinecolor\": \"#2a3f5f\"}, \"baxis\": {\"endlinecolor\": \"#2a3f5f\", \"gridcolor\": \"white\", \"linecolor\": \"white\", \"minorgridcolor\": \"white\", \"startlinecolor\": \"#2a3f5f\"}, \"type\": \"carpet\"}], \"choropleth\": [{\"colorbar\": {\"outlinewidth\": 0, \"ticks\": \"\"}, \"type\": \"choropleth\"}], \"contour\": [{\"colorbar\": {\"outlinewidth\": 0, \"ticks\": \"\"}, \"colorscale\": [[0.0, \"#0d0887\"], [0.1111111111111111, \"#46039f\"], [0.2222222222222222, \"#7201a8\"], [0.3333333333333333, \"#9c179e\"], [0.4444444444444444, \"#bd3786\"], [0.5555555555555556, \"#d8576b\"], [0.6666666666666666, \"#ed7953\"], [0.7777777777777778, \"#fb9f3a\"], [0.8888888888888888, \"#fdca26\"], [1.0, \"#f0f921\"]], \"type\": \"contour\"}], \"contourcarpet\": [{\"colorbar\": {\"outlinewidth\": 0, \"ticks\": \"\"}, \"type\": \"contourcarpet\"}], \"heatmap\": [{\"colorbar\": {\"outlinewidth\": 0, \"ticks\": \"\"}, \"colorscale\": [[0.0, \"#0d0887\"], [0.1111111111111111, \"#46039f\"], [0.2222222222222222, \"#7201a8\"], [0.3333333333333333, \"#9c179e\"], [0.4444444444444444, \"#bd3786\"], [0.5555555555555556, \"#d8576b\"], [0.6666666666666666, \"#ed7953\"], [0.7777777777777778, \"#fb9f3a\"], [0.8888888888888888, \"#fdca26\"], [1.0, \"#f0f921\"]], \"type\": \"heatmap\"}], \"heatmapgl\": [{\"colorbar\": {\"outlinewidth\": 0, \"ticks\": \"\"}, \"colorscale\": [[0.0, \"#0d0887\"], [0.1111111111111111, \"#46039f\"], [0.2222222222222222, \"#7201a8\"], [0.3333333333333333, \"#9c179e\"], [0.4444444444444444, \"#bd3786\"], [0.5555555555555556, \"#d8576b\"], [0.6666666666666666, \"#ed7953\"], [0.7777777777777778, \"#fb9f3a\"], [0.8888888888888888, \"#fdca26\"], [1.0, \"#f0f921\"]], \"type\": \"heatmapgl\"}], \"histogram\": [{\"marker\": {\"colorbar\": {\"outlinewidth\": 0, \"ticks\": \"\"}}, \"type\": \"histogram\"}], \"histogram2d\": [{\"colorbar\": {\"outlinewidth\": 0, \"ticks\": \"\"}, \"colorscale\": [[0.0, \"#0d0887\"], [0.1111111111111111, \"#46039f\"], [0.2222222222222222, \"#7201a8\"], [0.3333333333333333, \"#9c179e\"], [0.4444444444444444, \"#bd3786\"], [0.5555555555555556, \"#d8576b\"], [0.6666666666666666, \"#ed7953\"], [0.7777777777777778, \"#fb9f3a\"], [0.8888888888888888, \"#fdca26\"], [1.0, \"#f0f921\"]], \"type\": \"histogram2d\"}], \"histogram2dcontour\": [{\"colorbar\": {\"outlinewidth\": 0, \"ticks\": \"\"}, \"colorscale\": [[0.0, \"#0d0887\"], [0.1111111111111111, \"#46039f\"], [0.2222222222222222, \"#7201a8\"], [0.3333333333333333, \"#9c179e\"], [0.4444444444444444, \"#bd3786\"], [0.5555555555555556, \"#d8576b\"], [0.6666666666666666, \"#ed7953\"], [0.7777777777777778, \"#fb9f3a\"], [0.8888888888888888, \"#fdca26\"], [1.0, \"#f0f921\"]], \"type\": \"histogram2dcontour\"}], \"mesh3d\": [{\"colorbar\": {\"outlinewidth\": 0, \"ticks\": \"\"}, \"type\": \"mesh3d\"}], \"parcoords\": [{\"line\": {\"colorbar\": {\"outlinewidth\": 0, \"ticks\": \"\"}}, \"type\": \"parcoords\"}], \"pie\": [{\"automargin\": true, \"type\": \"pie\"}], \"scatter\": [{\"marker\": {\"colorbar\": {\"outlinewidth\": 0, \"ticks\": \"\"}}, \"type\": \"scatter\"}], \"scatter3d\": [{\"line\": {\"colorbar\": {\"outlinewidth\": 0, \"ticks\": \"\"}}, \"marker\": {\"colorbar\": {\"outlinewidth\": 0, \"ticks\": \"\"}}, \"type\": \"scatter3d\"}], \"scattercarpet\": [{\"marker\": {\"colorbar\": {\"outlinewidth\": 0, \"ticks\": \"\"}}, \"type\": \"scattercarpet\"}], \"scattergeo\": [{\"marker\": {\"colorbar\": {\"outlinewidth\": 0, \"ticks\": \"\"}}, \"type\": \"scattergeo\"}], \"scattergl\": [{\"marker\": {\"colorbar\": {\"outlinewidth\": 0, \"ticks\": \"\"}}, \"type\": \"scattergl\"}], \"scattermapbox\": [{\"marker\": {\"colorbar\": {\"outlinewidth\": 0, \"ticks\": \"\"}}, \"type\": \"scattermapbox\"}], \"scatterpolar\": [{\"marker\": {\"colorbar\": {\"outlinewidth\": 0, \"ticks\": \"\"}}, \"type\": \"scatterpolar\"}], \"scatterpolargl\": [{\"marker\": {\"colorbar\": {\"outlinewidth\": 0, \"ticks\": \"\"}}, \"type\": \"scatterpolargl\"}], \"scatterternary\": [{\"marker\": {\"colorbar\": {\"outlinewidth\": 0, \"ticks\": \"\"}}, \"type\": \"scatterternary\"}], \"surface\": [{\"colorbar\": {\"outlinewidth\": 0, \"ticks\": \"\"}, \"colorscale\": [[0.0, \"#0d0887\"], [0.1111111111111111, \"#46039f\"], [0.2222222222222222, \"#7201a8\"], [0.3333333333333333, \"#9c179e\"], [0.4444444444444444, \"#bd3786\"], [0.5555555555555556, \"#d8576b\"], [0.6666666666666666, \"#ed7953\"], [0.7777777777777778, \"#fb9f3a\"], [0.8888888888888888, \"#fdca26\"], [1.0, \"#f0f921\"]], \"type\": \"surface\"}], \"table\": [{\"cells\": {\"fill\": {\"color\": \"#EBF0F8\"}, \"line\": {\"color\": \"white\"}}, \"header\": {\"fill\": {\"color\": \"#C8D4E3\"}, \"line\": {\"color\": \"white\"}}, \"type\": \"table\"}]}, \"layout\": {\"annotationdefaults\": {\"arrowcolor\": \"#2a3f5f\", \"arrowhead\": 0, \"arrowwidth\": 1}, \"coloraxis\": {\"colorbar\": {\"outlinewidth\": 0, \"ticks\": \"\"}}, \"colorscale\": {\"diverging\": [[0, \"#8e0152\"], [0.1, \"#c51b7d\"], [0.2, \"#de77ae\"], [0.3, \"#f1b6da\"], [0.4, \"#fde0ef\"], [0.5, \"#f7f7f7\"], [0.6, \"#e6f5d0\"], [0.7, \"#b8e186\"], [0.8, \"#7fbc41\"], [0.9, \"#4d9221\"], [1, \"#276419\"]], \"sequential\": [[0.0, \"#0d0887\"], [0.1111111111111111, \"#46039f\"], [0.2222222222222222, \"#7201a8\"], [0.3333333333333333, \"#9c179e\"], [0.4444444444444444, \"#bd3786\"], [0.5555555555555556, \"#d8576b\"], [0.6666666666666666, \"#ed7953\"], [0.7777777777777778, \"#fb9f3a\"], [0.8888888888888888, \"#fdca26\"], [1.0, \"#f0f921\"]], \"sequentialminus\": [[0.0, \"#0d0887\"], [0.1111111111111111, \"#46039f\"], [0.2222222222222222, \"#7201a8\"], [0.3333333333333333, \"#9c179e\"], [0.4444444444444444, \"#bd3786\"], [0.5555555555555556, \"#d8576b\"], [0.6666666666666666, \"#ed7953\"], [0.7777777777777778, \"#fb9f3a\"], [0.8888888888888888, \"#fdca26\"], [1.0, \"#f0f921\"]]}, \"colorway\": [\"#636efa\", \"#EF553B\", \"#00cc96\", \"#ab63fa\", \"#FFA15A\", \"#19d3f3\", \"#FF6692\", \"#B6E880\", \"#FF97FF\", \"#FECB52\"], \"font\": {\"color\": \"#2a3f5f\"}, \"geo\": {\"bgcolor\": \"white\", \"lakecolor\": \"white\", \"landcolor\": \"#E5ECF6\", \"showlakes\": true, \"showland\": true, \"subunitcolor\": \"white\"}, \"hoverlabel\": {\"align\": \"left\"}, \"hovermode\": \"closest\", \"mapbox\": {\"style\": \"light\"}, \"paper_bgcolor\": \"white\", \"plot_bgcolor\": \"#E5ECF6\", \"polar\": {\"angularaxis\": {\"gridcolor\": \"white\", \"linecolor\": \"white\", \"ticks\": \"\"}, \"bgcolor\": \"#E5ECF6\", \"radialaxis\": {\"gridcolor\": \"white\", \"linecolor\": \"white\", \"ticks\": \"\"}}, \"scene\": {\"xaxis\": {\"backgroundcolor\": \"#E5ECF6\", \"gridcolor\": \"white\", \"gridwidth\": 2, \"linecolor\": \"white\", \"showbackground\": true, \"ticks\": \"\", \"zerolinecolor\": \"white\"}, \"yaxis\": {\"backgroundcolor\": \"#E5ECF6\", \"gridcolor\": \"white\", \"gridwidth\": 2, \"linecolor\": \"white\", \"showbackground\": true, \"ticks\": \"\", \"zerolinecolor\": \"white\"}, \"zaxis\": {\"backgroundcolor\": \"#E5ECF6\", \"gridcolor\": \"white\", \"gridwidth\": 2, \"linecolor\": \"white\", \"showbackground\": true, \"ticks\": \"\", \"zerolinecolor\": \"white\"}}, \"shapedefaults\": {\"line\": {\"color\": \"#2a3f5f\"}}, \"ternary\": {\"aaxis\": {\"gridcolor\": \"white\", \"linecolor\": \"white\", \"ticks\": \"\"}, \"baxis\": {\"gridcolor\": \"white\", \"linecolor\": \"white\", \"ticks\": \"\"}, \"bgcolor\": \"#E5ECF6\", \"caxis\": {\"gridcolor\": \"white\", \"linecolor\": \"white\", \"ticks\": \"\"}}, \"title\": {\"x\": 0.05}, \"xaxis\": {\"automargin\": true, \"gridcolor\": \"white\", \"linecolor\": \"white\", \"ticks\": \"\", \"title\": {\"standoff\": 15}, \"zerolinecolor\": \"white\", \"zerolinewidth\": 2}, \"yaxis\": {\"automargin\": true, \"gridcolor\": \"white\", \"linecolor\": \"white\", \"ticks\": \"\", \"title\": {\"standoff\": 15}, \"zerolinecolor\": \"white\", \"zerolinewidth\": 2}}}},\n",
       "                        {\"responsive\": true}\n",
       "                    ).then(function(){\n",
       "                            \n",
       "var gd = document.getElementById('b21313d9-9fca-4012-9b34-a38a61ad8240');\n",
       "var x = new MutationObserver(function (mutations, observer) {{\n",
       "        var display = window.getComputedStyle(gd).display;\n",
       "        if (!display || display === 'none') {{\n",
       "            console.log([gd, 'removed!']);\n",
       "            Plotly.purge(gd);\n",
       "            observer.disconnect();\n",
       "        }}\n",
       "}});\n",
       "\n",
       "// Listen for the removal of the full notebook cells\n",
       "var notebookContainer = gd.closest('#notebook-container');\n",
       "if (notebookContainer) {{\n",
       "    x.observe(notebookContainer, {childList: true});\n",
       "}}\n",
       "\n",
       "// Listen for the clearing of the current output cell\n",
       "var outputEl = gd.closest('.output');\n",
       "if (outputEl) {{\n",
       "    x.observe(outputEl, {childList: true});\n",
       "}}\n",
       "\n",
       "                        })\n",
       "                };\n",
       "                });\n",
       "            </script>\n",
       "        </div>"
      ]
     },
     "metadata": {},
     "output_type": "display_data"
    }
   ],
   "source": [
    "plot_random_sample()"
   ]
  },
  {
   "cell_type": "code",
   "execution_count": 142,
   "metadata": {},
   "outputs": [],
   "source": []
  }
 ],
 "metadata": {
  "kernelspec": {
   "display_name": "Python 3",
   "language": "python",
   "name": "python3"
  },
  "language_info": {
   "codemirror_mode": {
    "name": "ipython",
    "version": 3
   },
   "file_extension": ".py",
   "mimetype": "text/x-python",
   "name": "python",
   "nbconvert_exporter": "python",
   "pygments_lexer": "ipython3",
   "version": "3.7.3"
  }
 },
 "nbformat": 4,
 "nbformat_minor": 2
}
