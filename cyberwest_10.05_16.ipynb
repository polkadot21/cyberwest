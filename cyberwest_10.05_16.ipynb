{
 "cells": [
  {
   "cell_type": "code",
   "execution_count": 12,
   "metadata": {},
   "outputs": [],
   "source": [
    "import pandas as pd\n",
    "import numpy as np\n",
    "import random"
   ]
  },
  {
   "cell_type": "code",
   "execution_count": 356,
   "metadata": {},
   "outputs": [],
   "source": [
    "#make a random array, x[0] = 1, x[i] = x[i-1] + random.uniform(-1, 1)\n",
    "def random_array(M):\n",
    "    #random.seed(42)\n",
    "    N=1024\n",
    "    x = range(N)\n",
    "    y = np.zeros(N*M)\n",
    "    y[0] = 1\n",
    "    for i in range(1, N*M):\n",
    "        y[i] = y[i-1] + random.uniform(-1, 1)\n",
    "    \n",
    "    return y"
   ]
  },
  {
   "cell_type": "code",
   "execution_count": 357,
   "metadata": {},
   "outputs": [
    {
     "data": {
      "text/plain": [
       "array([   1.        ,    1.11425382,    1.45094022, ..., -856.78199994,\n",
       "       -857.64526081, -857.91306294])"
      ]
     },
     "execution_count": 357,
     "metadata": {},
     "output_type": "execute_result"
    }
   ],
   "source": [
    "y = random_array(1000)\n",
    "y"
   ]
  },
  {
   "cell_type": "code",
   "execution_count": 100,
   "metadata": {},
   "outputs": [],
   "source": [
    "#lokal maxima without conditions\n",
    "def maxima(x, arr):\n",
    "    #distance between min/max\n",
    "    dist = x\n",
    "    #an array of zeros\n",
    "    array = np.zeros(len(arr))\n",
    "    #if local maxima, than 1\n",
    "    for i in range(1, len(arr)-1):\n",
    "        if dist > x:\n",
    "            if arr[i] > arr[i-1] and arr[i] > arr[i+1]:\n",
    "                dist = 1\n",
    "                array[i] = 1\n",
    "        else:\n",
    "            dist+=1\n",
    "    return array\n",
    "        "
   ]
  },
  {
   "cell_type": "code",
   "execution_count": 362,
   "metadata": {},
   "outputs": [],
   "source": [
    "#lokal maxima/minima of random_array M*1024 \n",
    "#with distance between extrema > 3\n",
    "#changing MAXs and MINs\n",
    "#with T*std so that there approx. 10 extrema in N=1024\n",
    "\n",
    "def extrema(x, M=3000):\n",
    "    arr = random_array(M)\n",
    "    #flag variable\n",
    "    found_min = False\n",
    "    found = False\n",
    "    #1/4 of std \n",
    "    T = 0.25\n",
    "    #distance between extrema >3\n",
    "    dist = x+1\n",
    "    Ymax = np.zeros(len(arr))\n",
    "    Ymin = np.zeros(len(arr))\n",
    "    #T*std\n",
    "    D = T*np.std(arr[:-(len(arr)-1)] - arr[0:])\n",
    "    for i in range(1, len(arr)-1):\n",
    "        #print(D)\n",
    "        #dist > 3 \n",
    "        if dist > x and dist>=D:\n",
    "            #decides to start with MAX or MIN at the beginning of the search\n",
    "            if found_min or not found:\n",
    "                if arr[i] > arr[i-1] and arr[i] > arr[i+1]:\n",
    "                    dist = 1\n",
    "                    Ymax[i] = 1\n",
    "                    found = True\n",
    "                    found_min = False\n",
    "            if not found_min or not found:\n",
    "                if arr[i] < arr[i-1] and arr[i] < arr[i+1]:\n",
    "                        dist = 1\n",
    "                        Ymin[i] = 1\n",
    "                        found = True\n",
    "                        found_min = True \n",
    "        else:\n",
    "            dist+=1\n",
    "    #Y_mean = number of extrema in N=1024       \n",
    "    Y_mean = np.sum(np.r_[Ymax, Ymin])/M\n",
    "    return Ymax, Ymin, Y_mean\n",
    "\n"
   ]
  },
  {
   "cell_type": "code",
   "execution_count": 363,
   "metadata": {},
   "outputs": [
    {
     "data": {
      "text/plain": [
       "(array([0., 0., 0., ..., 0., 0., 0.]),\n",
       " array([0., 0., 0., ..., 0., 0., 0.]),\n",
       " 12.800666666666666)"
      ]
     },
     "execution_count": 363,
     "metadata": {},
     "output_type": "execute_result"
    }
   ],
   "source": [
    "extrema(3)"
   ]
  }
 ],
 "metadata": {
  "kernelspec": {
   "display_name": "Python 3",
   "language": "python",
   "name": "python3"
  },
  "language_info": {
   "codemirror_mode": {
    "name": "ipython",
    "version": 3
   },
   "file_extension": ".py",
   "mimetype": "text/x-python",
   "name": "python",
   "nbconvert_exporter": "python",
   "pygments_lexer": "ipython3",
   "version": "3.7.3"
  }
 },
 "nbformat": 4,
 "nbformat_minor": 2
}
