{
 "cells": [
  {
   "cell_type": "code",
   "execution_count": 411,
   "metadata": {},
   "outputs": [],
   "source": [
    "import pandas as pd\n",
    "import numpy as np\n",
    "import random"
   ]
  },
  {
   "cell_type": "code",
   "execution_count": 477,
   "metadata": {},
   "outputs": [],
   "source": [
    "M = 1\n",
    "N = 1024\n",
    "random.seed(42)\n",
    "\n",
    "x = range(N)\n",
    "y = [random.uniform(-1,1) for i in x]"
   ]
  },
  {
   "cell_type": "code",
   "execution_count": 413,
   "metadata": {},
   "outputs": [],
   "source": [
    "def find_maxima_arr(x):\n",
    "    #import libraries\n",
    "    from scipy.signal import find_peaks\n",
    "    import numpy as np\n",
    "    \n",
    "    #find indeces of local maxima\n",
    "    x_new = find_peaks(x, distance = 4)\n",
    "    x_arr = x_new[0]\n",
    "    x_arr.astype(int)\n",
    "    \n",
    "    #transform an array to binary\n",
    "    indeces = list(x_arr)\n",
    "    for i in range(len(x)):\n",
    "        if i in indeces:\n",
    "            x[i] = 1\n",
    "        else: \n",
    "            x[i] = 0\n",
    "    return x"
   ]
  },
  {
   "cell_type": "code",
   "execution_count": 414,
   "metadata": {},
   "outputs": [],
   "source": [
    "def loc_min(arr, low, high, n): \n",
    "          \n",
    "    # Find index of middle element \n",
    "    mid = low + (high - low) // 2  \n",
    "          \n",
    "    # Compare middle element with its  \n",
    "    # neighbours (if neighbours exist) \n",
    "    if(mid == 0 or arr[mid - 1] > arr[mid] and\n",
    "       mid == n - 1 or arr[mid] < arr[mid + 1]): \n",
    "        return mid \n",
    "          \n",
    "    # If middle element is not minima and its left \n",
    "    # neighbour is smaller than it, then left half \n",
    "    # must have a local minima. \n",
    "    elif(mid > 0 and arr[mid - 1] < arr[mid]): \n",
    "        return loc_min(arr, low, mid - 1, n) \n",
    "          \n",
    "    # If middle element is not minima and its right \n",
    "    # neighbour is smaller than it, then right half \n",
    "    # must have a local minima. \n",
    "    return loc_min(arr, mid + 1, high, n) \n",
    "      \n",
    "\n"
   ]
  },
  {
   "cell_type": "code",
   "execution_count": null,
   "metadata": {},
   "outputs": [],
   "source": []
  },
  {
   "cell_type": "code",
   "execution_count": null,
   "metadata": {},
   "outputs": [],
   "source": []
  }
 ],
 "metadata": {
  "kernelspec": {
   "display_name": "Python 3",
   "language": "python",
   "name": "python3"
  },
  "language_info": {
   "codemirror_mode": {
    "name": "ipython",
    "version": 3
   },
   "file_extension": ".py",
   "mimetype": "text/x-python",
   "name": "python",
   "nbconvert_exporter": "python",
   "pygments_lexer": "ipython3",
   "version": "3.7.3"
  }
 },
 "nbformat": 4,
 "nbformat_minor": 2
}
